{
  "nbformat": 4,
  "nbformat_minor": 0,
  "metadata": {
    "kernelspec": {
      "language": "python",
      "display_name": "Python 3",
      "name": "python3"
    },
    "language_info": {
      "pygments_lexer": "ipython3",
      "nbconvert_exporter": "python",
      "version": "3.6.4",
      "file_extension": ".py",
      "codemirror_mode": {
        "name": "ipython",
        "version": 3
      },
      "name": "python",
      "mimetype": "text/x-python"
    },
    "colab": {
      "name": "Click through rate prediction-Predict which mobile ad will be clicked_Group 6.ipynb",
      "provenance": []
    }
  },
  "cells": [
    {
      "cell_type": "markdown",
      "metadata": {
        "id": "Q_OVCfxZwtM4"
      },
      "source": [
        "# Group 6\n",
        "# Apurv (291049)\n",
        "# Arshpreet Singh Bagga(291013)\n",
        "# Anuj Sharma (291070)\n",
        "# Jumbish S Dang (291032)\n",
        "# Bikramadityya Guho (291017)"
      ]
    },
    {
      "cell_type": "code",
      "metadata": {
        "_uuid": "8f2839f25d086af736a60e9eeb907d3b93b6e0e5",
        "_cell_guid": "b1076dfc-b9ad-4769-8c92-a6c4dae69d19",
        "execution": {
          "iopub.status.busy": "2021-07-25T10:08:20.129452Z",
          "iopub.execute_input": "2021-07-25T10:08:20.130168Z",
          "iopub.status.idle": "2021-07-25T10:08:20.148087Z",
          "shell.execute_reply.started": "2021-07-25T10:08:20.13005Z",
          "shell.execute_reply": "2021-07-25T10:08:20.146592Z"
        },
        "trusted": true,
        "colab": {
          "base_uri": "https://localhost:8080/"
        },
        "id": "ywI1qICilqpw",
        "outputId": "8a0beccf-87d2-4a78-e249-4da82c7c533d"
      },
      "source": [
        "\n",
        "import numpy as np \n",
        "import pandas as pd \n",
        "\n",
        "\n",
        "import os\n",
        "path =  \"/content/drive/MyDrive/Colab Notebooks/CTR\"\n",
        "os.listdir(path)\n"
      ],
      "execution_count": 16,
      "outputs": [
        {
          "output_type": "execute_result",
          "data": {
            "text/plain": [
              "['train.gz', 'sampleSubmission.gz', 'test.gz']"
            ]
          },
          "metadata": {},
          "execution_count": 16
        }
      ]
    },
    {
      "cell_type": "code",
      "metadata": {
        "execution": {
          "iopub.status.busy": "2021-07-25T10:08:20.150116Z",
          "iopub.execute_input": "2021-07-25T10:08:20.150853Z",
          "iopub.status.idle": "2021-07-25T10:08:21.225855Z",
          "shell.execute_reply.started": "2021-07-25T10:08:20.150801Z",
          "shell.execute_reply": "2021-07-25T10:08:21.224716Z"
        },
        "trusted": true,
        "id": "vbslpElNlqpy"
      },
      "source": [
        "import pandas as pd\n",
        "import numpy as np\n",
        "import seaborn as sns\n",
        "import matplotlib.pyplot as plt\n",
        "import gzip\n",
        "import random\n",
        "import warnings\n",
        "warnings.filterwarnings('ignore')"
      ],
      "execution_count": 17,
      "outputs": []
    },
    {
      "cell_type": "code",
      "metadata": {
        "colab": {
          "base_uri": "https://localhost:8080/"
        },
        "id": "IRU73hcKrJmd",
        "outputId": "7709f839-244d-4337-aa51-c1e968399a97"
      },
      "source": [
        "from google.colab import drive\n",
        "drive.mount('/content/drive')"
      ],
      "execution_count": 18,
      "outputs": [
        {
          "output_type": "stream",
          "text": [
            "Drive already mounted at /content/drive; to attempt to forcibly remount, call drive.mount(\"/content/drive\", force_remount=True).\n"
          ],
          "name": "stdout"
        }
      ]
    },
    {
      "cell_type": "code",
      "metadata": {
        "execution": {
          "iopub.status.busy": "2021-07-25T10:08:21.228393Z",
          "iopub.execute_input": "2021-07-25T10:08:21.228823Z",
          "iopub.status.idle": "2021-07-25T10:11:41.03336Z",
          "shell.execute_reply.started": "2021-07-25T10:08:21.228776Z",
          "shell.execute_reply": "2021-07-25T10:11:41.032519Z"
        },
        "trusted": true,
        "id": "mxMncsnPlqpz"
      },
      "source": [
        "n = 40428967  #total number of records in the clickstream data \n",
        "sample_size = 3000000\n",
        "skip_values = sorted(random.sample(range(1,n), n-sample_size))\n",
        "\n",
        "with gzip.open('../content/drive/MyDrive/Colab Notebooks/CTR/test.gz') as f:\n",
        "    train = pd.read_csv(f,skiprows = skip_values)\n",
        "train['hour'] = pd.to_datetime(train['hour'],format = '%y%m%d%H')"
      ],
      "execution_count": 19,
      "outputs": []
    },
    {
      "cell_type": "code",
      "metadata": {
        "execution": {
          "iopub.status.busy": "2021-07-25T10:11:41.035065Z",
          "iopub.execute_input": "2021-07-25T10:11:41.035655Z",
          "iopub.status.idle": "2021-07-25T10:11:41.071499Z",
          "shell.execute_reply.started": "2021-07-25T10:11:41.035611Z",
          "shell.execute_reply": "2021-07-25T10:11:41.070481Z"
        },
        "trusted": true,
        "colab": {
          "base_uri": "https://localhost:8080/",
          "height": 309
        },
        "id": "hi4SvXvAlqpz",
        "outputId": "eab76db9-7dd1-4119-d1f2-bca7d3b641f2"
      },
      "source": [
        "train.head()"
      ],
      "execution_count": 20,
      "outputs": [
        {
          "output_type": "execute_result",
          "data": {
            "text/html": [
              "<div>\n",
              "<style scoped>\n",
              "    .dataframe tbody tr th:only-of-type {\n",
              "        vertical-align: middle;\n",
              "    }\n",
              "\n",
              "    .dataframe tbody tr th {\n",
              "        vertical-align: top;\n",
              "    }\n",
              "\n",
              "    .dataframe thead th {\n",
              "        text-align: right;\n",
              "    }\n",
              "</style>\n",
              "<table border=\"1\" class=\"dataframe\">\n",
              "  <thead>\n",
              "    <tr style=\"text-align: right;\">\n",
              "      <th></th>\n",
              "      <th>id</th>\n",
              "      <th>hour</th>\n",
              "      <th>C1</th>\n",
              "      <th>banner_pos</th>\n",
              "      <th>site_id</th>\n",
              "      <th>site_domain</th>\n",
              "      <th>site_category</th>\n",
              "      <th>app_id</th>\n",
              "      <th>app_domain</th>\n",
              "      <th>app_category</th>\n",
              "      <th>device_id</th>\n",
              "      <th>device_ip</th>\n",
              "      <th>device_model</th>\n",
              "      <th>device_type</th>\n",
              "      <th>device_conn_type</th>\n",
              "      <th>C14</th>\n",
              "      <th>C15</th>\n",
              "      <th>C16</th>\n",
              "      <th>C17</th>\n",
              "      <th>C18</th>\n",
              "      <th>C19</th>\n",
              "      <th>C20</th>\n",
              "      <th>C21</th>\n",
              "    </tr>\n",
              "  </thead>\n",
              "  <tbody>\n",
              "    <tr>\n",
              "      <th>0</th>\n",
              "      <td>10002000217531288531</td>\n",
              "      <td>2014-10-31</td>\n",
              "      <td>1005</td>\n",
              "      <td>0</td>\n",
              "      <td>543a539e</td>\n",
              "      <td>c7ca3108</td>\n",
              "      <td>3e814130</td>\n",
              "      <td>ecad2386</td>\n",
              "      <td>7801e8d9</td>\n",
              "      <td>07d7df22</td>\n",
              "      <td>a99f214a</td>\n",
              "      <td>dc17d849</td>\n",
              "      <td>ac9ad752</td>\n",
              "      <td>1</td>\n",
              "      <td>0</td>\n",
              "      <td>23642</td>\n",
              "      <td>320</td>\n",
              "      <td>50</td>\n",
              "      <td>2709</td>\n",
              "      <td>3</td>\n",
              "      <td>39</td>\n",
              "      <td>-1</td>\n",
              "      <td>23</td>\n",
              "    </tr>\n",
              "    <tr>\n",
              "      <th>1</th>\n",
              "      <td>10002614093820007721</td>\n",
              "      <td>2014-10-31</td>\n",
              "      <td>1005</td>\n",
              "      <td>0</td>\n",
              "      <td>85f751fd</td>\n",
              "      <td>c4e18dd6</td>\n",
              "      <td>50e219e0</td>\n",
              "      <td>03528b27</td>\n",
              "      <td>2347f47a</td>\n",
              "      <td>8ded1f7a</td>\n",
              "      <td>df62db53</td>\n",
              "      <td>346c1c70</td>\n",
              "      <td>81892725</td>\n",
              "      <td>1</td>\n",
              "      <td>0</td>\n",
              "      <td>17016</td>\n",
              "      <td>320</td>\n",
              "      <td>50</td>\n",
              "      <td>1873</td>\n",
              "      <td>3</td>\n",
              "      <td>39</td>\n",
              "      <td>-1</td>\n",
              "      <td>23</td>\n",
              "    </tr>\n",
              "    <tr>\n",
              "      <th>2</th>\n",
              "      <td>10003460544097147762</td>\n",
              "      <td>2014-10-31</td>\n",
              "      <td>1005</td>\n",
              "      <td>1</td>\n",
              "      <td>d9750ee7</td>\n",
              "      <td>98572c79</td>\n",
              "      <td>f028772b</td>\n",
              "      <td>ecad2386</td>\n",
              "      <td>7801e8d9</td>\n",
              "      <td>07d7df22</td>\n",
              "      <td>a99f214a</td>\n",
              "      <td>2d4180b2</td>\n",
              "      <td>8a4875bd</td>\n",
              "      <td>1</td>\n",
              "      <td>0</td>\n",
              "      <td>6392</td>\n",
              "      <td>320</td>\n",
              "      <td>50</td>\n",
              "      <td>547</td>\n",
              "      <td>3</td>\n",
              "      <td>47</td>\n",
              "      <td>100084</td>\n",
              "      <td>23</td>\n",
              "    </tr>\n",
              "    <tr>\n",
              "      <th>3</th>\n",
              "      <td>10007361632582633559</td>\n",
              "      <td>2014-10-31</td>\n",
              "      <td>1002</td>\n",
              "      <td>0</td>\n",
              "      <td>9e8e8d09</td>\n",
              "      <td>16a36ef3</td>\n",
              "      <td>50e219e0</td>\n",
              "      <td>ecad2386</td>\n",
              "      <td>7801e8d9</td>\n",
              "      <td>07d7df22</td>\n",
              "      <td>52260ad2</td>\n",
              "      <td>6118f3f9</td>\n",
              "      <td>dca31af0</td>\n",
              "      <td>0</td>\n",
              "      <td>0</td>\n",
              "      <td>22700</td>\n",
              "      <td>320</td>\n",
              "      <td>50</td>\n",
              "      <td>2624</td>\n",
              "      <td>0</td>\n",
              "      <td>35</td>\n",
              "      <td>-1</td>\n",
              "      <td>221</td>\n",
              "    </tr>\n",
              "    <tr>\n",
              "      <th>4</th>\n",
              "      <td>10007689954273878529</td>\n",
              "      <td>2014-10-31</td>\n",
              "      <td>1005</td>\n",
              "      <td>0</td>\n",
              "      <td>85f751fd</td>\n",
              "      <td>c4e18dd6</td>\n",
              "      <td>50e219e0</td>\n",
              "      <td>98fed791</td>\n",
              "      <td>d9b5648e</td>\n",
              "      <td>0f2161f8</td>\n",
              "      <td>a99f214a</td>\n",
              "      <td>592568ac</td>\n",
              "      <td>aad45b01</td>\n",
              "      <td>1</td>\n",
              "      <td>0</td>\n",
              "      <td>19743</td>\n",
              "      <td>320</td>\n",
              "      <td>50</td>\n",
              "      <td>2264</td>\n",
              "      <td>3</td>\n",
              "      <td>425</td>\n",
              "      <td>100000</td>\n",
              "      <td>61</td>\n",
              "    </tr>\n",
              "  </tbody>\n",
              "</table>\n",
              "</div>"
            ],
            "text/plain": [
              "                     id       hour    C1  banner_pos  ... C18  C19     C20  C21\n",
              "0  10002000217531288531 2014-10-31  1005           0  ...   3   39      -1   23\n",
              "1  10002614093820007721 2014-10-31  1005           0  ...   3   39      -1   23\n",
              "2  10003460544097147762 2014-10-31  1005           1  ...   3   47  100084   23\n",
              "3  10007361632582633559 2014-10-31  1002           0  ...   0   35      -1  221\n",
              "4  10007689954273878529 2014-10-31  1005           0  ...   3  425  100000   61\n",
              "\n",
              "[5 rows x 23 columns]"
            ]
          },
          "metadata": {},
          "execution_count": 20
        }
      ]
    },
    {
      "cell_type": "code",
      "metadata": {
        "execution": {
          "iopub.status.busy": "2021-07-25T10:11:41.072933Z",
          "iopub.execute_input": "2021-07-25T10:11:41.073541Z",
          "iopub.status.idle": "2021-07-25T10:11:41.094135Z",
          "shell.execute_reply.started": "2021-07-25T10:11:41.073495Z",
          "shell.execute_reply": "2021-07-25T10:11:41.092948Z"
        },
        "trusted": true,
        "colab": {
          "base_uri": "https://localhost:8080/"
        },
        "id": "3Pf1ptiflqp0",
        "outputId": "ef959450-b569-4b39-da18-0a6a3713414d"
      },
      "source": [
        "train.info()"
      ],
      "execution_count": 21,
      "outputs": [
        {
          "output_type": "stream",
          "text": [
            "<class 'pandas.core.frame.DataFrame'>\n",
            "RangeIndex: 339541 entries, 0 to 339540\n",
            "Data columns (total 23 columns):\n",
            " #   Column            Non-Null Count   Dtype         \n",
            "---  ------            --------------   -----         \n",
            " 0   id                339541 non-null  uint64        \n",
            " 1   hour              339541 non-null  datetime64[ns]\n",
            " 2   C1                339541 non-null  int64         \n",
            " 3   banner_pos        339541 non-null  int64         \n",
            " 4   site_id           339541 non-null  object        \n",
            " 5   site_domain       339541 non-null  object        \n",
            " 6   site_category     339541 non-null  object        \n",
            " 7   app_id            339541 non-null  object        \n",
            " 8   app_domain        339541 non-null  object        \n",
            " 9   app_category      339541 non-null  object        \n",
            " 10  device_id         339541 non-null  object        \n",
            " 11  device_ip         339541 non-null  object        \n",
            " 12  device_model      339541 non-null  object        \n",
            " 13  device_type       339541 non-null  int64         \n",
            " 14  device_conn_type  339541 non-null  int64         \n",
            " 15  C14               339541 non-null  int64         \n",
            " 16  C15               339541 non-null  int64         \n",
            " 17  C16               339541 non-null  int64         \n",
            " 18  C17               339541 non-null  int64         \n",
            " 19  C18               339541 non-null  int64         \n",
            " 20  C19               339541 non-null  int64         \n",
            " 21  C20               339541 non-null  int64         \n",
            " 22  C21               339541 non-null  int64         \n",
            "dtypes: datetime64[ns](1), int64(12), object(9), uint64(1)\n",
            "memory usage: 59.6+ MB\n"
          ],
          "name": "stdout"
        }
      ]
    },
    {
      "cell_type": "code",
      "metadata": {
        "execution": {
          "iopub.status.busy": "2021-07-25T10:11:41.095957Z",
          "iopub.execute_input": "2021-07-25T10:11:41.096858Z",
          "iopub.status.idle": "2021-07-25T10:11:43.79439Z",
          "shell.execute_reply.started": "2021-07-25T10:11:41.096757Z",
          "shell.execute_reply": "2021-07-25T10:11:43.793455Z"
        },
        "trusted": true,
        "colab": {
          "base_uri": "https://localhost:8080/"
        },
        "id": "HMrVKp0Blqp0",
        "outputId": "1e5335ba-ac08-439a-b1ef-02d5c9c215af"
      },
      "source": [
        "train.isnull().sum()"
      ],
      "execution_count": 22,
      "outputs": [
        {
          "output_type": "execute_result",
          "data": {
            "text/plain": [
              "id                  0\n",
              "hour                0\n",
              "C1                  0\n",
              "banner_pos          0\n",
              "site_id             0\n",
              "site_domain         0\n",
              "site_category       0\n",
              "app_id              0\n",
              "app_domain          0\n",
              "app_category        0\n",
              "device_id           0\n",
              "device_ip           0\n",
              "device_model        0\n",
              "device_type         0\n",
              "device_conn_type    0\n",
              "C14                 0\n",
              "C15                 0\n",
              "C16                 0\n",
              "C17                 0\n",
              "C18                 0\n",
              "C19                 0\n",
              "C20                 0\n",
              "C21                 0\n",
              "dtype: int64"
            ]
          },
          "metadata": {},
          "execution_count": 22
        }
      ]
    },
    {
      "cell_type": "code",
      "metadata": {
        "execution": {
          "iopub.status.busy": "2021-07-25T10:11:43.795584Z",
          "iopub.execute_input": "2021-07-25T10:11:43.79587Z",
          "iopub.status.idle": "2021-07-25T10:11:56.36951Z",
          "shell.execute_reply.started": "2021-07-25T10:11:43.795843Z",
          "shell.execute_reply": "2021-07-25T10:11:56.368348Z"
        },
        "trusted": true,
        "colab": {
          "base_uri": "https://localhost:8080/",
          "height": 574
        },
        "id": "MLDlUXhjlqp1",
        "outputId": "ad7a3e20-c38c-4e5b-9018-e56d05cc6e11"
      },
      "source": [
        "train.describe(include = 'all')"
      ],
      "execution_count": 23,
      "outputs": [
        {
          "output_type": "execute_result",
          "data": {
            "text/html": [
              "<div>\n",
              "<style scoped>\n",
              "    .dataframe tbody tr th:only-of-type {\n",
              "        vertical-align: middle;\n",
              "    }\n",
              "\n",
              "    .dataframe tbody tr th {\n",
              "        vertical-align: top;\n",
              "    }\n",
              "\n",
              "    .dataframe thead th {\n",
              "        text-align: right;\n",
              "    }\n",
              "</style>\n",
              "<table border=\"1\" class=\"dataframe\">\n",
              "  <thead>\n",
              "    <tr style=\"text-align: right;\">\n",
              "      <th></th>\n",
              "      <th>id</th>\n",
              "      <th>hour</th>\n",
              "      <th>C1</th>\n",
              "      <th>banner_pos</th>\n",
              "      <th>site_id</th>\n",
              "      <th>site_domain</th>\n",
              "      <th>site_category</th>\n",
              "      <th>app_id</th>\n",
              "      <th>app_domain</th>\n",
              "      <th>app_category</th>\n",
              "      <th>device_id</th>\n",
              "      <th>device_ip</th>\n",
              "      <th>device_model</th>\n",
              "      <th>device_type</th>\n",
              "      <th>device_conn_type</th>\n",
              "      <th>C14</th>\n",
              "      <th>C15</th>\n",
              "      <th>C16</th>\n",
              "      <th>C17</th>\n",
              "      <th>C18</th>\n",
              "      <th>C19</th>\n",
              "      <th>C20</th>\n",
              "      <th>C21</th>\n",
              "    </tr>\n",
              "  </thead>\n",
              "  <tbody>\n",
              "    <tr>\n",
              "      <th>count</th>\n",
              "      <td>3.395410e+05</td>\n",
              "      <td>339541</td>\n",
              "      <td>339541.000000</td>\n",
              "      <td>339541.000000</td>\n",
              "      <td>339541</td>\n",
              "      <td>339541</td>\n",
              "      <td>339541</td>\n",
              "      <td>339541</td>\n",
              "      <td>339541</td>\n",
              "      <td>339541</td>\n",
              "      <td>339541</td>\n",
              "      <td>339541</td>\n",
              "      <td>339541</td>\n",
              "      <td>339541.000000</td>\n",
              "      <td>339541.000000</td>\n",
              "      <td>339541.000000</td>\n",
              "      <td>339541.000000</td>\n",
              "      <td>339541.000000</td>\n",
              "      <td>339541.000000</td>\n",
              "      <td>339541.000000</td>\n",
              "      <td>339541.00000</td>\n",
              "      <td>339541.000000</td>\n",
              "      <td>339541.000000</td>\n",
              "    </tr>\n",
              "    <tr>\n",
              "      <th>unique</th>\n",
              "      <td>NaN</td>\n",
              "      <td>24</td>\n",
              "      <td>NaN</td>\n",
              "      <td>NaN</td>\n",
              "      <td>1591</td>\n",
              "      <td>1554</td>\n",
              "      <td>19</td>\n",
              "      <td>1746</td>\n",
              "      <td>93</td>\n",
              "      <td>24</td>\n",
              "      <td>38152</td>\n",
              "      <td>199401</td>\n",
              "      <td>3771</td>\n",
              "      <td>NaN</td>\n",
              "      <td>NaN</td>\n",
              "      <td>NaN</td>\n",
              "      <td>NaN</td>\n",
              "      <td>NaN</td>\n",
              "      <td>NaN</td>\n",
              "      <td>NaN</td>\n",
              "      <td>NaN</td>\n",
              "      <td>NaN</td>\n",
              "      <td>NaN</td>\n",
              "    </tr>\n",
              "    <tr>\n",
              "      <th>top</th>\n",
              "      <td>NaN</td>\n",
              "      <td>2014-10-31 09:00:00</td>\n",
              "      <td>NaN</td>\n",
              "      <td>NaN</td>\n",
              "      <td>85f751fd</td>\n",
              "      <td>c4e18dd6</td>\n",
              "      <td>50e219e0</td>\n",
              "      <td>ecad2386</td>\n",
              "      <td>7801e8d9</td>\n",
              "      <td>07d7df22</td>\n",
              "      <td>a99f214a</td>\n",
              "      <td>6b9769f2</td>\n",
              "      <td>1f0bc64f</td>\n",
              "      <td>NaN</td>\n",
              "      <td>NaN</td>\n",
              "      <td>NaN</td>\n",
              "      <td>NaN</td>\n",
              "      <td>NaN</td>\n",
              "      <td>NaN</td>\n",
              "      <td>NaN</td>\n",
              "      <td>NaN</td>\n",
              "      <td>NaN</td>\n",
              "      <td>NaN</td>\n",
              "    </tr>\n",
              "    <tr>\n",
              "      <th>freq</th>\n",
              "      <td>NaN</td>\n",
              "      <td>22007</td>\n",
              "      <td>NaN</td>\n",
              "      <td>NaN</td>\n",
              "      <td>127437</td>\n",
              "      <td>130433</td>\n",
              "      <td>138369</td>\n",
              "      <td>212104</td>\n",
              "      <td>220552</td>\n",
              "      <td>213866</td>\n",
              "      <td>292365</td>\n",
              "      <td>1463</td>\n",
              "      <td>15666</td>\n",
              "      <td>NaN</td>\n",
              "      <td>NaN</td>\n",
              "      <td>NaN</td>\n",
              "      <td>NaN</td>\n",
              "      <td>NaN</td>\n",
              "      <td>NaN</td>\n",
              "      <td>NaN</td>\n",
              "      <td>NaN</td>\n",
              "      <td>NaN</td>\n",
              "      <td>NaN</td>\n",
              "    </tr>\n",
              "    <tr>\n",
              "      <th>first</th>\n",
              "      <td>NaN</td>\n",
              "      <td>2014-10-31 00:00:00</td>\n",
              "      <td>NaN</td>\n",
              "      <td>NaN</td>\n",
              "      <td>NaN</td>\n",
              "      <td>NaN</td>\n",
              "      <td>NaN</td>\n",
              "      <td>NaN</td>\n",
              "      <td>NaN</td>\n",
              "      <td>NaN</td>\n",
              "      <td>NaN</td>\n",
              "      <td>NaN</td>\n",
              "      <td>NaN</td>\n",
              "      <td>NaN</td>\n",
              "      <td>NaN</td>\n",
              "      <td>NaN</td>\n",
              "      <td>NaN</td>\n",
              "      <td>NaN</td>\n",
              "      <td>NaN</td>\n",
              "      <td>NaN</td>\n",
              "      <td>NaN</td>\n",
              "      <td>NaN</td>\n",
              "      <td>NaN</td>\n",
              "    </tr>\n",
              "    <tr>\n",
              "      <th>last</th>\n",
              "      <td>NaN</td>\n",
              "      <td>2014-10-31 23:00:00</td>\n",
              "      <td>NaN</td>\n",
              "      <td>NaN</td>\n",
              "      <td>NaN</td>\n",
              "      <td>NaN</td>\n",
              "      <td>NaN</td>\n",
              "      <td>NaN</td>\n",
              "      <td>NaN</td>\n",
              "      <td>NaN</td>\n",
              "      <td>NaN</td>\n",
              "      <td>NaN</td>\n",
              "      <td>NaN</td>\n",
              "      <td>NaN</td>\n",
              "      <td>NaN</td>\n",
              "      <td>NaN</td>\n",
              "      <td>NaN</td>\n",
              "      <td>NaN</td>\n",
              "      <td>NaN</td>\n",
              "      <td>NaN</td>\n",
              "      <td>NaN</td>\n",
              "      <td>NaN</td>\n",
              "      <td>NaN</td>\n",
              "    </tr>\n",
              "    <tr>\n",
              "      <th>mean</th>\n",
              "      <td>9.233663e+18</td>\n",
              "      <td>NaN</td>\n",
              "      <td>1004.988299</td>\n",
              "      <td>0.211382</td>\n",
              "      <td>NaN</td>\n",
              "      <td>NaN</td>\n",
              "      <td>NaN</td>\n",
              "      <td>NaN</td>\n",
              "      <td>NaN</td>\n",
              "      <td>NaN</td>\n",
              "      <td>NaN</td>\n",
              "      <td>NaN</td>\n",
              "      <td>NaN</td>\n",
              "      <td>1.009507</td>\n",
              "      <td>0.377383</td>\n",
              "      <td>21713.568155</td>\n",
              "      <td>320.217211</td>\n",
              "      <td>59.555088</td>\n",
              "      <td>2469.317066</td>\n",
              "      <td>1.305442</td>\n",
              "      <td>185.42045</td>\n",
              "      <td>53502.568497</td>\n",
              "      <td>92.153089</td>\n",
              "    </tr>\n",
              "    <tr>\n",
              "      <th>std</th>\n",
              "      <td>5.323791e+18</td>\n",
              "      <td>NaN</td>\n",
              "      <td>0.930577</td>\n",
              "      <td>0.475535</td>\n",
              "      <td>NaN</td>\n",
              "      <td>NaN</td>\n",
              "      <td>NaN</td>\n",
              "      <td>NaN</td>\n",
              "      <td>NaN</td>\n",
              "      <td>NaN</td>\n",
              "      <td>NaN</td>\n",
              "      <td>NaN</td>\n",
              "      <td>NaN</td>\n",
              "      <td>0.428189</td>\n",
              "      <td>0.900338</td>\n",
              "      <td>3765.423330</td>\n",
              "      <td>28.794259</td>\n",
              "      <td>46.722098</td>\n",
              "      <td>475.502606</td>\n",
              "      <td>1.305401</td>\n",
              "      <td>262.84778</td>\n",
              "      <td>49942.043013</td>\n",
              "      <td>84.043357</td>\n",
              "    </tr>\n",
              "    <tr>\n",
              "      <th>min</th>\n",
              "      <td>1.282261e+13</td>\n",
              "      <td>NaN</td>\n",
              "      <td>1001.000000</td>\n",
              "      <td>0.000000</td>\n",
              "      <td>NaN</td>\n",
              "      <td>NaN</td>\n",
              "      <td>NaN</td>\n",
              "      <td>NaN</td>\n",
              "      <td>NaN</td>\n",
              "      <td>NaN</td>\n",
              "      <td>NaN</td>\n",
              "      <td>NaN</td>\n",
              "      <td>NaN</td>\n",
              "      <td>0.000000</td>\n",
              "      <td>0.000000</td>\n",
              "      <td>375.000000</td>\n",
              "      <td>120.000000</td>\n",
              "      <td>20.000000</td>\n",
              "      <td>112.000000</td>\n",
              "      <td>0.000000</td>\n",
              "      <td>33.00000</td>\n",
              "      <td>-1.000000</td>\n",
              "      <td>13.000000</td>\n",
              "    </tr>\n",
              "    <tr>\n",
              "      <th>25%</th>\n",
              "      <td>4.626283e+18</td>\n",
              "      <td>NaN</td>\n",
              "      <td>1005.000000</td>\n",
              "      <td>0.000000</td>\n",
              "      <td>NaN</td>\n",
              "      <td>NaN</td>\n",
              "      <td>NaN</td>\n",
              "      <td>NaN</td>\n",
              "      <td>NaN</td>\n",
              "      <td>NaN</td>\n",
              "      <td>NaN</td>\n",
              "      <td>NaN</td>\n",
              "      <td>NaN</td>\n",
              "      <td>1.000000</td>\n",
              "      <td>0.000000</td>\n",
              "      <td>21611.000000</td>\n",
              "      <td>320.000000</td>\n",
              "      <td>50.000000</td>\n",
              "      <td>2480.000000</td>\n",
              "      <td>0.000000</td>\n",
              "      <td>35.00000</td>\n",
              "      <td>-1.000000</td>\n",
              "      <td>23.000000</td>\n",
              "    </tr>\n",
              "    <tr>\n",
              "      <th>50%</th>\n",
              "      <td>9.253209e+18</td>\n",
              "      <td>NaN</td>\n",
              "      <td>1005.000000</td>\n",
              "      <td>0.000000</td>\n",
              "      <td>NaN</td>\n",
              "      <td>NaN</td>\n",
              "      <td>NaN</td>\n",
              "      <td>NaN</td>\n",
              "      <td>NaN</td>\n",
              "      <td>NaN</td>\n",
              "      <td>NaN</td>\n",
              "      <td>NaN</td>\n",
              "      <td>NaN</td>\n",
              "      <td>1.000000</td>\n",
              "      <td>0.000000</td>\n",
              "      <td>23137.000000</td>\n",
              "      <td>320.000000</td>\n",
              "      <td>50.000000</td>\n",
              "      <td>2664.000000</td>\n",
              "      <td>1.000000</td>\n",
              "      <td>39.00000</td>\n",
              "      <td>100074.000000</td>\n",
              "      <td>51.000000</td>\n",
              "    </tr>\n",
              "    <tr>\n",
              "      <th>75%</th>\n",
              "      <td>1.382885e+19</td>\n",
              "      <td>NaN</td>\n",
              "      <td>1005.000000</td>\n",
              "      <td>0.000000</td>\n",
              "      <td>NaN</td>\n",
              "      <td>NaN</td>\n",
              "      <td>NaN</td>\n",
              "      <td>NaN</td>\n",
              "      <td>NaN</td>\n",
              "      <td>NaN</td>\n",
              "      <td>NaN</td>\n",
              "      <td>NaN</td>\n",
              "      <td>NaN</td>\n",
              "      <td>1.000000</td>\n",
              "      <td>0.000000</td>\n",
              "      <td>24085.000000</td>\n",
              "      <td>320.000000</td>\n",
              "      <td>50.000000</td>\n",
              "      <td>2761.000000</td>\n",
              "      <td>3.000000</td>\n",
              "      <td>295.00000</td>\n",
              "      <td>100111.000000</td>\n",
              "      <td>221.000000</td>\n",
              "    </tr>\n",
              "    <tr>\n",
              "      <th>max</th>\n",
              "      <td>1.844674e+19</td>\n",
              "      <td>NaN</td>\n",
              "      <td>1012.000000</td>\n",
              "      <td>7.000000</td>\n",
              "      <td>NaN</td>\n",
              "      <td>NaN</td>\n",
              "      <td>NaN</td>\n",
              "      <td>NaN</td>\n",
              "      <td>NaN</td>\n",
              "      <td>NaN</td>\n",
              "      <td>NaN</td>\n",
              "      <td>NaN</td>\n",
              "      <td>NaN</td>\n",
              "      <td>5.000000</td>\n",
              "      <td>5.000000</td>\n",
              "      <td>24349.000000</td>\n",
              "      <td>1024.000000</td>\n",
              "      <td>1024.000000</td>\n",
              "      <td>2793.000000</td>\n",
              "      <td>3.000000</td>\n",
              "      <td>1831.00000</td>\n",
              "      <td>100248.000000</td>\n",
              "      <td>255.000000</td>\n",
              "    </tr>\n",
              "  </tbody>\n",
              "</table>\n",
              "</div>"
            ],
            "text/plain": [
              "                  id                 hour  ...            C20            C21\n",
              "count   3.395410e+05               339541  ...  339541.000000  339541.000000\n",
              "unique           NaN                   24  ...            NaN            NaN\n",
              "top              NaN  2014-10-31 09:00:00  ...            NaN            NaN\n",
              "freq             NaN                22007  ...            NaN            NaN\n",
              "first            NaN  2014-10-31 00:00:00  ...            NaN            NaN\n",
              "last             NaN  2014-10-31 23:00:00  ...            NaN            NaN\n",
              "mean    9.233663e+18                  NaN  ...   53502.568497      92.153089\n",
              "std     5.323791e+18                  NaN  ...   49942.043013      84.043357\n",
              "min     1.282261e+13                  NaN  ...      -1.000000      13.000000\n",
              "25%     4.626283e+18                  NaN  ...      -1.000000      23.000000\n",
              "50%     9.253209e+18                  NaN  ...  100074.000000      51.000000\n",
              "75%     1.382885e+19                  NaN  ...  100111.000000     221.000000\n",
              "max     1.844674e+19                  NaN  ...  100248.000000     255.000000\n",
              "\n",
              "[13 rows x 23 columns]"
            ]
          },
          "metadata": {},
          "execution_count": 23
        }
      ]
    },
    {
      "cell_type": "code",
      "metadata": {
        "id": "ysQGl8DUv2cm"
      },
      "source": [
        "X = train.drop('click', axis=1)\n",
        "y = train.click"
      ],
      "execution_count": null,
      "outputs": []
    },
    {
      "cell_type": "code",
      "metadata": {
        "id": "uNkHxUqEv60o"
      },
      "source": [
        "from sklearn.model_selection import train_test_split\n",
        "X_train,X_test,y_train,y_test = train_test_split(X,y,test_size = 0.3,random_state = 42)"
      ],
      "execution_count": null,
      "outputs": []
    },
    {
      "cell_type": "code",
      "metadata": {
        "id": "q-at9DygwKhC"
      },
      "source": [
        "num_cols = X.select_dtypes(include = ['int','float']).columns.tolist()\n",
        "categorical_cols = X.select_dtypes(include = ['object']).columns.tolist()\n",
        "print(num_cols)\n",
        "print(categorical_cols)"
      ],
      "execution_count": null,
      "outputs": []
    },
    {
      "cell_type": "markdown",
      "metadata": {
        "id": "zyuGCk_Wlqp2"
      },
      "source": [
        "## Hashing\n"
      ]
    },
    {
      "cell_type": "code",
      "metadata": {
        "id": "JYI9E5sbwPLy"
      },
      "source": [
        "for col in categorical_cols:\n",
        "\tX_train[col] = X_train[col].apply(lambda x: hash(x))\n",
        "    \n",
        "for col in categorical_cols:\n",
        "    X_test[col] = X_test[col].apply(lambda x:hash(x))"
      ],
      "execution_count": null,
      "outputs": []
    },
    {
      "cell_type": "markdown",
      "metadata": {
        "id": "HkUHViczlqp3"
      },
      "source": [
        "## Scaling the Numerical Values"
      ]
    },
    {
      "cell_type": "code",
      "metadata": {
        "execution": {
          "iopub.status.busy": "2021-07-25T10:12:28.272849Z",
          "iopub.execute_input": "2021-07-25T10:12:28.273373Z",
          "iopub.status.idle": "2021-07-25T10:12:42.292563Z",
          "shell.execute_reply.started": "2021-07-25T10:12:28.27334Z",
          "shell.execute_reply": "2021-07-25T10:12:42.291655Z"
        },
        "trusted": true,
        "id": "1E2bsrUZlqp3"
      },
      "source": [
        "from sklearn.preprocessing import StandardScaler\n",
        "std = StandardScaler()\n",
        "X_train[num_cols] = std.fit_transform(X_train[num_cols])\n",
        "X_test[num_cols] = std.transform(X_test[num_cols])"
      ],
      "execution_count": null,
      "outputs": []
    },
    {
      "cell_type": "code",
      "metadata": {
        "execution": {
          "iopub.status.busy": "2021-07-25T10:12:42.293817Z",
          "iopub.execute_input": "2021-07-25T10:12:42.294384Z",
          "iopub.status.idle": "2021-07-25T10:12:43.128909Z",
          "shell.execute_reply.started": "2021-07-25T10:12:42.294347Z",
          "shell.execute_reply": "2021-07-25T10:12:43.127787Z"
        },
        "trusted": true,
        "id": "teZpINxSlqp4"
      },
      "source": [
        "X_train['user_info'] = X_train.device_ip + X_train.device_model + X_train.device_id\n",
        "X_train = X_train.drop(['device_id','device_ip','device_model','id','hour'],axis=1)\n",
        "    \n",
        "X_train['device_info'] = X_train.device_type + X_train.banner_pos + X_train.device_conn_type\n",
        "X_train = X_train.drop(['banner_pos','device_conn_type','device_type'],axis=1)\n",
        "\n",
        "X_test['user_info'] = X_test.device_ip + X_test.device_model + X_test.device_id\n",
        "X_test = X_test.drop(['device_id','device_ip','device_model','id','hour'],axis=1)\n",
        "    \n",
        "X_test['device_info'] = X_test.device_type + X_test.banner_pos + X_test.device_conn_type\n",
        "X_test = X_test.drop(['banner_pos','device_conn_type','device_type'],axis=1)"
      ],
      "execution_count": null,
      "outputs": []
    },
    {
      "cell_type": "markdown",
      "metadata": {
        "id": "i2M0MPPhlqp4"
      },
      "source": [
        "## Model - Decision Tree Classifier"
      ]
    },
    {
      "cell_type": "code",
      "metadata": {
        "execution": {
          "iopub.status.busy": "2021-07-25T10:12:43.13048Z",
          "iopub.execute_input": "2021-07-25T10:12:43.130887Z",
          "iopub.status.idle": "2021-07-25T10:12:59.628406Z",
          "shell.execute_reply.started": "2021-07-25T10:12:43.130844Z",
          "shell.execute_reply": "2021-07-25T10:12:59.627361Z"
        },
        "trusted": true,
        "id": "0Q93_kVYlqp5"
      },
      "source": [
        "from sklearn.tree import DecisionTreeClassifier\n",
        "tree = DecisionTreeClassifier(max_depth = 10)\n",
        "tree.fit(X_train,y_train)\n",
        "print('Train Score:',tree.score(X_train,y_train))\n",
        "print('Test Score:',tree.score(X_test,y_test))"
      ],
      "execution_count": null,
      "outputs": []
    },
    {
      "cell_type": "code",
      "metadata": {
        "execution": {
          "iopub.status.busy": "2021-07-25T10:12:59.63003Z",
          "iopub.execute_input": "2021-07-25T10:12:59.630358Z",
          "iopub.status.idle": "2021-07-25T10:13:00.262004Z",
          "shell.execute_reply.started": "2021-07-25T10:12:59.630327Z",
          "shell.execute_reply": "2021-07-25T10:13:00.261064Z"
        },
        "trusted": true,
        "id": "TV4NJq9Flqp5"
      },
      "source": [
        "from sklearn.metrics import roc_curve,confusion_matrix,precision_score,recall_score,roc_auc_score\n",
        "y_score = tree.predict_proba(X_test)\n",
        "fpr, tpr, thresholds = roc_curve(y_test, y_score[:, 1])\n",
        "roc_auc_score = roc_auc_score(y_test,y_score[:,1])\n",
        "print(roc_auc_score)"
      ],
      "execution_count": null,
      "outputs": []
    },
    {
      "cell_type": "code",
      "metadata": {
        "execution": {
          "iopub.status.busy": "2021-07-25T10:13:00.263415Z",
          "iopub.execute_input": "2021-07-25T10:13:00.263729Z",
          "iopub.status.idle": "2021-07-25T10:13:01.215245Z",
          "shell.execute_reply.started": "2021-07-25T10:13:00.263697Z",
          "shell.execute_reply": "2021-07-25T10:13:01.214081Z"
        },
        "trusted": true,
        "id": "QyOU6TDOlqp5"
      },
      "source": [
        "y_pred = tree.predict(X_test)\n",
        "precision = precision_score(y_test, y_pred, average = 'weighted')\n",
        "recall = recall_score(y_test, y_pred, average = 'weighted')\n",
        "print(\"Precision: %s, Recall: %s\" %(precision, recall))"
      ],
      "execution_count": null,
      "outputs": []
    },
    {
      "cell_type": "code",
      "metadata": {
        "execution": {
          "iopub.status.busy": "2021-07-25T10:13:01.216691Z",
          "iopub.execute_input": "2021-07-25T10:13:01.21709Z",
          "iopub.status.idle": "2021-07-25T10:13:02.488704Z",
          "shell.execute_reply.started": "2021-07-25T10:13:01.217048Z",
          "shell.execute_reply": "2021-07-25T10:13:02.487929Z"
        },
        "trusted": true,
        "id": "_iG0AgpIlqp6"
      },
      "source": [
        "matrix = confusion_matrix(y_test,y_pred)\n",
        "tn, fp, fn, tp = matrix.ravel()\n",
        "print(matrix)"
      ],
      "execution_count": null,
      "outputs": []
    },
    {
      "cell_type": "code",
      "metadata": {
        "execution": {
          "iopub.status.busy": "2021-07-25T10:13:02.48982Z",
          "iopub.execute_input": "2021-07-25T10:13:02.49033Z",
          "iopub.status.idle": "2021-07-25T10:14:47.725767Z",
          "shell.execute_reply.started": "2021-07-25T10:13:02.490297Z",
          "shell.execute_reply": "2021-07-25T10:14:47.724463Z"
        },
        "trusted": true,
        "id": "Dc-mXhp3lqp6"
      },
      "source": [
        "for max_depth_val in [2, 3, 5, 10, 15, 20]:\n",
        "    clf = DecisionTreeClassifier(max_depth = max_depth_val)\n",
        "    print(\"Evaluating tree with max_depth = %s\" %(max_depth_val))\n",
        "    y_pred = tree.fit(X_train,y_train).predict(X_test) \n",
        "    print(\"Confusion matrix: \")\n",
        "    print(confusion_matrix(y_test, y_pred))\n",
        "    prec = precision_score(y_test, y_pred, average = 'weighted')\n",
        "    recall = recall_score(y_test, y_pred, average = 'weighted')\n",
        "    print(\"Precision: %s, Recall: %s\" %(prec, recall))"
      ],
      "execution_count": null,
      "outputs": []
    },
    {
      "cell_type": "code",
      "metadata": {
        "execution": {
          "iopub.status.busy": "2021-07-25T10:14:47.727362Z",
          "iopub.execute_input": "2021-07-25T10:14:47.727772Z",
          "iopub.status.idle": "2021-07-25T10:17:11.824119Z",
          "shell.execute_reply.started": "2021-07-25T10:14:47.727728Z",
          "shell.execute_reply": "2021-07-25T10:17:11.822748Z"
        },
        "trusted": true,
        "id": "PODli8jElqp6"
      },
      "source": [
        "from sklearn.model_selection import KFold,cross_val_score\n",
        "for max_depth_val in [3, 5, 10]:\n",
        "    k_fold = KFold(n_splits = 4)\n",
        "    clf = DecisionTreeClassifier(max_depth = max_depth_val)\n",
        "    print(\"Evaluating Decision Tree for max_depth = %s\" %(max_depth_val))\n",
        "    y_pred = tree.fit(X_train, y_train).predict(X_test) \n",
        "  \n",
        "    cv_precision = cross_val_score(clf, X_train, y_train, cv = k_fold, scoring = 'recall_weighted')\n",
        "    precision = recall_score(y_test, y_pred, average = 'weighted')\n",
        "    print(\"Cross validation Recall: %s\" %(cv_precision.mean()))\n",
        "    print(\"Test Recall: %s\" %(precision.mean()))"
      ],
      "execution_count": null,
      "outputs": []
    },
    {
      "cell_type": "code",
      "metadata": {
        "execution": {
          "iopub.status.busy": "2021-07-25T10:17:11.826162Z",
          "iopub.execute_input": "2021-07-25T10:17:11.826513Z",
          "iopub.status.idle": "2021-07-25T10:33:42.70862Z",
          "shell.execute_reply.started": "2021-07-25T10:17:11.826479Z",
          "shell.execute_reply": "2021-07-25T10:33:42.707617Z"
        },
        "trusted": true,
        "id": "Mqd8nX4Elqp7"
      },
      "source": [
        "from sklearn.ensemble import RandomForestClassifier\n",
        "from sklearn.model_selection import RandomizedSearchCV\n",
        "\n",
        "param_grid = {\n",
        "    'bootstrap': [True],\n",
        "    'max_depth': [10], \n",
        "    'n_estimators':[2,5,10,20,50],\n",
        "    'min_samples_split': [2, 3, 4],\n",
        "    'max_features' : ['log2']\n",
        "}\n",
        "\n",
        "rf = RandomForestClassifier(random_state=42)\n",
        "\n",
        "rf_search = RandomizedSearchCV(estimator = rf, param_distributions=param_grid, \n",
        "                          cv = 5, n_jobs = -1, verbose = 2, n_iter = 10)\n",
        "\n",
        "model = rf_search.fit(X_train,y_train)"
      ],
      "execution_count": null,
      "outputs": []
    },
    {
      "cell_type": "code",
      "metadata": {
        "execution": {
          "iopub.status.busy": "2021-07-25T10:33:42.710235Z",
          "iopub.execute_input": "2021-07-25T10:33:42.710701Z",
          "iopub.status.idle": "2021-07-25T10:33:42.7191Z",
          "shell.execute_reply.started": "2021-07-25T10:33:42.710667Z",
          "shell.execute_reply": "2021-07-25T10:33:42.718253Z"
        },
        "trusted": true,
        "id": "K5DM_XP8lqp8"
      },
      "source": [
        "rf_search.best_params_"
      ],
      "execution_count": null,
      "outputs": []
    },
    {
      "cell_type": "code",
      "metadata": {
        "execution": {
          "iopub.status.busy": "2021-07-25T10:33:42.721455Z",
          "iopub.execute_input": "2021-07-25T10:33:42.721892Z",
          "iopub.status.idle": "2021-07-25T10:35:02.512699Z",
          "shell.execute_reply.started": "2021-07-25T10:33:42.721845Z",
          "shell.execute_reply": "2021-07-25T10:35:02.511738Z"
        },
        "trusted": true,
        "id": "gwsd__2Plqp8"
      },
      "source": [
        "clf_rf = RandomForestClassifier(n_estimators= 20,\n",
        " min_samples_split= 2,\n",
        " max_features= 'log2',\n",
        " max_depth= 10,\n",
        " bootstrap= True,\n",
        " random_state=42)\n",
        "clf_rf.fit(X_train,y_train)"
      ],
      "execution_count": null,
      "outputs": []
    },
    {
      "cell_type": "code",
      "metadata": {
        "execution": {
          "iopub.status.busy": "2021-07-25T10:35:02.51658Z",
          "iopub.execute_input": "2021-07-25T10:35:02.516904Z",
          "iopub.status.idle": "2021-07-25T10:35:06.659583Z",
          "shell.execute_reply.started": "2021-07-25T10:35:02.516874Z",
          "shell.execute_reply": "2021-07-25T10:35:06.658386Z"
        },
        "trusted": true,
        "id": "SzsIzMMnlqp8"
      },
      "source": [
        "y_test_pred = clf_rf.predict(X_test)\n",
        "\n",
        "print(confusion_matrix(y_test, y_test_pred))\n",
        "prec = precision_score(y_test, y_test_pred, average = 'weighted')\n",
        "recall = recall_score(y_test, y_test_pred, average = 'weighted')\n",
        "print(\"Precision: %s, Recall: %s\" %(prec, recall))"
      ],
      "execution_count": null,
      "outputs": []
    },
    {
      "cell_type": "code",
      "metadata": {
        "execution": {
          "iopub.status.busy": "2021-07-25T10:35:06.661417Z",
          "iopub.execute_input": "2021-07-25T10:35:06.66185Z",
          "iopub.status.idle": "2021-07-25T10:35:08.934186Z",
          "shell.execute_reply.started": "2021-07-25T10:35:06.661806Z",
          "shell.execute_reply": "2021-07-25T10:35:08.933098Z"
        },
        "trusted": true,
        "id": "FkrLCZNilqp8"
      },
      "source": [
        "rf_prob = clf_rf.predict_proba(X_test)\n",
        "rf_fpr,rf_tpr,_ = roc_curve(y_test,rf_prob[:,1])"
      ],
      "execution_count": null,
      "outputs": []
    },
    {
      "cell_type": "code",
      "metadata": {
        "execution": {
          "iopub.status.busy": "2021-07-25T10:35:08.935546Z",
          "iopub.execute_input": "2021-07-25T10:35:08.935875Z",
          "iopub.status.idle": "2021-07-25T10:39:25.691702Z",
          "shell.execute_reply.started": "2021-07-25T10:35:08.935841Z",
          "shell.execute_reply": "2021-07-25T10:39:25.690722Z"
        },
        "trusted": true,
        "id": "_TSai8d2lqp9"
      },
      "source": [
        "import xgboost as xgb\n",
        "from sklearn.metrics import roc_curve,auc,confusion_matrix,precision_score,recall_score,roc_auc_score\n",
        "params = {\n",
        "    \"objective\": \"binary:logistic\",\n",
        "    \"booster\" : \"gbtree\",\n",
        "    \"eval_metric\": \"logloss\",\n",
        "    \"eta\":0.1,\n",
        "    \"max_depth\": 8,\n",
        "    \"subsample\": 0.8,\n",
        "    \"colsample_bytree\": 0.8,\n",
        "    \"silent\": 1,\n",
        "}\n",
        "xgclf=xgb.XGBClassifier(**params)\n",
        "xgclf.fit(X_train, y_train,\n",
        "        eval_set=[(X_test, y_test)],\n",
        "        eval_metric='logloss',\n",
        "        verbose=False)\n",
        "xgpred=xgclf.predict_proba(X_test)"
      ],
      "execution_count": null,
      "outputs": []
    },
    {
      "cell_type": "code",
      "metadata": {
        "execution": {
          "iopub.status.busy": "2021-07-25T10:39:25.693201Z",
          "iopub.execute_input": "2021-07-25T10:39:25.693788Z",
          "iopub.status.idle": "2021-07-25T10:39:27.697152Z",
          "shell.execute_reply.started": "2021-07-25T10:39:25.69375Z",
          "shell.execute_reply": "2021-07-25T10:39:27.696181Z"
        },
        "trusted": true,
        "id": "eSpuLP-Klqp9"
      },
      "source": [
        "from sklearn import metrics \n",
        "#y_score = xgclf.predict_proba(x_test)\n",
        "#fpr, tpr, thresholds = roc_curve(y_test, y_score[:, 1])\n",
        "roc_auc_score = metrics.roc_auc_score(y_test,xgpred[:,1])\n",
        "print(roc_auc_score)\n",
        "print(xgclf.score(X_test,y_test))\n",
        "xgb_fpr,xgb_tpr,_ = roc_curve(y_test,xgpred[:,1])"
      ],
      "execution_count": null,
      "outputs": []
    },
    {
      "cell_type": "code",
      "metadata": {
        "execution": {
          "iopub.status.busy": "2021-07-25T10:39:27.698461Z",
          "iopub.execute_input": "2021-07-25T10:39:27.698776Z",
          "iopub.status.idle": "2021-07-25T11:10:57.033339Z",
          "shell.execute_reply.started": "2021-07-25T10:39:27.698745Z",
          "shell.execute_reply": "2021-07-25T11:10:57.032062Z"
        },
        "trusted": true,
        "id": "PD_pLNK1lqp9"
      },
      "source": [
        "from sklearn.model_selection import KFold,cross_val_score\n",
        "# Set up k-fold\n",
        "k_fold = KFold(n_splits = 5)\n",
        "\n",
        "# Evaluate precision and recall for each fold\n",
        "precision = cross_val_score(\n",
        "  xgclf, X_train, y_train, cv = k_fold, scoring = 'precision_weighted')\n",
        "recall = cross_val_score(\n",
        "  xgclf, X_train, y_train, cv = k_fold, scoring = 'recall_weighted')\n",
        "print(\"Precision scores: %s\" %(precision.mean())) \n",
        "print(\"Recall scores: %s\" %(recall.mean()))\n",
        "print(k_fold)"
      ],
      "execution_count": null,
      "outputs": []
    },
    {
      "cell_type": "code",
      "metadata": {
        "execution": {
          "iopub.status.busy": "2021-07-25T11:10:57.035184Z",
          "iopub.execute_input": "2021-07-25T11:10:57.03571Z",
          "iopub.status.idle": "2021-07-25T11:10:57.315576Z",
          "shell.execute_reply.started": "2021-07-25T11:10:57.035658Z",
          "shell.execute_reply": "2021-07-25T11:10:57.314687Z"
        },
        "trusted": true,
        "id": "oHnZynmulqp-"
      },
      "source": [
        "random_probs = [0 for i in range(len(y_test))]\n",
        "p_fpr, p_tpr, _ = roc_curve(y_test, random_probs, pos_label=1)"
      ],
      "execution_count": null,
      "outputs": []
    },
    {
      "cell_type": "code",
      "metadata": {
        "execution": {
          "iopub.status.busy": "2021-07-25T11:10:57.316939Z",
          "iopub.execute_input": "2021-07-25T11:10:57.317606Z",
          "iopub.status.idle": "2021-07-25T11:10:57.770405Z",
          "shell.execute_reply.started": "2021-07-25T11:10:57.317557Z",
          "shell.execute_reply": "2021-07-25T11:10:57.769079Z"
        },
        "trusted": true,
        "id": "VRxZ3cUelqp-"
      },
      "source": [
        "plt.style.use('seaborn')\n",
        "plt.plot(fpr,tpr,linestyle = '--',color = 'green',label='Decision Tree')\n",
        "plt.plot(rf_fpr,rf_tpr,linestyle = '--',color = 'yellow',label='Random Forest')\n",
        "plt.plot(xgb_fpr,xgb_tpr,linestyle = '--',color = 'orange',label='XGBoost')\n",
        "plt.plot(p_fpr,p_tpr,linestyle='--',color = 'blue')\n",
        "plt.legend()\n",
        "plt.xlabel('FPR')\n",
        "plt.ylabel('TPR')\n",
        "plt.title('AUC-ROC Curve')"
      ],
      "execution_count": null,
      "outputs": []
    },
    {
      "cell_type": "code",
      "metadata": {
        "id": "NLB1iG4Elqp-"
      },
      "source": [
        ""
      ],
      "execution_count": null,
      "outputs": []
    }
  ]
}