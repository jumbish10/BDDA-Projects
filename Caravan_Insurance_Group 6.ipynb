{
  "nbformat": 4,
  "nbformat_minor": 0,
  "metadata": {
    "colab": {
      "name": "Caravan Insurance.ipynb",
      "provenance": []
    },
    "kernelspec": {
      "display_name": "Python 3",
      "name": "python3"
    },
    "language_info": {
      "name": "python"
    }
  },
  "cells": [
    {
      "cell_type": "markdown",
      "metadata": {
        "id": "b36IfoMHlIIE"
      },
      "source": [
        "# **CARAVAN INSURANCE CHALLENGE**"
      ]
    },
    {
      "cell_type": "markdown",
      "metadata": {
        "id": "nuQtYt7yljAD"
      },
      "source": [
        "By Group 6\n",
        "\n",
        "*   Arshpreet Singh Bagga - 291013\n",
        "*   Bikramadityya Guho - 291017\n",
        "*   Jumbish S Dang - 291032\n",
        "*   Apurv - 291049\n",
        "*   Anuj Sharma - 291070"
      ]
    },
    {
      "cell_type": "markdown",
      "metadata": {
        "id": "8nnnQxshlbpA"
      },
      "source": [
        "## **Importing the Libraries and Installations**\n",
        "\n"
      ]
    },
    {
      "cell_type": "code",
      "metadata": {
        "id": "FD5zdP6kd-xw"
      },
      "source": [
        "import numpy as np\n",
        "import pandas as pd\n",
        "import matplotlib.pyplot as plt\n",
        "import seaborn as sns\n",
        "from sklearn.model_selection import train_test_split\n",
        "\n",
        "\n",
        "from sklearn.model_selection import StratifiedKFold\n",
        "from sklearn.metrics import auc, roc_curve\n",
        "\n",
        "import lightgbm as lgb\n",
        "\n",
        "from sklearn.pipeline import Pipeline\n",
        "from sklearn.decomposition import PCA\n",
        "from sklearn.preprocessing import StandardScaler\n",
        "from sklearn.preprocessing import OneHotEncoder\n",
        "from sklearn.compose import ColumnTransformer\n"
      ],
      "execution_count": 323,
      "outputs": []
    },
    {
      "cell_type": "code",
      "metadata": {
        "colab": {
          "base_uri": "https://localhost:8080/"
        },
        "id": "2TdEugdQnkvF",
        "outputId": "5c9dc247-7372-4330-b844-5ad0dee55fe6"
      },
      "source": [
        "pip install optuna"
      ],
      "execution_count": 324,
      "outputs": [
        {
          "output_type": "stream",
          "text": [
            "Requirement already satisfied: optuna in /usr/local/lib/python3.7/dist-packages (2.9.1)\n",
            "Requirement already satisfied: colorlog in /usr/local/lib/python3.7/dist-packages (from optuna) (6.4.1)\n",
            "Requirement already satisfied: cmaes>=0.8.2 in /usr/local/lib/python3.7/dist-packages (from optuna) (0.8.2)\n",
            "Requirement already satisfied: scipy!=1.4.0 in /usr/local/lib/python3.7/dist-packages (from optuna) (1.4.1)\n",
            "Requirement already satisfied: numpy in /usr/local/lib/python3.7/dist-packages (from optuna) (1.19.5)\n",
            "Requirement already satisfied: PyYAML in /usr/local/lib/python3.7/dist-packages (from optuna) (3.13)\n",
            "Requirement already satisfied: sqlalchemy>=1.1.0 in /usr/local/lib/python3.7/dist-packages (from optuna) (1.4.22)\n",
            "Requirement already satisfied: tqdm in /usr/local/lib/python3.7/dist-packages (from optuna) (4.62.0)\n",
            "Requirement already satisfied: cliff in /usr/local/lib/python3.7/dist-packages (from optuna) (3.9.0)\n",
            "Requirement already satisfied: alembic in /usr/local/lib/python3.7/dist-packages (from optuna) (1.6.5)\n",
            "Requirement already satisfied: packaging>=20.0 in /usr/local/lib/python3.7/dist-packages (from optuna) (21.0)\n",
            "Requirement already satisfied: pyparsing>=2.0.2 in /usr/local/lib/python3.7/dist-packages (from packaging>=20.0->optuna) (2.4.7)\n",
            "Requirement already satisfied: greenlet!=0.4.17 in /usr/local/lib/python3.7/dist-packages (from sqlalchemy>=1.1.0->optuna) (1.1.1)\n",
            "Requirement already satisfied: importlib-metadata in /usr/local/lib/python3.7/dist-packages (from sqlalchemy>=1.1.0->optuna) (4.6.4)\n",
            "Requirement already satisfied: python-editor>=0.3 in /usr/local/lib/python3.7/dist-packages (from alembic->optuna) (1.0.4)\n",
            "Requirement already satisfied: python-dateutil in /usr/local/lib/python3.7/dist-packages (from alembic->optuna) (2.8.2)\n",
            "Requirement already satisfied: Mako in /usr/local/lib/python3.7/dist-packages (from alembic->optuna) (1.1.5)\n",
            "Requirement already satisfied: pbr!=2.1.0,>=2.0.0 in /usr/local/lib/python3.7/dist-packages (from cliff->optuna) (5.6.0)\n",
            "Requirement already satisfied: PrettyTable>=0.7.2 in /usr/local/lib/python3.7/dist-packages (from cliff->optuna) (2.1.0)\n",
            "Requirement already satisfied: stevedore>=2.0.1 in /usr/local/lib/python3.7/dist-packages (from cliff->optuna) (3.4.0)\n",
            "Requirement already satisfied: cmd2>=1.0.0 in /usr/local/lib/python3.7/dist-packages (from cliff->optuna) (2.1.2)\n",
            "Requirement already satisfied: autopage>=0.4.0 in /usr/local/lib/python3.7/dist-packages (from cliff->optuna) (0.4.0)\n",
            "Requirement already satisfied: colorama>=0.3.7 in /usr/local/lib/python3.7/dist-packages (from cmd2>=1.0.0->cliff->optuna) (0.4.4)\n",
            "Requirement already satisfied: attrs>=16.3.0 in /usr/local/lib/python3.7/dist-packages (from cmd2>=1.0.0->cliff->optuna) (21.2.0)\n",
            "Requirement already satisfied: wcwidth>=0.1.7 in /usr/local/lib/python3.7/dist-packages (from cmd2>=1.0.0->cliff->optuna) (0.2.5)\n",
            "Requirement already satisfied: typing-extensions in /usr/local/lib/python3.7/dist-packages (from cmd2>=1.0.0->cliff->optuna) (3.7.4.3)\n",
            "Requirement already satisfied: pyperclip>=1.6 in /usr/local/lib/python3.7/dist-packages (from cmd2>=1.0.0->cliff->optuna) (1.8.2)\n",
            "Requirement already satisfied: zipp>=0.5 in /usr/local/lib/python3.7/dist-packages (from importlib-metadata->sqlalchemy>=1.1.0->optuna) (3.5.0)\n",
            "Requirement already satisfied: MarkupSafe>=0.9.2 in /usr/local/lib/python3.7/dist-packages (from Mako->alembic->optuna) (2.0.1)\n",
            "Requirement already satisfied: six>=1.5 in /usr/local/lib/python3.7/dist-packages (from python-dateutil->alembic->optuna) (1.15.0)\n"
          ],
          "name": "stdout"
        }
      ]
    },
    {
      "cell_type": "code",
      "metadata": {
        "colab": {
          "base_uri": "https://localhost:8080/"
        },
        "id": "Ro8RbIFy7x6-",
        "outputId": "f547719b-aa3e-4b4c-854d-b29cc7e114f4"
      },
      "source": [
        "pip install scikit-optimize"
      ],
      "execution_count": 325,
      "outputs": [
        {
          "output_type": "stream",
          "text": [
            "Requirement already satisfied: scikit-optimize in /usr/local/lib/python3.7/dist-packages (0.8.1)\n",
            "Requirement already satisfied: joblib>=0.11 in /usr/local/lib/python3.7/dist-packages (from scikit-optimize) (1.0.1)\n",
            "Requirement already satisfied: numpy>=1.13.3 in /usr/local/lib/python3.7/dist-packages (from scikit-optimize) (1.19.5)\n",
            "Requirement already satisfied: scikit-learn>=0.20.0 in /usr/local/lib/python3.7/dist-packages (from scikit-optimize) (0.22.2.post1)\n",
            "Requirement already satisfied: scipy>=0.19.1 in /usr/local/lib/python3.7/dist-packages (from scikit-optimize) (1.4.1)\n",
            "Requirement already satisfied: pyaml>=16.9 in /usr/local/lib/python3.7/dist-packages (from scikit-optimize) (21.8.3)\n",
            "Requirement already satisfied: PyYAML in /usr/local/lib/python3.7/dist-packages (from pyaml>=16.9->scikit-optimize) (3.13)\n"
          ],
          "name": "stdout"
        }
      ]
    },
    {
      "cell_type": "code",
      "metadata": {
        "id": "zn0w1nwan2sn"
      },
      "source": [
        "# 1.1 Import optuna integration with lightgbm\n",
        "# Install as: conda install -c conda-forge optuna\n",
        "import optuna.integration.lightgbm as lgbm\n",
        "\n",
        "from skopt import BayesSearchCV\n",
        "from skopt.space import Real, Categorical, Integer"
      ],
      "execution_count": 326,
      "outputs": []
    },
    {
      "cell_type": "code",
      "metadata": {
        "id": "ih5G7j-hi8ot"
      },
      "source": [
        "def plot_profit_curve(name, df_scores):\n",
        "    plt.plot(df_scores[\"cum_profit\"].values, linewidth=1, label=name + \" Profit curve\")\n",
        "    plt.plot([0, 0], [0, 1], 'k--')\n",
        "    plt.legend(loc=\"lower left\")\n",
        "    plt.xlabel('Number of test instances', fontsize=16)\n",
        "    plt.ylabel('Profit', fontsize=16)\n",
        "    plt.grid(True)"
      ],
      "execution_count": 327,
      "outputs": []
    },
    {
      "cell_type": "markdown",
      "metadata": {
        "id": "O7fXZwCrnHoc"
      },
      "source": [
        "### **Loading Data**"
      ]
    },
    {
      "cell_type": "code",
      "metadata": {
        "colab": {
          "resources": {
            "http://localhost:8080/nbextensions/google.colab/files.js": {
              "data": "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",
              "ok": true,
              "headers": [
                [
                  "content-type",
                  "application/javascript"
                ]
              ],
              "status": 200,
              "status_text": ""
            }
          },
          "base_uri": "https://localhost:8080/",
          "height": 73
        },
        "id": "wmJ2Fpeeht42",
        "outputId": "828026bf-e0c4-4ffb-8d0c-afafb36043b7"
      },
      "source": [
        "from google.colab import files\n",
        "uploaded = files.upload()"
      ],
      "execution_count": 328,
      "outputs": [
        {
          "output_type": "display_data",
          "data": {
            "text/html": [
              "\n",
              "     <input type=\"file\" id=\"files-d68602d0-3ee6-4dd7-975a-99873e3e81b0\" name=\"files[]\" multiple disabled\n",
              "        style=\"border:none\" />\n",
              "     <output id=\"result-d68602d0-3ee6-4dd7-975a-99873e3e81b0\">\n",
              "      Upload widget is only available when the cell has been executed in the\n",
              "      current browser session. Please rerun this cell to enable.\n",
              "      </output>\n",
              "      <script src=\"/nbextensions/google.colab/files.js\"></script> "
            ],
            "text/plain": [
              "<IPython.core.display.HTML object>"
            ]
          },
          "metadata": {}
        },
        {
          "output_type": "stream",
          "text": [
            "Saving caravan-insurance-challenge.csv to caravan-insurance-challenge (5).csv\n"
          ],
          "name": "stdout"
        }
      ]
    },
    {
      "cell_type": "code",
      "metadata": {
        "colab": {
          "base_uri": "https://localhost:8080/"
        },
        "id": "8T6-WyZdzkjd",
        "outputId": "22a41eca-e9a4-4dfb-e12d-f882f55a08b0"
      },
      "source": [
        "df = pd.read_csv('caravan-insurance-challenge.csv')\n",
        "df.info()"
      ],
      "execution_count": 329,
      "outputs": [
        {
          "output_type": "stream",
          "text": [
            "<class 'pandas.core.frame.DataFrame'>\n",
            "RangeIndex: 9822 entries, 0 to 9821\n",
            "Data columns (total 87 columns):\n",
            " #   Column    Non-Null Count  Dtype \n",
            "---  ------    --------------  ----- \n",
            " 0   ORIGIN    9822 non-null   object\n",
            " 1   MOSTYPE   9822 non-null   int64 \n",
            " 2   MAANTHUI  9822 non-null   int64 \n",
            " 3   MGEMOMV   9822 non-null   int64 \n",
            " 4   MGEMLEEF  9822 non-null   int64 \n",
            " 5   MOSHOOFD  9822 non-null   int64 \n",
            " 6   MGODRK    9822 non-null   int64 \n",
            " 7   MGODPR    9822 non-null   int64 \n",
            " 8   MGODOV    9822 non-null   int64 \n",
            " 9   MGODGE    9822 non-null   int64 \n",
            " 10  MRELGE    9822 non-null   int64 \n",
            " 11  MRELSA    9822 non-null   int64 \n",
            " 12  MRELOV    9822 non-null   int64 \n",
            " 13  MFALLEEN  9822 non-null   int64 \n",
            " 14  MFGEKIND  9822 non-null   int64 \n",
            " 15  MFWEKIND  9822 non-null   int64 \n",
            " 16  MOPLHOOG  9822 non-null   int64 \n",
            " 17  MOPLMIDD  9822 non-null   int64 \n",
            " 18  MOPLLAAG  9822 non-null   int64 \n",
            " 19  MBERHOOG  9822 non-null   int64 \n",
            " 20  MBERZELF  9822 non-null   int64 \n",
            " 21  MBERBOER  9822 non-null   int64 \n",
            " 22  MBERMIDD  9822 non-null   int64 \n",
            " 23  MBERARBG  9822 non-null   int64 \n",
            " 24  MBERARBO  9822 non-null   int64 \n",
            " 25  MSKA      9822 non-null   int64 \n",
            " 26  MSKB1     9822 non-null   int64 \n",
            " 27  MSKB2     9822 non-null   int64 \n",
            " 28  MSKC      9822 non-null   int64 \n",
            " 29  MSKD      9822 non-null   int64 \n",
            " 30  MHHUUR    9822 non-null   int64 \n",
            " 31  MHKOOP    9822 non-null   int64 \n",
            " 32  MAUT1     9822 non-null   int64 \n",
            " 33  MAUT2     9822 non-null   int64 \n",
            " 34  MAUT0     9822 non-null   int64 \n",
            " 35  MZFONDS   9822 non-null   int64 \n",
            " 36  MZPART    9822 non-null   int64 \n",
            " 37  MINKM30   9822 non-null   int64 \n",
            " 38  MINK3045  9822 non-null   int64 \n",
            " 39  MINK4575  9822 non-null   int64 \n",
            " 40  MINK7512  9822 non-null   int64 \n",
            " 41  MINK123M  9822 non-null   int64 \n",
            " 42  MINKGEM   9822 non-null   int64 \n",
            " 43  MKOOPKLA  9822 non-null   int64 \n",
            " 44  PWAPART   9822 non-null   int64 \n",
            " 45  PWABEDR   9822 non-null   int64 \n",
            " 46  PWALAND   9822 non-null   int64 \n",
            " 47  PPERSAUT  9822 non-null   int64 \n",
            " 48  PBESAUT   9822 non-null   int64 \n",
            " 49  PMOTSCO   9822 non-null   int64 \n",
            " 50  PVRAAUT   9822 non-null   int64 \n",
            " 51  PAANHANG  9822 non-null   int64 \n",
            " 52  PTRACTOR  9822 non-null   int64 \n",
            " 53  PWERKT    9822 non-null   int64 \n",
            " 54  PBROM     9822 non-null   int64 \n",
            " 55  PLEVEN    9822 non-null   int64 \n",
            " 56  PPERSONG  9822 non-null   int64 \n",
            " 57  PGEZONG   9822 non-null   int64 \n",
            " 58  PWAOREG   9822 non-null   int64 \n",
            " 59  PBRAND    9822 non-null   int64 \n",
            " 60  PZEILPL   9822 non-null   int64 \n",
            " 61  PPLEZIER  9822 non-null   int64 \n",
            " 62  PFIETS    9822 non-null   int64 \n",
            " 63  PINBOED   9822 non-null   int64 \n",
            " 64  PBYSTAND  9822 non-null   int64 \n",
            " 65  AWAPART   9822 non-null   int64 \n",
            " 66  AWABEDR   9822 non-null   int64 \n",
            " 67  AWALAND   9822 non-null   int64 \n",
            " 68  APERSAUT  9822 non-null   int64 \n",
            " 69  ABESAUT   9822 non-null   int64 \n",
            " 70  AMOTSCO   9822 non-null   int64 \n",
            " 71  AVRAAUT   9822 non-null   int64 \n",
            " 72  AAANHANG  9822 non-null   int64 \n",
            " 73  ATRACTOR  9822 non-null   int64 \n",
            " 74  AWERKT    9822 non-null   int64 \n",
            " 75  ABROM     9822 non-null   int64 \n",
            " 76  ALEVEN    9822 non-null   int64 \n",
            " 77  APERSONG  9822 non-null   int64 \n",
            " 78  AGEZONG   9822 non-null   int64 \n",
            " 79  AWAOREG   9822 non-null   int64 \n",
            " 80  ABRAND    9822 non-null   int64 \n",
            " 81  AZEILPL   9822 non-null   int64 \n",
            " 82  APLEZIER  9822 non-null   int64 \n",
            " 83  AFIETS    9822 non-null   int64 \n",
            " 84  AINBOED   9822 non-null   int64 \n",
            " 85  ABYSTAND  9822 non-null   int64 \n",
            " 86  CARAVAN   9822 non-null   int64 \n",
            "dtypes: int64(86), object(1)\n",
            "memory usage: 6.5+ MB\n"
          ],
          "name": "stdout"
        }
      ]
    },
    {
      "cell_type": "code",
      "metadata": {
        "colab": {
          "base_uri": "https://localhost:8080/",
          "height": 252
        },
        "id": "9vuV_apD2Pg6",
        "outputId": "d515c148-5212-4ea1-cadd-32721eee5cea"
      },
      "source": [
        "df. head()"
      ],
      "execution_count": 330,
      "outputs": [
        {
          "output_type": "execute_result",
          "data": {
            "text/html": [
              "<div>\n",
              "<style scoped>\n",
              "    .dataframe tbody tr th:only-of-type {\n",
              "        vertical-align: middle;\n",
              "    }\n",
              "\n",
              "    .dataframe tbody tr th {\n",
              "        vertical-align: top;\n",
              "    }\n",
              "\n",
              "    .dataframe thead th {\n",
              "        text-align: right;\n",
              "    }\n",
              "</style>\n",
              "<table border=\"1\" class=\"dataframe\">\n",
              "  <thead>\n",
              "    <tr style=\"text-align: right;\">\n",
              "      <th></th>\n",
              "      <th>ORIGIN</th>\n",
              "      <th>MOSTYPE</th>\n",
              "      <th>MAANTHUI</th>\n",
              "      <th>MGEMOMV</th>\n",
              "      <th>MGEMLEEF</th>\n",
              "      <th>MOSHOOFD</th>\n",
              "      <th>MGODRK</th>\n",
              "      <th>MGODPR</th>\n",
              "      <th>MGODOV</th>\n",
              "      <th>MGODGE</th>\n",
              "      <th>MRELGE</th>\n",
              "      <th>MRELSA</th>\n",
              "      <th>MRELOV</th>\n",
              "      <th>MFALLEEN</th>\n",
              "      <th>MFGEKIND</th>\n",
              "      <th>MFWEKIND</th>\n",
              "      <th>MOPLHOOG</th>\n",
              "      <th>MOPLMIDD</th>\n",
              "      <th>MOPLLAAG</th>\n",
              "      <th>MBERHOOG</th>\n",
              "      <th>MBERZELF</th>\n",
              "      <th>MBERBOER</th>\n",
              "      <th>MBERMIDD</th>\n",
              "      <th>MBERARBG</th>\n",
              "      <th>MBERARBO</th>\n",
              "      <th>MSKA</th>\n",
              "      <th>MSKB1</th>\n",
              "      <th>MSKB2</th>\n",
              "      <th>MSKC</th>\n",
              "      <th>MSKD</th>\n",
              "      <th>MHHUUR</th>\n",
              "      <th>MHKOOP</th>\n",
              "      <th>MAUT1</th>\n",
              "      <th>MAUT2</th>\n",
              "      <th>MAUT0</th>\n",
              "      <th>MZFONDS</th>\n",
              "      <th>MZPART</th>\n",
              "      <th>MINKM30</th>\n",
              "      <th>MINK3045</th>\n",
              "      <th>MINK4575</th>\n",
              "      <th>...</th>\n",
              "      <th>PPERSAUT</th>\n",
              "      <th>PBESAUT</th>\n",
              "      <th>PMOTSCO</th>\n",
              "      <th>PVRAAUT</th>\n",
              "      <th>PAANHANG</th>\n",
              "      <th>PTRACTOR</th>\n",
              "      <th>PWERKT</th>\n",
              "      <th>PBROM</th>\n",
              "      <th>PLEVEN</th>\n",
              "      <th>PPERSONG</th>\n",
              "      <th>PGEZONG</th>\n",
              "      <th>PWAOREG</th>\n",
              "      <th>PBRAND</th>\n",
              "      <th>PZEILPL</th>\n",
              "      <th>PPLEZIER</th>\n",
              "      <th>PFIETS</th>\n",
              "      <th>PINBOED</th>\n",
              "      <th>PBYSTAND</th>\n",
              "      <th>AWAPART</th>\n",
              "      <th>AWABEDR</th>\n",
              "      <th>AWALAND</th>\n",
              "      <th>APERSAUT</th>\n",
              "      <th>ABESAUT</th>\n",
              "      <th>AMOTSCO</th>\n",
              "      <th>AVRAAUT</th>\n",
              "      <th>AAANHANG</th>\n",
              "      <th>ATRACTOR</th>\n",
              "      <th>AWERKT</th>\n",
              "      <th>ABROM</th>\n",
              "      <th>ALEVEN</th>\n",
              "      <th>APERSONG</th>\n",
              "      <th>AGEZONG</th>\n",
              "      <th>AWAOREG</th>\n",
              "      <th>ABRAND</th>\n",
              "      <th>AZEILPL</th>\n",
              "      <th>APLEZIER</th>\n",
              "      <th>AFIETS</th>\n",
              "      <th>AINBOED</th>\n",
              "      <th>ABYSTAND</th>\n",
              "      <th>CARAVAN</th>\n",
              "    </tr>\n",
              "  </thead>\n",
              "  <tbody>\n",
              "    <tr>\n",
              "      <th>0</th>\n",
              "      <td>train</td>\n",
              "      <td>33</td>\n",
              "      <td>1</td>\n",
              "      <td>3</td>\n",
              "      <td>2</td>\n",
              "      <td>8</td>\n",
              "      <td>0</td>\n",
              "      <td>5</td>\n",
              "      <td>1</td>\n",
              "      <td>3</td>\n",
              "      <td>7</td>\n",
              "      <td>0</td>\n",
              "      <td>2</td>\n",
              "      <td>1</td>\n",
              "      <td>2</td>\n",
              "      <td>6</td>\n",
              "      <td>1</td>\n",
              "      <td>2</td>\n",
              "      <td>7</td>\n",
              "      <td>1</td>\n",
              "      <td>0</td>\n",
              "      <td>1</td>\n",
              "      <td>2</td>\n",
              "      <td>5</td>\n",
              "      <td>2</td>\n",
              "      <td>1</td>\n",
              "      <td>1</td>\n",
              "      <td>2</td>\n",
              "      <td>6</td>\n",
              "      <td>1</td>\n",
              "      <td>1</td>\n",
              "      <td>8</td>\n",
              "      <td>8</td>\n",
              "      <td>0</td>\n",
              "      <td>1</td>\n",
              "      <td>8</td>\n",
              "      <td>1</td>\n",
              "      <td>0</td>\n",
              "      <td>4</td>\n",
              "      <td>5</td>\n",
              "      <td>...</td>\n",
              "      <td>6</td>\n",
              "      <td>0</td>\n",
              "      <td>0</td>\n",
              "      <td>0</td>\n",
              "      <td>0</td>\n",
              "      <td>0</td>\n",
              "      <td>0</td>\n",
              "      <td>0</td>\n",
              "      <td>0</td>\n",
              "      <td>0</td>\n",
              "      <td>0</td>\n",
              "      <td>0</td>\n",
              "      <td>5</td>\n",
              "      <td>0</td>\n",
              "      <td>0</td>\n",
              "      <td>0</td>\n",
              "      <td>0</td>\n",
              "      <td>0</td>\n",
              "      <td>0</td>\n",
              "      <td>0</td>\n",
              "      <td>0</td>\n",
              "      <td>1</td>\n",
              "      <td>0</td>\n",
              "      <td>0</td>\n",
              "      <td>0</td>\n",
              "      <td>0</td>\n",
              "      <td>0</td>\n",
              "      <td>0</td>\n",
              "      <td>0</td>\n",
              "      <td>0</td>\n",
              "      <td>0</td>\n",
              "      <td>0</td>\n",
              "      <td>0</td>\n",
              "      <td>1</td>\n",
              "      <td>0</td>\n",
              "      <td>0</td>\n",
              "      <td>0</td>\n",
              "      <td>0</td>\n",
              "      <td>0</td>\n",
              "      <td>0</td>\n",
              "    </tr>\n",
              "    <tr>\n",
              "      <th>1</th>\n",
              "      <td>train</td>\n",
              "      <td>37</td>\n",
              "      <td>1</td>\n",
              "      <td>2</td>\n",
              "      <td>2</td>\n",
              "      <td>8</td>\n",
              "      <td>1</td>\n",
              "      <td>4</td>\n",
              "      <td>1</td>\n",
              "      <td>4</td>\n",
              "      <td>6</td>\n",
              "      <td>2</td>\n",
              "      <td>2</td>\n",
              "      <td>0</td>\n",
              "      <td>4</td>\n",
              "      <td>5</td>\n",
              "      <td>0</td>\n",
              "      <td>5</td>\n",
              "      <td>4</td>\n",
              "      <td>0</td>\n",
              "      <td>0</td>\n",
              "      <td>0</td>\n",
              "      <td>5</td>\n",
              "      <td>0</td>\n",
              "      <td>4</td>\n",
              "      <td>0</td>\n",
              "      <td>2</td>\n",
              "      <td>3</td>\n",
              "      <td>5</td>\n",
              "      <td>0</td>\n",
              "      <td>2</td>\n",
              "      <td>7</td>\n",
              "      <td>7</td>\n",
              "      <td>1</td>\n",
              "      <td>2</td>\n",
              "      <td>6</td>\n",
              "      <td>3</td>\n",
              "      <td>2</td>\n",
              "      <td>0</td>\n",
              "      <td>5</td>\n",
              "      <td>...</td>\n",
              "      <td>0</td>\n",
              "      <td>0</td>\n",
              "      <td>0</td>\n",
              "      <td>0</td>\n",
              "      <td>0</td>\n",
              "      <td>0</td>\n",
              "      <td>0</td>\n",
              "      <td>0</td>\n",
              "      <td>0</td>\n",
              "      <td>0</td>\n",
              "      <td>0</td>\n",
              "      <td>0</td>\n",
              "      <td>2</td>\n",
              "      <td>0</td>\n",
              "      <td>0</td>\n",
              "      <td>0</td>\n",
              "      <td>0</td>\n",
              "      <td>0</td>\n",
              "      <td>2</td>\n",
              "      <td>0</td>\n",
              "      <td>0</td>\n",
              "      <td>0</td>\n",
              "      <td>0</td>\n",
              "      <td>0</td>\n",
              "      <td>0</td>\n",
              "      <td>0</td>\n",
              "      <td>0</td>\n",
              "      <td>0</td>\n",
              "      <td>0</td>\n",
              "      <td>0</td>\n",
              "      <td>0</td>\n",
              "      <td>0</td>\n",
              "      <td>0</td>\n",
              "      <td>1</td>\n",
              "      <td>0</td>\n",
              "      <td>0</td>\n",
              "      <td>0</td>\n",
              "      <td>0</td>\n",
              "      <td>0</td>\n",
              "      <td>0</td>\n",
              "    </tr>\n",
              "    <tr>\n",
              "      <th>2</th>\n",
              "      <td>train</td>\n",
              "      <td>37</td>\n",
              "      <td>1</td>\n",
              "      <td>2</td>\n",
              "      <td>2</td>\n",
              "      <td>8</td>\n",
              "      <td>0</td>\n",
              "      <td>4</td>\n",
              "      <td>2</td>\n",
              "      <td>4</td>\n",
              "      <td>3</td>\n",
              "      <td>2</td>\n",
              "      <td>4</td>\n",
              "      <td>4</td>\n",
              "      <td>4</td>\n",
              "      <td>2</td>\n",
              "      <td>0</td>\n",
              "      <td>5</td>\n",
              "      <td>4</td>\n",
              "      <td>0</td>\n",
              "      <td>0</td>\n",
              "      <td>0</td>\n",
              "      <td>7</td>\n",
              "      <td>0</td>\n",
              "      <td>2</td>\n",
              "      <td>0</td>\n",
              "      <td>5</td>\n",
              "      <td>0</td>\n",
              "      <td>4</td>\n",
              "      <td>0</td>\n",
              "      <td>7</td>\n",
              "      <td>2</td>\n",
              "      <td>7</td>\n",
              "      <td>0</td>\n",
              "      <td>2</td>\n",
              "      <td>9</td>\n",
              "      <td>0</td>\n",
              "      <td>4</td>\n",
              "      <td>5</td>\n",
              "      <td>0</td>\n",
              "      <td>...</td>\n",
              "      <td>6</td>\n",
              "      <td>0</td>\n",
              "      <td>0</td>\n",
              "      <td>0</td>\n",
              "      <td>0</td>\n",
              "      <td>0</td>\n",
              "      <td>0</td>\n",
              "      <td>0</td>\n",
              "      <td>0</td>\n",
              "      <td>0</td>\n",
              "      <td>0</td>\n",
              "      <td>0</td>\n",
              "      <td>2</td>\n",
              "      <td>0</td>\n",
              "      <td>0</td>\n",
              "      <td>0</td>\n",
              "      <td>0</td>\n",
              "      <td>0</td>\n",
              "      <td>1</td>\n",
              "      <td>0</td>\n",
              "      <td>0</td>\n",
              "      <td>1</td>\n",
              "      <td>0</td>\n",
              "      <td>0</td>\n",
              "      <td>0</td>\n",
              "      <td>0</td>\n",
              "      <td>0</td>\n",
              "      <td>0</td>\n",
              "      <td>0</td>\n",
              "      <td>0</td>\n",
              "      <td>0</td>\n",
              "      <td>0</td>\n",
              "      <td>0</td>\n",
              "      <td>1</td>\n",
              "      <td>0</td>\n",
              "      <td>0</td>\n",
              "      <td>0</td>\n",
              "      <td>0</td>\n",
              "      <td>0</td>\n",
              "      <td>0</td>\n",
              "    </tr>\n",
              "    <tr>\n",
              "      <th>3</th>\n",
              "      <td>train</td>\n",
              "      <td>9</td>\n",
              "      <td>1</td>\n",
              "      <td>3</td>\n",
              "      <td>3</td>\n",
              "      <td>3</td>\n",
              "      <td>2</td>\n",
              "      <td>3</td>\n",
              "      <td>2</td>\n",
              "      <td>4</td>\n",
              "      <td>5</td>\n",
              "      <td>2</td>\n",
              "      <td>2</td>\n",
              "      <td>2</td>\n",
              "      <td>3</td>\n",
              "      <td>4</td>\n",
              "      <td>3</td>\n",
              "      <td>4</td>\n",
              "      <td>2</td>\n",
              "      <td>4</td>\n",
              "      <td>0</td>\n",
              "      <td>0</td>\n",
              "      <td>3</td>\n",
              "      <td>1</td>\n",
              "      <td>2</td>\n",
              "      <td>3</td>\n",
              "      <td>2</td>\n",
              "      <td>1</td>\n",
              "      <td>4</td>\n",
              "      <td>0</td>\n",
              "      <td>5</td>\n",
              "      <td>4</td>\n",
              "      <td>9</td>\n",
              "      <td>0</td>\n",
              "      <td>0</td>\n",
              "      <td>7</td>\n",
              "      <td>2</td>\n",
              "      <td>1</td>\n",
              "      <td>5</td>\n",
              "      <td>3</td>\n",
              "      <td>...</td>\n",
              "      <td>6</td>\n",
              "      <td>0</td>\n",
              "      <td>0</td>\n",
              "      <td>0</td>\n",
              "      <td>0</td>\n",
              "      <td>0</td>\n",
              "      <td>0</td>\n",
              "      <td>0</td>\n",
              "      <td>0</td>\n",
              "      <td>0</td>\n",
              "      <td>0</td>\n",
              "      <td>0</td>\n",
              "      <td>2</td>\n",
              "      <td>0</td>\n",
              "      <td>0</td>\n",
              "      <td>0</td>\n",
              "      <td>0</td>\n",
              "      <td>0</td>\n",
              "      <td>0</td>\n",
              "      <td>0</td>\n",
              "      <td>0</td>\n",
              "      <td>1</td>\n",
              "      <td>0</td>\n",
              "      <td>0</td>\n",
              "      <td>0</td>\n",
              "      <td>0</td>\n",
              "      <td>0</td>\n",
              "      <td>0</td>\n",
              "      <td>0</td>\n",
              "      <td>0</td>\n",
              "      <td>0</td>\n",
              "      <td>0</td>\n",
              "      <td>0</td>\n",
              "      <td>1</td>\n",
              "      <td>0</td>\n",
              "      <td>0</td>\n",
              "      <td>0</td>\n",
              "      <td>0</td>\n",
              "      <td>0</td>\n",
              "      <td>0</td>\n",
              "    </tr>\n",
              "    <tr>\n",
              "      <th>4</th>\n",
              "      <td>train</td>\n",
              "      <td>40</td>\n",
              "      <td>1</td>\n",
              "      <td>4</td>\n",
              "      <td>2</td>\n",
              "      <td>10</td>\n",
              "      <td>1</td>\n",
              "      <td>4</td>\n",
              "      <td>1</td>\n",
              "      <td>4</td>\n",
              "      <td>7</td>\n",
              "      <td>1</td>\n",
              "      <td>2</td>\n",
              "      <td>2</td>\n",
              "      <td>4</td>\n",
              "      <td>4</td>\n",
              "      <td>5</td>\n",
              "      <td>4</td>\n",
              "      <td>0</td>\n",
              "      <td>0</td>\n",
              "      <td>5</td>\n",
              "      <td>4</td>\n",
              "      <td>0</td>\n",
              "      <td>0</td>\n",
              "      <td>0</td>\n",
              "      <td>9</td>\n",
              "      <td>0</td>\n",
              "      <td>0</td>\n",
              "      <td>0</td>\n",
              "      <td>0</td>\n",
              "      <td>4</td>\n",
              "      <td>5</td>\n",
              "      <td>6</td>\n",
              "      <td>2</td>\n",
              "      <td>1</td>\n",
              "      <td>5</td>\n",
              "      <td>4</td>\n",
              "      <td>0</td>\n",
              "      <td>0</td>\n",
              "      <td>9</td>\n",
              "      <td>...</td>\n",
              "      <td>0</td>\n",
              "      <td>0</td>\n",
              "      <td>0</td>\n",
              "      <td>0</td>\n",
              "      <td>0</td>\n",
              "      <td>0</td>\n",
              "      <td>0</td>\n",
              "      <td>0</td>\n",
              "      <td>0</td>\n",
              "      <td>0</td>\n",
              "      <td>0</td>\n",
              "      <td>0</td>\n",
              "      <td>6</td>\n",
              "      <td>0</td>\n",
              "      <td>0</td>\n",
              "      <td>0</td>\n",
              "      <td>0</td>\n",
              "      <td>0</td>\n",
              "      <td>0</td>\n",
              "      <td>0</td>\n",
              "      <td>0</td>\n",
              "      <td>0</td>\n",
              "      <td>0</td>\n",
              "      <td>0</td>\n",
              "      <td>0</td>\n",
              "      <td>0</td>\n",
              "      <td>0</td>\n",
              "      <td>0</td>\n",
              "      <td>0</td>\n",
              "      <td>0</td>\n",
              "      <td>0</td>\n",
              "      <td>0</td>\n",
              "      <td>0</td>\n",
              "      <td>1</td>\n",
              "      <td>0</td>\n",
              "      <td>0</td>\n",
              "      <td>0</td>\n",
              "      <td>0</td>\n",
              "      <td>0</td>\n",
              "      <td>0</td>\n",
              "    </tr>\n",
              "  </tbody>\n",
              "</table>\n",
              "<p>5 rows × 87 columns</p>\n",
              "</div>"
            ],
            "text/plain": [
              "  ORIGIN  MOSTYPE  MAANTHUI  MGEMOMV  ...  AFIETS  AINBOED  ABYSTAND  CARAVAN\n",
              "0  train       33         1        3  ...       0        0         0        0\n",
              "1  train       37         1        2  ...       0        0         0        0\n",
              "2  train       37         1        2  ...       0        0         0        0\n",
              "3  train        9         1        3  ...       0        0         0        0\n",
              "4  train       40         1        4  ...       0        0         0        0\n",
              "\n",
              "[5 rows x 87 columns]"
            ]
          },
          "metadata": {},
          "execution_count": 330
        }
      ]
    },
    {
      "cell_type": "markdown",
      "metadata": {
        "id": "8H0WUgfqncdv"
      },
      "source": [
        "## **Pre-Processing**"
      ]
    },
    {
      "cell_type": "code",
      "metadata": {
        "colab": {
          "base_uri": "https://localhost:8080/"
        },
        "id": "nVwR_CXW3TZA",
        "outputId": "629b48fe-8c74-4587-d08b-31d194dfe755"
      },
      "source": [
        "df.ORIGIN.value_counts()"
      ],
      "execution_count": 331,
      "outputs": [
        {
          "output_type": "execute_result",
          "data": {
            "text/plain": [
              "train    5822\n",
              "test     4000\n",
              "Name: ORIGIN, dtype: int64"
            ]
          },
          "metadata": {},
          "execution_count": 331
        }
      ]
    },
    {
      "cell_type": "code",
      "metadata": {
        "colab": {
          "base_uri": "https://localhost:8080/"
        },
        "id": "fKDeh64B3Tgt",
        "outputId": "1773c2ce-ef3f-46e9-e53e-c7217d5c50ee"
      },
      "source": [
        "df.CARAVAN.value_counts()"
      ],
      "execution_count": 332,
      "outputs": [
        {
          "output_type": "execute_result",
          "data": {
            "text/plain": [
              "0    9236\n",
              "1     586\n",
              "Name: CARAVAN, dtype: int64"
            ]
          },
          "metadata": {},
          "execution_count": 332
        }
      ]
    },
    {
      "cell_type": "code",
      "metadata": {
        "colab": {
          "base_uri": "https://localhost:8080/"
        },
        "id": "gTyeF8NsxJVl",
        "outputId": "c186726a-d7d9-4844-b8a2-99f2b327a469"
      },
      "source": [
        "df.nunique()"
      ],
      "execution_count": 333,
      "outputs": [
        {
          "output_type": "execute_result",
          "data": {
            "text/plain": [
              "ORIGIN       2\n",
              "MOSTYPE     40\n",
              "MAANTHUI     9\n",
              "MGEMOMV      6\n",
              "MGEMLEEF     6\n",
              "            ..\n",
              "APLEZIER     3\n",
              "AFIETS       5\n",
              "AINBOED      3\n",
              "ABYSTAND     3\n",
              "CARAVAN      2\n",
              "Length: 87, dtype: int64"
            ]
          },
          "metadata": {},
          "execution_count": 333
        }
      ]
    },
    {
      "cell_type": "code",
      "metadata": {
        "colab": {
          "base_uri": "https://localhost:8080/"
        },
        "id": "uqYRVna2q0-r",
        "outputId": "e146d7a7-c56e-4bff-a7da-3a456fb933a4"
      },
      "source": [
        "df.isnull().values.any()"
      ],
      "execution_count": 334,
      "outputs": [
        {
          "output_type": "execute_result",
          "data": {
            "text/plain": [
              "False"
            ]
          },
          "metadata": {},
          "execution_count": 334
        }
      ]
    },
    {
      "cell_type": "code",
      "metadata": {
        "id": "Qp-0vTwVJ-v4"
      },
      "source": [
        "X_train = df[df['ORIGIN']=='train']\n",
        "X_test = df[df['ORIGIN']=='test']\n",
        "X_train.pop('ORIGIN')\n",
        "X_test.pop('ORIGIN')\n",
        "y_train=X_train.pop('CARAVAN')\n",
        "y_test=X_test.pop('CARAVAN')"
      ],
      "execution_count": 335,
      "outputs": []
    },
    {
      "cell_type": "markdown",
      "metadata": {
        "id": "pe8dOd8WngY_"
      },
      "source": [
        "## **Visualization**"
      ]
    },
    {
      "cell_type": "code",
      "metadata": {
        "colab": {
          "base_uri": "https://localhost:8080/",
          "height": 331
        },
        "id": "ZBJoY6ArzqCB",
        "outputId": "b60a5e61-c027-4d0b-97bf-057211525b52"
      },
      "source": [
        "ax= plt.axes()\n",
        "_=sns.heatmap(df.drop(columns=['ORIGIN']).corr(),cmap='Blues',cbar=None,ax=ax)\n",
        "_=ax.set_title('Correlation Heatmap')"
      ],
      "execution_count": 336,
      "outputs": [
        {
          "output_type": "display_data",
          "data": {
            "image/png": "[encoded data removed]",
            "text/plain": [
              "<Figure size 432x288 with 1 Axes>"
            ]
          },
          "metadata": {
            "needs_background": "light"
          }
        }
      ]
    },
    {
      "cell_type": "code",
      "metadata": {
        "colab": {
          "base_uri": "https://localhost:8080/",
          "height": 658
        },
        "id": "Fkkr2Bp_zqzc",
        "outputId": "1dc34640-2bc6-40c5-bd85-6f7840359b1d"
      },
      "source": [
        "f,axs=plt.subplots(1,2,figsize=(20,10))\n",
        "sns.heatmap(df.iloc[:,1:44].corr(),ax=axs[0],vmin=-2, vmax=2,cbar=None)\n",
        "sns.heatmap(df.iloc[:,44:-1].corr(),ax=axs[1],vmin=-2, vmax=2,cbar=None)"
      ],
      "execution_count": 337,
      "outputs": [
        {
          "output_type": "execute_result",
          "data": {
            "text/plain": [
              "<matplotlib.axes._subplots.AxesSubplot at 0x7f85d22cb450>"
            ]
          },
          "metadata": {},
          "execution_count": 337
        },
        {
          "output_type": "display_data",
          "data": {
            "image/png": "[encoded data removed]",
            "text/plain": [
              "<Figure size 1440x720 with 2 Axes>"
            ]
          },
          "metadata": {
            "needs_background": "light"
          }
        }
      ]
    },
    {
      "cell_type": "markdown",
      "metadata": {
        "id": "3JbtnQXr3p_e"
      },
      "source": [
        "**Based on the above observation, we can say that the data is highly imbalanced as the Caravan 0 count is very high as compared to Caravan 1. There are no null values amongst the data sets. We can also say that we have enough Train and Test data sets. There exists a good amount of correlation between the data and the categorical is high in value where as the numerical value is in low range. So, since LightGBM model has inbuild feature to deal with the categorical variables, we initiate the LightGBM model and proceed forward.** "
      ]
    },
    {
      "cell_type": "markdown",
      "metadata": {
        "id": "DyvRzfxdn15G"
      },
      "source": [
        "## **Initializing LightGBM Model and training data for it**"
      ]
    },
    {
      "cell_type": "code",
      "metadata": {
        "id": "nCK4ORets8lN"
      },
      "source": [
        "dtrain = lgbm.Dataset(X_train,\n",
        "                      label=y_train,\n",
        "                      categorical_feature = [1,5]\n",
        "                      )\n",
        "\n",
        "dtest = lgbm.Dataset(\n",
        "                     X_test,\n",
        "                     label=y_test,\n",
        "                     categorical_feature = [1,5]\n",
        "                    )"
      ],
      "execution_count": 338,
      "outputs": []
    },
    {
      "cell_type": "code",
      "metadata": {
        "colab": {
          "base_uri": "https://localhost:8080/"
        },
        "id": "xEToVqhLDhIH",
        "outputId": "210db7e9-5b5d-4087-865e-cd25c9a60d7f"
      },
      "source": [
        "cat_col = ['MOSTYPE','MOSHOOFD']\n",
        "df.pop('CARAVAN')\n",
        "num_cols = list(df.columns.values[43:])\n",
        "num_cols"
      ],
      "execution_count": 339,
      "outputs": [
        {
          "output_type": "execute_result",
          "data": {
            "text/plain": [
              "['MKOOPKLA',\n",
              " 'PWAPART',\n",
              " 'PWABEDR',\n",
              " 'PWALAND',\n",
              " 'PPERSAUT',\n",
              " 'PBESAUT',\n",
              " 'PMOTSCO',\n",
              " 'PVRAAUT',\n",
              " 'PAANHANG',\n",
              " 'PTRACTOR',\n",
              " 'PWERKT',\n",
              " 'PBROM',\n",
              " 'PLEVEN',\n",
              " 'PPERSONG',\n",
              " 'PGEZONG',\n",
              " 'PWAOREG',\n",
              " 'PBRAND',\n",
              " 'PZEILPL',\n",
              " 'PPLEZIER',\n",
              " 'PFIETS',\n",
              " 'PINBOED',\n",
              " 'PBYSTAND',\n",
              " 'AWAPART',\n",
              " 'AWABEDR',\n",
              " 'AWALAND',\n",
              " 'APERSAUT',\n",
              " 'ABESAUT',\n",
              " 'AMOTSCO',\n",
              " 'AVRAAUT',\n",
              " 'AAANHANG',\n",
              " 'ATRACTOR',\n",
              " 'AWERKT',\n",
              " 'ABROM',\n",
              " 'ALEVEN',\n",
              " 'APERSONG',\n",
              " 'AGEZONG',\n",
              " 'AWAOREG',\n",
              " 'ABRAND',\n",
              " 'AZEILPL',\n",
              " 'APLEZIER',\n",
              " 'AFIETS',\n",
              " 'AINBOED',\n",
              " 'ABYSTAND']"
            ]
          },
          "metadata": {},
          "execution_count": 339
        }
      ]
    },
    {
      "cell_type": "code",
      "metadata": {
        "id": "vYLhw2mRh3Cf"
      },
      "source": [
        "params_fixed = {                           # Specify params that are fixed\n",
        "                 \"objective\": \"binary\",\n",
        "                 \"metric\": \"binary_logloss\",\n",
        "                 \"verbosity\": -1,\n",
        "                 \"boosting_type\": \"gbdt\",\n",
        "                }\n"
      ],
      "execution_count": 340,
      "outputs": []
    },
    {
      "cell_type": "code",
      "metadata": {
        "id": "UGdLAHgOiNZv",
        "colab": {
          "base_uri": "https://localhost:8080/"
        },
        "outputId": "dd863c01-43a2-41d8-8363-bf95476a0f41"
      },
      "source": [
        "model = lgbm.train(\n",
        "                   params_fixed,               # Just fixed params only\n",
        "                   dtrain,                     # Dataset\n",
        "                   valid_sets=[dtrain, dtest],  # Evaluate performance on these datasets\n",
        "                   verbose_eval=100,\n",
        "                   early_stopping_rounds=100,\n",
        "                   categorical_feature = cat_col # columns 0 and 1 are categorical\n",
        "                  )"
      ],
      "execution_count": 341,
      "outputs": [
        {
          "output_type": "stream",
          "text": [
            "\u001b[32m[I 2021-08-25 14:16:41,289]\u001b[0m A new study created in memory with name: no-name-65cc92f5-6247-40a4-98b9-d843d19ebf72\u001b[0m\n",
            "feature_fraction, val_score: inf:   0%|          | 0/7 [00:00<?, ?it/s]/usr/local/lib/python3.7/dist-packages/lightgbm/basic.py:1209: UserWarning:\n",
            "\n",
            "categorical_feature in Dataset is overridden.\n",
            "New categorical_feature is ['MOSHOOFD', 'MOSTYPE']\n",
            "\n",
            "/usr/local/lib/python3.7/dist-packages/lightgbm/basic.py:762: UserWarning:\n",
            "\n",
            "categorical_feature in param dict is overridden.\n",
            "\n"
          ],
          "name": "stderr"
        },
        {
          "output_type": "stream",
          "text": [
            "Training until validation scores don't improve for 100 rounds.\n"
          ],
          "name": "stdout"
        },
        {
          "output_type": "stream",
          "text": [
            "feature_fraction, val_score: 0.208079:  14%|#4        | 1/7 [00:00<00:02,  2.03it/s]\u001b[32m[I 2021-08-25 14:16:41,795]\u001b[0m Trial 0 finished with value: 0.2080791672829954 and parameters: {'feature_fraction': 0.8}. Best is trial 0 with value: 0.2080791672829954.\u001b[0m\n",
            "feature_fraction, val_score: 0.208079:  14%|#4        | 1/7 [00:00<00:02,  2.03it/s]"
          ],
          "name": "stderr"
        },
        {
          "output_type": "stream",
          "text": [
            "[100]\tvalid_0's binary_logloss: 0.0724917\tvalid_1's binary_logloss: 0.237399\n",
            "Early stopping, best iteration is:\n",
            "[12]\tvalid_0's binary_logloss: 0.162392\tvalid_1's binary_logloss: 0.208079\n",
            "Training until validation scores don't improve for 100 rounds.\n"
          ],
          "name": "stdout"
        },
        {
          "output_type": "stream",
          "text": [
            "/usr/local/lib/python3.7/dist-packages/lightgbm/basic.py:1209: UserWarning:\n",
            "\n",
            "categorical_feature in Dataset is overridden.\n",
            "New categorical_feature is ['MOSHOOFD', 'MOSTYPE']\n",
            "\n",
            "/usr/local/lib/python3.7/dist-packages/lightgbm/basic.py:762: UserWarning:\n",
            "\n",
            "categorical_feature in param dict is overridden.\n",
            "\n",
            "feature_fraction, val_score: 0.205849:  29%|##8       | 2/7 [00:01<00:02,  1.89it/s]\u001b[32m[I 2021-08-25 14:16:42,346]\u001b[0m Trial 1 finished with value: 0.20584873904470635 and parameters: {'feature_fraction': 0.8999999999999999}. Best is trial 1 with value: 0.20584873904470635.\u001b[0m\n",
            "feature_fraction, val_score: 0.205849:  29%|##8       | 2/7 [00:01<00:02,  1.89it/s]"
          ],
          "name": "stderr"
        },
        {
          "output_type": "stream",
          "text": [
            "[100]\tvalid_0's binary_logloss: 0.070999\tvalid_1's binary_logloss: 0.233655\n",
            "Early stopping, best iteration is:\n",
            "[14]\tvalid_0's binary_logloss: 0.15635\tvalid_1's binary_logloss: 0.205849\n",
            "Training until validation scores don't improve for 100 rounds.\n"
          ],
          "name": "stdout"
        },
        {
          "output_type": "stream",
          "text": [
            "/usr/local/lib/python3.7/dist-packages/lightgbm/basic.py:1209: UserWarning:\n",
            "\n",
            "categorical_feature in Dataset is overridden.\n",
            "New categorical_feature is ['MOSHOOFD', 'MOSTYPE']\n",
            "\n",
            "/usr/local/lib/python3.7/dist-packages/lightgbm/basic.py:762: UserWarning:\n",
            "\n",
            "categorical_feature in param dict is overridden.\n",
            "\n",
            "feature_fraction, val_score: 0.205849:  43%|####2     | 3/7 [00:01<00:01,  2.06it/s]\u001b[32m[I 2021-08-25 14:16:42,784]\u001b[0m Trial 2 finished with value: 0.20584983689957517 and parameters: {'feature_fraction': 0.4}. Best is trial 1 with value: 0.20584873904470635.\u001b[0m\n",
            "feature_fraction, val_score: 0.205849:  43%|####2     | 3/7 [00:01<00:01,  2.06it/s]"
          ],
          "name": "stderr"
        },
        {
          "output_type": "stream",
          "text": [
            "[100]\tvalid_0's binary_logloss: 0.0805475\tvalid_1's binary_logloss: 0.231352\n",
            "Early stopping, best iteration is:\n",
            "[17]\tvalid_0's binary_logloss: 0.158608\tvalid_1's binary_logloss: 0.20585\n",
            "Training until validation scores don't improve for 100 rounds.\n"
          ],
          "name": "stdout"
        },
        {
          "output_type": "stream",
          "text": [
            "/usr/local/lib/python3.7/dist-packages/lightgbm/basic.py:1209: UserWarning:\n",
            "\n",
            "categorical_feature in Dataset is overridden.\n",
            "New categorical_feature is ['MOSHOOFD', 'MOSTYPE']\n",
            "\n",
            "/usr/local/lib/python3.7/dist-packages/lightgbm/basic.py:762: UserWarning:\n",
            "\n",
            "categorical_feature in param dict is overridden.\n",
            "\n",
            "feature_fraction, val_score: 0.205849:  57%|#####7    | 4/7 [00:02<00:01,  1.88it/s]\u001b[32m[I 2021-08-25 14:16:43,392]\u001b[0m Trial 3 finished with value: 0.20840223275669711 and parameters: {'feature_fraction': 1.0}. Best is trial 1 with value: 0.20584873904470635.\u001b[0m\n",
            "feature_fraction, val_score: 0.205849:  57%|#####7    | 4/7 [00:02<00:01,  1.88it/s]"
          ],
          "name": "stderr"
        },
        {
          "output_type": "stream",
          "text": [
            "[100]\tvalid_0's binary_logloss: 0.0698416\tvalid_1's binary_logloss: 0.236892\n",
            "Early stopping, best iteration is:\n",
            "[12]\tvalid_0's binary_logloss: 0.161295\tvalid_1's binary_logloss: 0.208402\n",
            "Training until validation scores don't improve for 100 rounds.\n"
          ],
          "name": "stdout"
        },
        {
          "output_type": "stream",
          "text": [
            "/usr/local/lib/python3.7/dist-packages/lightgbm/basic.py:1209: UserWarning:\n",
            "\n",
            "categorical_feature in Dataset is overridden.\n",
            "New categorical_feature is ['MOSHOOFD', 'MOSTYPE']\n",
            "\n",
            "/usr/local/lib/python3.7/dist-packages/lightgbm/basic.py:762: UserWarning:\n",
            "\n",
            "categorical_feature in param dict is overridden.\n",
            "\n",
            "feature_fraction, val_score: 0.205102:  71%|#######1  | 5/7 [00:02<00:01,  1.94it/s]\u001b[32m[I 2021-08-25 14:16:43,872]\u001b[0m Trial 4 finished with value: 0.2051020135240261 and parameters: {'feature_fraction': 0.6}. Best is trial 4 with value: 0.2051020135240261.\u001b[0m\n",
            "feature_fraction, val_score: 0.205102:  71%|#######1  | 5/7 [00:02<00:01,  1.94it/s]"
          ],
          "name": "stderr"
        },
        {
          "output_type": "stream",
          "text": [
            "[100]\tvalid_0's binary_logloss: 0.0748865\tvalid_1's binary_logloss: 0.232411\n",
            "Early stopping, best iteration is:\n",
            "[17]\tvalid_0's binary_logloss: 0.152176\tvalid_1's binary_logloss: 0.205102\n",
            "Training until validation scores don't improve for 100 rounds.\n"
          ],
          "name": "stdout"
        },
        {
          "output_type": "stream",
          "text": [
            "/usr/local/lib/python3.7/dist-packages/lightgbm/basic.py:1209: UserWarning:\n",
            "\n",
            "categorical_feature in Dataset is overridden.\n",
            "New categorical_feature is ['MOSHOOFD', 'MOSTYPE']\n",
            "\n",
            "/usr/local/lib/python3.7/dist-packages/lightgbm/basic.py:762: UserWarning:\n",
            "\n",
            "categorical_feature in param dict is overridden.\n",
            "\n",
            "feature_fraction, val_score: 0.205102:  86%|########5 | 6/7 [00:03<00:00,  1.94it/s]\u001b[32m[I 2021-08-25 14:16:44,390]\u001b[0m Trial 5 finished with value: 0.20806698203965737 and parameters: {'feature_fraction': 0.7}. Best is trial 4 with value: 0.2051020135240261.\u001b[0m\n",
            "feature_fraction, val_score: 0.205102:  86%|########5 | 6/7 [00:03<00:00,  1.94it/s]"
          ],
          "name": "stderr"
        },
        {
          "output_type": "stream",
          "text": [
            "[100]\tvalid_0's binary_logloss: 0.0741967\tvalid_1's binary_logloss: 0.235765\n",
            "Early stopping, best iteration is:\n",
            "[14]\tvalid_0's binary_logloss: 0.158159\tvalid_1's binary_logloss: 0.208067\n",
            "Training until validation scores don't improve for 100 rounds.\n"
          ],
          "name": "stdout"
        },
        {
          "output_type": "stream",
          "text": [
            "/usr/local/lib/python3.7/dist-packages/lightgbm/basic.py:1209: UserWarning:\n",
            "\n",
            "categorical_feature in Dataset is overridden.\n",
            "New categorical_feature is ['MOSHOOFD', 'MOSTYPE']\n",
            "\n",
            "/usr/local/lib/python3.7/dist-packages/lightgbm/basic.py:762: UserWarning:\n",
            "\n",
            "categorical_feature in param dict is overridden.\n",
            "\n",
            "feature_fraction, val_score: 0.205102: 100%|##########| 7/7 [00:03<00:00,  2.01it/s]\u001b[32m[I 2021-08-25 14:16:44,848]\u001b[0m Trial 6 finished with value: 0.20652930416340207 and parameters: {'feature_fraction': 0.5}. Best is trial 4 with value: 0.2051020135240261.\u001b[0m\n",
            "feature_fraction, val_score: 0.205102: 100%|##########| 7/7 [00:03<00:00,  1.97it/s]\n"
          ],
          "name": "stderr"
        },
        {
          "output_type": "stream",
          "text": [
            "[100]\tvalid_0's binary_logloss: 0.0781368\tvalid_1's binary_logloss: 0.231641\n",
            "Early stopping, best iteration is:\n",
            "[18]\tvalid_0's binary_logloss: 0.153048\tvalid_1's binary_logloss: 0.206529\n"
          ],
          "name": "stdout"
        },
        {
          "output_type": "stream",
          "text": [
            "num_leaves, val_score: 0.205102:   0%|          | 0/20 [00:00<?, ?it/s]"
          ],
          "name": "stderr"
        },
        {
          "output_type": "stream",
          "text": [
            "Training until validation scores don't improve for 100 rounds.\n"
          ],
          "name": "stdout"
        },
        {
          "output_type": "stream",
          "text": [
            "/usr/local/lib/python3.7/dist-packages/lightgbm/basic.py:1209: UserWarning:\n",
            "\n",
            "categorical_feature in Dataset is overridden.\n",
            "New categorical_feature is ['MOSHOOFD', 'MOSTYPE']\n",
            "\n",
            "/usr/local/lib/python3.7/dist-packages/lightgbm/basic.py:762: UserWarning:\n",
            "\n",
            "categorical_feature in param dict is overridden.\n",
            "\n",
            "num_leaves, val_score: 0.205102:   5%|5         | 1/20 [00:00<00:15,  1.21it/s]\u001b[32m[I 2021-08-25 14:16:45,691]\u001b[0m Trial 7 finished with value: 0.20893724955152146 and parameters: {'num_leaves': 114}. Best is trial 7 with value: 0.20893724955152146.\u001b[0m\n",
            "num_leaves, val_score: 0.205102:   5%|5         | 1/20 [00:00<00:15,  1.21it/s]"
          ],
          "name": "stderr"
        },
        {
          "output_type": "stream",
          "text": [
            "[100]\tvalid_0's binary_logloss: 0.0244863\tvalid_1's binary_logloss: 0.323345\n",
            "Early stopping, best iteration is:\n",
            "[10]\tvalid_0's binary_logloss: 0.136124\tvalid_1's binary_logloss: 0.208937\n",
            "Training until validation scores don't improve for 100 rounds.\n"
          ],
          "name": "stdout"
        },
        {
          "output_type": "stream",
          "text": [
            "/usr/local/lib/python3.7/dist-packages/lightgbm/basic.py:1209: UserWarning:\n",
            "\n",
            "categorical_feature in Dataset is overridden.\n",
            "New categorical_feature is ['MOSHOOFD', 'MOSTYPE']\n",
            "\n",
            "/usr/local/lib/python3.7/dist-packages/lightgbm/basic.py:762: UserWarning:\n",
            "\n",
            "categorical_feature in param dict is overridden.\n",
            "\n",
            "num_leaves, val_score: 0.205102:  10%|#         | 2/20 [00:01<00:16,  1.12it/s]\u001b[32m[I 2021-08-25 14:16:46,638]\u001b[0m Trial 8 finished with value: 0.2109260841961875 and parameters: {'num_leaves': 185}. Best is trial 7 with value: 0.20893724955152146.\u001b[0m\n",
            "num_leaves, val_score: 0.205102:  10%|#         | 2/20 [00:01<00:16,  1.12it/s]"
          ],
          "name": "stderr"
        },
        {
          "output_type": "stream",
          "text": [
            "[100]\tvalid_0's binary_logloss: 0.0210779\tvalid_1's binary_logloss: 0.351873\n",
            "Early stopping, best iteration is:\n",
            "[7]\tvalid_0's binary_logloss: 0.153199\tvalid_1's binary_logloss: 0.210926\n",
            "Training until validation scores don't improve for 100 rounds.\n"
          ],
          "name": "stdout"
        },
        {
          "output_type": "stream",
          "text": [
            "/usr/local/lib/python3.7/dist-packages/lightgbm/basic.py:1209: UserWarning:\n",
            "\n",
            "categorical_feature in Dataset is overridden.\n",
            "New categorical_feature is ['MOSHOOFD', 'MOSTYPE']\n",
            "\n",
            "/usr/local/lib/python3.7/dist-packages/lightgbm/basic.py:762: UserWarning:\n",
            "\n",
            "categorical_feature in param dict is overridden.\n",
            "\n",
            "num_leaves, val_score: 0.205102:  15%|#5        | 3/20 [00:02<00:15,  1.09it/s]\u001b[32m[I 2021-08-25 14:16:47,578]\u001b[0m Trial 9 finished with value: 0.2109260841961875 and parameters: {'num_leaves': 185}. Best is trial 7 with value: 0.20893724955152146.\u001b[0m\n",
            "num_leaves, val_score: 0.205102:  15%|#5        | 3/20 [00:02<00:15,  1.09it/s]"
          ],
          "name": "stderr"
        },
        {
          "output_type": "stream",
          "text": [
            "[100]\tvalid_0's binary_logloss: 0.0210779\tvalid_1's binary_logloss: 0.351873\n",
            "Early stopping, best iteration is:\n",
            "[7]\tvalid_0's binary_logloss: 0.153199\tvalid_1's binary_logloss: 0.210926\n",
            "Training until validation scores don't improve for 100 rounds.\n"
          ],
          "name": "stdout"
        },
        {
          "output_type": "stream",
          "text": [
            "/usr/local/lib/python3.7/dist-packages/lightgbm/basic.py:1209: UserWarning:\n",
            "\n",
            "categorical_feature in Dataset is overridden.\n",
            "New categorical_feature is ['MOSHOOFD', 'MOSTYPE']\n",
            "\n",
            "/usr/local/lib/python3.7/dist-packages/lightgbm/basic.py:762: UserWarning:\n",
            "\n",
            "categorical_feature in param dict is overridden.\n",
            "\n",
            "num_leaves, val_score: 0.205102:  20%|##        | 4/20 [00:03<00:15,  1.06it/s]\u001b[32m[I 2021-08-25 14:16:48,563]\u001b[0m Trial 10 finished with value: 0.21092626495820307 and parameters: {'num_leaves': 238}. Best is trial 7 with value: 0.20893724955152146.\u001b[0m\n",
            "num_leaves, val_score: 0.205102:  20%|##        | 4/20 [00:03<00:15,  1.06it/s]"
          ],
          "name": "stderr"
        },
        {
          "output_type": "stream",
          "text": [
            "[100]\tvalid_0's binary_logloss: 0.0209935\tvalid_1's binary_logloss: 0.35439\n",
            "Early stopping, best iteration is:\n",
            "[7]\tvalid_0's binary_logloss: 0.153199\tvalid_1's binary_logloss: 0.210926\n",
            "Training until validation scores don't improve for 100 rounds.\n"
          ],
          "name": "stdout"
        },
        {
          "output_type": "stream",
          "text": [
            "/usr/local/lib/python3.7/dist-packages/lightgbm/basic.py:1209: UserWarning:\n",
            "\n",
            "categorical_feature in Dataset is overridden.\n",
            "New categorical_feature is ['MOSHOOFD', 'MOSTYPE']\n",
            "\n",
            "/usr/local/lib/python3.7/dist-packages/lightgbm/basic.py:762: UserWarning:\n",
            "\n",
            "categorical_feature in param dict is overridden.\n",
            "\n",
            "num_leaves, val_score: 0.205102:  25%|##5       | 5/20 [00:04<00:12,  1.15it/s]\u001b[32m[I 2021-08-25 14:16:49,292]\u001b[0m Trial 11 finished with value: 0.20993978123279466 and parameters: {'num_leaves': 95}. Best is trial 7 with value: 0.20893724955152146.\u001b[0m\n",
            "num_leaves, val_score: 0.205102:  25%|##5       | 5/20 [00:04<00:12,  1.15it/s]"
          ],
          "name": "stderr"
        },
        {
          "output_type": "stream",
          "text": [
            "[100]\tvalid_0's binary_logloss: 0.0281511\tvalid_1's binary_logloss: 0.307004\n",
            "Early stopping, best iteration is:\n",
            "[11]\tvalid_0's binary_logloss: 0.135619\tvalid_1's binary_logloss: 0.20994\n",
            "Training until validation scores don't improve for 100 rounds.\n"
          ],
          "name": "stdout"
        },
        {
          "output_type": "stream",
          "text": [
            "/usr/local/lib/python3.7/dist-packages/lightgbm/basic.py:1209: UserWarning:\n",
            "\n",
            "categorical_feature in Dataset is overridden.\n",
            "New categorical_feature is ['MOSHOOFD', 'MOSTYPE']\n",
            "\n",
            "/usr/local/lib/python3.7/dist-packages/lightgbm/basic.py:762: UserWarning:\n",
            "\n",
            "categorical_feature in param dict is overridden.\n",
            "\n",
            "num_leaves, val_score: 0.205102:  30%|###       | 6/20 [00:05<00:12,  1.10it/s]\u001b[32m[I 2021-08-25 14:16:50,278]\u001b[0m Trial 12 finished with value: 0.21092626495820307 and parameters: {'num_leaves': 242}. Best is trial 7 with value: 0.20893724955152146.\u001b[0m\n",
            "num_leaves, val_score: 0.205102:  30%|###       | 6/20 [00:05<00:12,  1.10it/s]"
          ],
          "name": "stderr"
        },
        {
          "output_type": "stream",
          "text": [
            "[100]\tvalid_0's binary_logloss: 0.0209935\tvalid_1's binary_logloss: 0.35439\n",
            "Early stopping, best iteration is:\n",
            "[7]\tvalid_0's binary_logloss: 0.153199\tvalid_1's binary_logloss: 0.210926\n",
            "Training until validation scores don't improve for 100 rounds.\n"
          ],
          "name": "stdout"
        },
        {
          "output_type": "stream",
          "text": [
            "/usr/local/lib/python3.7/dist-packages/lightgbm/basic.py:1209: UserWarning:\n",
            "\n",
            "categorical_feature in Dataset is overridden.\n",
            "New categorical_feature is ['MOSHOOFD', 'MOSTYPE']\n",
            "\n",
            "/usr/local/lib/python3.7/dist-packages/lightgbm/basic.py:762: UserWarning:\n",
            "\n",
            "categorical_feature in param dict is overridden.\n",
            "\n",
            "num_leaves, val_score: 0.205102:  35%|###5      | 7/20 [00:06<00:11,  1.14it/s]\u001b[32m[I 2021-08-25 14:16:51,085]\u001b[0m Trial 13 finished with value: 0.21033582507047588 and parameters: {'num_leaves': 112}. Best is trial 7 with value: 0.20893724955152146.\u001b[0m\n",
            "num_leaves, val_score: 0.205102:  35%|###5      | 7/20 [00:06<00:11,  1.14it/s]"
          ],
          "name": "stderr"
        },
        {
          "output_type": "stream",
          "text": [
            "[100]\tvalid_0's binary_logloss: 0.0245845\tvalid_1's binary_logloss: 0.325584\n",
            "Early stopping, best iteration is:\n",
            "[10]\tvalid_0's binary_logloss: 0.136858\tvalid_1's binary_logloss: 0.210336\n",
            "Training until validation scores don't improve for 100 rounds.\n"
          ],
          "name": "stdout"
        },
        {
          "output_type": "stream",
          "text": [
            "/usr/local/lib/python3.7/dist-packages/lightgbm/basic.py:1209: UserWarning:\n",
            "\n",
            "categorical_feature in Dataset is overridden.\n",
            "New categorical_feature is ['MOSHOOFD', 'MOSTYPE']\n",
            "\n",
            "/usr/local/lib/python3.7/dist-packages/lightgbm/basic.py:762: UserWarning:\n",
            "\n",
            "categorical_feature in param dict is overridden.\n",
            "\n",
            "num_leaves, val_score: 0.205102:  40%|####      | 8/20 [00:07<00:10,  1.09it/s]\u001b[32m[I 2021-08-25 14:16:52,087]\u001b[0m Trial 14 finished with value: 0.21092626495820307 and parameters: {'num_leaves': 226}. Best is trial 7 with value: 0.20893724955152146.\u001b[0m\n",
            "num_leaves, val_score: 0.205102:  40%|####      | 8/20 [00:07<00:10,  1.09it/s]"
          ],
          "name": "stderr"
        },
        {
          "output_type": "stream",
          "text": [
            "[100]\tvalid_0's binary_logloss: 0.0209935\tvalid_1's binary_logloss: 0.35439\n",
            "Early stopping, best iteration is:\n",
            "[7]\tvalid_0's binary_logloss: 0.153199\tvalid_1's binary_logloss: 0.210926\n",
            "Training until validation scores don't improve for 100 rounds.\n"
          ],
          "name": "stdout"
        },
        {
          "output_type": "stream",
          "text": [
            "/usr/local/lib/python3.7/dist-packages/lightgbm/basic.py:1209: UserWarning:\n",
            "\n",
            "categorical_feature in Dataset is overridden.\n",
            "New categorical_feature is ['MOSHOOFD', 'MOSTYPE']\n",
            "\n",
            "/usr/local/lib/python3.7/dist-packages/lightgbm/basic.py:762: UserWarning:\n",
            "\n",
            "categorical_feature in param dict is overridden.\n",
            "\n",
            "num_leaves, val_score: 0.205102:  45%|####5     | 9/20 [00:08<00:09,  1.12it/s]\u001b[32m[I 2021-08-25 14:16:52,943]\u001b[0m Trial 15 finished with value: 0.20951171759492002 and parameters: {'num_leaves': 134}. Best is trial 7 with value: 0.20893724955152146.\u001b[0m\n",
            "num_leaves, val_score: 0.205102:  45%|####5     | 9/20 [00:08<00:09,  1.12it/s]"
          ],
          "name": "stderr"
        },
        {
          "output_type": "stream",
          "text": [
            "[100]\tvalid_0's binary_logloss: 0.0221517\tvalid_1's binary_logloss: 0.340522\n",
            "Early stopping, best iteration is:\n",
            "[10]\tvalid_0's binary_logloss: 0.135119\tvalid_1's binary_logloss: 0.209512\n",
            "Training until validation scores don't improve for 100 rounds.\n"
          ],
          "name": "stdout"
        },
        {
          "output_type": "stream",
          "text": [
            "/usr/local/lib/python3.7/dist-packages/lightgbm/basic.py:1209: UserWarning:\n",
            "\n",
            "categorical_feature in Dataset is overridden.\n",
            "New categorical_feature is ['MOSHOOFD', 'MOSTYPE']\n",
            "\n",
            "/usr/local/lib/python3.7/dist-packages/lightgbm/basic.py:762: UserWarning:\n",
            "\n",
            "categorical_feature in param dict is overridden.\n",
            "\n",
            "num_leaves, val_score: 0.205102:  50%|#####     | 10/20 [00:09<00:09,  1.09it/s]\u001b[32m[I 2021-08-25 14:16:53,910]\u001b[0m Trial 16 finished with value: 0.21092640464526466 and parameters: {'num_leaves': 195}. Best is trial 7 with value: 0.20893724955152146.\u001b[0m\n",
            "num_leaves, val_score: 0.205102:  50%|#####     | 10/20 [00:09<00:09,  1.09it/s]"
          ],
          "name": "stderr"
        },
        {
          "output_type": "stream",
          "text": [
            "[100]\tvalid_0's binary_logloss: 0.0211145\tvalid_1's binary_logloss: 0.351848\n",
            "Early stopping, best iteration is:\n",
            "[7]\tvalid_0's binary_logloss: 0.153199\tvalid_1's binary_logloss: 0.210926\n",
            "Training until validation scores don't improve for 100 rounds.\n"
          ],
          "name": "stdout"
        },
        {
          "output_type": "stream",
          "text": [
            "/usr/local/lib/python3.7/dist-packages/lightgbm/basic.py:1209: UserWarning:\n",
            "\n",
            "categorical_feature in Dataset is overridden.\n",
            "New categorical_feature is ['MOSHOOFD', 'MOSTYPE']\n",
            "\n",
            "/usr/local/lib/python3.7/dist-packages/lightgbm/basic.py:762: UserWarning:\n",
            "\n",
            "categorical_feature in param dict is overridden.\n",
            "\n",
            "num_leaves, val_score: 0.205102:  55%|#####5    | 11/20 [00:09<00:06,  1.36it/s]\u001b[32m[I 2021-08-25 14:16:54,236]\u001b[0m Trial 17 finished with value: 0.20511397122208339 and parameters: {'num_leaves': 3}. Best is trial 17 with value: 0.20511397122208339.\u001b[0m\n",
            "num_leaves, val_score: 0.205102:  55%|#####5    | 11/20 [00:09<00:06,  1.36it/s]"
          ],
          "name": "stderr"
        },
        {
          "output_type": "stream",
          "text": [
            "[100]\tvalid_0's binary_logloss: 0.184213\tvalid_1's binary_logloss: 0.205468\n",
            "Early stopping, best iteration is:\n",
            "[48]\tvalid_0's binary_logloss: 0.190321\tvalid_1's binary_logloss: 0.205114\n",
            "Training until validation scores don't improve for 100 rounds.\n"
          ],
          "name": "stdout"
        },
        {
          "output_type": "stream",
          "text": [
            "/usr/local/lib/python3.7/dist-packages/lightgbm/basic.py:1209: UserWarning:\n",
            "\n",
            "categorical_feature in Dataset is overridden.\n",
            "New categorical_feature is ['MOSHOOFD', 'MOSTYPE']\n",
            "\n",
            "/usr/local/lib/python3.7/dist-packages/lightgbm/basic.py:762: UserWarning:\n",
            "\n",
            "categorical_feature in param dict is overridden.\n",
            "\n",
            "num_leaves, val_score: 0.205102:  60%|######    | 12/20 [00:09<00:04,  1.63it/s]\u001b[32m[I 2021-08-25 14:16:54,564]\u001b[0m Trial 18 finished with value: 0.2056332342897528 and parameters: {'num_leaves': 4}. Best is trial 17 with value: 0.20511397122208339.\u001b[0m\n",
            "num_leaves, val_score: 0.205102:  60%|######    | 12/20 [00:09<00:04,  1.63it/s]"
          ],
          "name": "stderr"
        },
        {
          "output_type": "stream",
          "text": [
            "[100]\tvalid_0's binary_logloss: 0.177224\tvalid_1's binary_logloss: 0.207131\n",
            "Early stopping, best iteration is:\n",
            "[40]\tvalid_0's binary_logloss: 0.187324\tvalid_1's binary_logloss: 0.205633\n",
            "Training until validation scores don't improve for 100 rounds.\n"
          ],
          "name": "stdout"
        },
        {
          "output_type": "stream",
          "text": [
            "/usr/local/lib/python3.7/dist-packages/lightgbm/basic.py:1209: UserWarning:\n",
            "\n",
            "categorical_feature in Dataset is overridden.\n",
            "New categorical_feature is ['MOSHOOFD', 'MOSTYPE']\n",
            "\n",
            "/usr/local/lib/python3.7/dist-packages/lightgbm/basic.py:762: UserWarning:\n",
            "\n",
            "categorical_feature in param dict is overridden.\n",
            "\n",
            "num_leaves, val_score: 0.205102:  65%|######5   | 13/20 [00:10<00:03,  1.89it/s]\u001b[32m[I 2021-08-25 14:16:54,903]\u001b[0m Trial 19 finished with value: 0.2055067809775763 and parameters: {'num_leaves': 6}. Best is trial 17 with value: 0.20511397122208339.\u001b[0m\n",
            "num_leaves, val_score: 0.205102:  65%|######5   | 13/20 [00:10<00:03,  1.89it/s]"
          ],
          "name": "stderr"
        },
        {
          "output_type": "stream",
          "text": [
            "[100]\tvalid_0's binary_logloss: 0.16251\tvalid_1's binary_logloss: 0.207762\n",
            "Early stopping, best iteration is:\n",
            "[36]\tvalid_0's binary_logloss: 0.180267\tvalid_1's binary_logloss: 0.205507\n",
            "Training until validation scores don't improve for 100 rounds.\n"
          ],
          "name": "stdout"
        },
        {
          "output_type": "stream",
          "text": [
            "/usr/local/lib/python3.7/dist-packages/lightgbm/basic.py:1209: UserWarning:\n",
            "\n",
            "categorical_feature in Dataset is overridden.\n",
            "New categorical_feature is ['MOSHOOFD', 'MOSTYPE']\n",
            "\n",
            "/usr/local/lib/python3.7/dist-packages/lightgbm/basic.py:762: UserWarning:\n",
            "\n",
            "categorical_feature in param dict is overridden.\n",
            "\n",
            "num_leaves, val_score: 0.205102:  70%|#######   | 14/20 [00:10<00:02,  2.14it/s]\u001b[32m[I 2021-08-25 14:16:55,231]\u001b[0m Trial 20 finished with value: 0.2053798038817733 and parameters: {'num_leaves': 2}. Best is trial 17 with value: 0.20511397122208339.\u001b[0m\n",
            "num_leaves, val_score: 0.205102:  70%|#######   | 14/20 [00:10<00:02,  2.14it/s]"
          ],
          "name": "stderr"
        },
        {
          "output_type": "stream",
          "text": [
            "[100]\tvalid_0's binary_logloss: 0.192607\tvalid_1's binary_logloss: 0.205463\n",
            "Early stopping, best iteration is:\n",
            "[91]\tvalid_0's binary_logloss: 0.193228\tvalid_1's binary_logloss: 0.20538\n"
          ],
          "name": "stdout"
        },
        {
          "output_type": "stream",
          "text": [
            "/usr/local/lib/python3.7/dist-packages/lightgbm/basic.py:1209: UserWarning:\n",
            "\n",
            "categorical_feature in Dataset is overridden.\n",
            "New categorical_feature is ['MOSHOOFD', 'MOSTYPE']\n",
            "\n",
            "/usr/local/lib/python3.7/dist-packages/lightgbm/basic.py:762: UserWarning:\n",
            "\n",
            "categorical_feature in param dict is overridden.\n",
            "\n"
          ],
          "name": "stderr"
        },
        {
          "output_type": "stream",
          "text": [
            "Training until validation scores don't improve for 100 rounds.\n"
          ],
          "name": "stdout"
        },
        {
          "output_type": "stream",
          "text": [
            "num_leaves, val_score: 0.205102:  75%|#######5  | 15/20 [00:10<00:02,  2.02it/s]\u001b[32m[I 2021-08-25 14:16:55,786]\u001b[0m Trial 21 finished with value: 0.2072517104490813 and parameters: {'num_leaves': 44}. Best is trial 17 with value: 0.20511397122208339.\u001b[0m\n",
            "num_leaves, val_score: 0.205102:  75%|#######5  | 15/20 [00:10<00:02,  2.02it/s]"
          ],
          "name": "stderr"
        },
        {
          "output_type": "stream",
          "text": [
            "[100]\tvalid_0's binary_logloss: 0.0573458\tvalid_1's binary_logloss: 0.247962\n",
            "Early stopping, best iteration is:\n",
            "[14]\tvalid_0's binary_logloss: 0.148176\tvalid_1's binary_logloss: 0.207252\n",
            "Training until validation scores don't improve for 100 rounds.\n"
          ],
          "name": "stdout"
        },
        {
          "output_type": "stream",
          "text": [
            "/usr/local/lib/python3.7/dist-packages/lightgbm/basic.py:1209: UserWarning:\n",
            "\n",
            "categorical_feature in Dataset is overridden.\n",
            "New categorical_feature is ['MOSHOOFD', 'MOSTYPE']\n",
            "\n",
            "/usr/local/lib/python3.7/dist-packages/lightgbm/basic.py:762: UserWarning:\n",
            "\n",
            "categorical_feature in param dict is overridden.\n",
            "\n",
            "num_leaves, val_score: 0.205102:  80%|########  | 16/20 [00:11<00:02,  1.93it/s]\u001b[32m[I 2021-08-25 14:16:56,363]\u001b[0m Trial 22 finished with value: 0.2099763417497278 and parameters: {'num_leaves': 54}. Best is trial 17 with value: 0.20511397122208339.\u001b[0m\n",
            "num_leaves, val_score: 0.205102:  80%|########  | 16/20 [00:11<00:02,  1.93it/s]"
          ],
          "name": "stderr"
        },
        {
          "output_type": "stream",
          "text": [
            "[100]\tvalid_0's binary_logloss: 0.0476638\tvalid_1's binary_logloss: 0.263115\n",
            "Early stopping, best iteration is:\n",
            "[11]\tvalid_0's binary_logloss: 0.152255\tvalid_1's binary_logloss: 0.209976\n",
            "Training until validation scores don't improve for 100 rounds.\n"
          ],
          "name": "stdout"
        },
        {
          "output_type": "stream",
          "text": [
            "/usr/local/lib/python3.7/dist-packages/lightgbm/basic.py:1209: UserWarning:\n",
            "\n",
            "categorical_feature in Dataset is overridden.\n",
            "New categorical_feature is ['MOSHOOFD', 'MOSTYPE']\n",
            "\n",
            "/usr/local/lib/python3.7/dist-packages/lightgbm/basic.py:762: UserWarning:\n",
            "\n",
            "categorical_feature in param dict is overridden.\n",
            "\n",
            "num_leaves, val_score: 0.205102:  85%|########5 | 17/20 [00:12<00:01,  1.86it/s]\u001b[32m[I 2021-08-25 14:16:56,941]\u001b[0m Trial 23 finished with value: 0.2099763417497278 and parameters: {'num_leaves': 54}. Best is trial 17 with value: 0.20511397122208339.\u001b[0m\n",
            "num_leaves, val_score: 0.205102:  85%|########5 | 17/20 [00:12<00:01,  1.86it/s]"
          ],
          "name": "stderr"
        },
        {
          "output_type": "stream",
          "text": [
            "[100]\tvalid_0's binary_logloss: 0.0476638\tvalid_1's binary_logloss: 0.263115\n",
            "Early stopping, best iteration is:\n",
            "[11]\tvalid_0's binary_logloss: 0.152255\tvalid_1's binary_logloss: 0.209976\n",
            "Training until validation scores don't improve for 100 rounds.\n"
          ],
          "name": "stdout"
        },
        {
          "output_type": "stream",
          "text": [
            "/usr/local/lib/python3.7/dist-packages/lightgbm/basic.py:1209: UserWarning:\n",
            "\n",
            "categorical_feature in Dataset is overridden.\n",
            "New categorical_feature is ['MOSHOOFD', 'MOSTYPE']\n",
            "\n",
            "/usr/local/lib/python3.7/dist-packages/lightgbm/basic.py:762: UserWarning:\n",
            "\n",
            "categorical_feature in param dict is overridden.\n",
            "\n",
            "num_leaves, val_score: 0.205102:  90%|######### | 18/20 [00:12<00:01,  1.94it/s]\u001b[32m[I 2021-08-25 14:16:57,402]\u001b[0m Trial 24 finished with value: 0.2078329364068643 and parameters: {'num_leaves': 29}. Best is trial 17 with value: 0.20511397122208339.\u001b[0m\n",
            "num_leaves, val_score: 0.205102:  90%|######### | 18/20 [00:12<00:01,  1.94it/s]"
          ],
          "name": "stderr"
        },
        {
          "output_type": "stream",
          "text": [
            "[100]\tvalid_0's binary_logloss: 0.080093\tvalid_1's binary_logloss: 0.233307\n",
            "Early stopping, best iteration is:\n",
            "[15]\tvalid_0's binary_logloss: 0.160691\tvalid_1's binary_logloss: 0.207833\n",
            "Training until validation scores don't improve for 100 rounds.\n"
          ],
          "name": "stdout"
        },
        {
          "output_type": "stream",
          "text": [
            "/usr/local/lib/python3.7/dist-packages/lightgbm/basic.py:1209: UserWarning:\n",
            "\n",
            "categorical_feature in Dataset is overridden.\n",
            "New categorical_feature is ['MOSHOOFD', 'MOSTYPE']\n",
            "\n",
            "/usr/local/lib/python3.7/dist-packages/lightgbm/basic.py:762: UserWarning:\n",
            "\n",
            "categorical_feature in param dict is overridden.\n",
            "\n",
            "num_leaves, val_score: 0.205102:  95%|#########5| 19/20 [00:13<00:00,  1.77it/s]\u001b[32m[I 2021-08-25 14:16:58,086]\u001b[0m Trial 25 finished with value: 0.21056988321338016 and parameters: {'num_leaves': 73}. Best is trial 17 with value: 0.20511397122208339.\u001b[0m\n",
            "num_leaves, val_score: 0.205102:  95%|#########5| 19/20 [00:13<00:00,  1.77it/s]"
          ],
          "name": "stderr"
        },
        {
          "output_type": "stream",
          "text": [
            "[100]\tvalid_0's binary_logloss: 0.0357164\tvalid_1's binary_logloss: 0.28697\n",
            "Early stopping, best iteration is:\n",
            "[12]\tvalid_0's binary_logloss: 0.137905\tvalid_1's binary_logloss: 0.21057\n",
            "Training until validation scores don't improve for 100 rounds.\n"
          ],
          "name": "stdout"
        },
        {
          "output_type": "stream",
          "text": [
            "/usr/local/lib/python3.7/dist-packages/lightgbm/basic.py:1209: UserWarning:\n",
            "\n",
            "categorical_feature in Dataset is overridden.\n",
            "New categorical_feature is ['MOSHOOFD', 'MOSTYPE']\n",
            "\n",
            "/usr/local/lib/python3.7/dist-packages/lightgbm/basic.py:762: UserWarning:\n",
            "\n",
            "categorical_feature in param dict is overridden.\n",
            "\n",
            "num_leaves, val_score: 0.205102: 100%|##########| 20/20 [00:14<00:00,  1.52it/s]\u001b[32m[I 2021-08-25 14:16:58,966]\u001b[0m Trial 26 finished with value: 0.21092541301884615 and parameters: {'num_leaves': 151}. Best is trial 17 with value: 0.20511397122208339.\u001b[0m\n",
            "num_leaves, val_score: 0.205102: 100%|##########| 20/20 [00:14<00:00,  1.42it/s]\n"
          ],
          "name": "stderr"
        },
        {
          "output_type": "stream",
          "text": [
            "[100]\tvalid_0's binary_logloss: 0.0214515\tvalid_1's binary_logloss: 0.350539\n",
            "Early stopping, best iteration is:\n",
            "[7]\tvalid_0's binary_logloss: 0.153201\tvalid_1's binary_logloss: 0.210925\n"
          ],
          "name": "stdout"
        },
        {
          "output_type": "stream",
          "text": [
            "bagging, val_score: 0.205102:   0%|          | 0/10 [00:00<?, ?it/s]"
          ],
          "name": "stderr"
        },
        {
          "output_type": "stream",
          "text": [
            "Training until validation scores don't improve for 100 rounds.\n"
          ],
          "name": "stdout"
        },
        {
          "output_type": "stream",
          "text": [
            "/usr/local/lib/python3.7/dist-packages/lightgbm/basic.py:1209: UserWarning:\n",
            "\n",
            "categorical_feature in Dataset is overridden.\n",
            "New categorical_feature is ['MOSHOOFD', 'MOSTYPE']\n",
            "\n",
            "/usr/local/lib/python3.7/dist-packages/lightgbm/basic.py:762: UserWarning:\n",
            "\n",
            "categorical_feature in param dict is overridden.\n",
            "\n",
            "bagging, val_score: 0.205102:  10%|#         | 1/10 [00:00<00:04,  2.04it/s]\u001b[32m[I 2021-08-25 14:16:59,481]\u001b[0m Trial 27 finished with value: 0.21043187169713468 and parameters: {'bagging_fraction': 0.4664039259837986, 'bagging_freq': 1}. Best is trial 27 with value: 0.21043187169713468.\u001b[0m\n",
            "bagging, val_score: 0.205102:  10%|#         | 1/10 [00:00<00:04,  2.04it/s]"
          ],
          "name": "stderr"
        },
        {
          "output_type": "stream",
          "text": [
            "[100]\tvalid_0's binary_logloss: 0.0865113\tvalid_1's binary_logloss: 0.24299\n",
            "Early stopping, best iteration is:\n",
            "[10]\tvalid_0's binary_logloss: 0.17661\tvalid_1's binary_logloss: 0.210432\n",
            "Training until validation scores don't improve for 100 rounds.\n"
          ],
          "name": "stdout"
        },
        {
          "output_type": "stream",
          "text": [
            "/usr/local/lib/python3.7/dist-packages/lightgbm/basic.py:1209: UserWarning:\n",
            "\n",
            "categorical_feature in Dataset is overridden.\n",
            "New categorical_feature is ['MOSHOOFD', 'MOSTYPE']\n",
            "\n",
            "/usr/local/lib/python3.7/dist-packages/lightgbm/basic.py:762: UserWarning:\n",
            "\n",
            "categorical_feature in param dict is overridden.\n",
            "\n",
            "bagging, val_score: 0.205102:  20%|##        | 2/10 [00:01<00:04,  1.90it/s]\u001b[32m[I 2021-08-25 14:17:00,030]\u001b[0m Trial 28 finished with value: 0.2071224300430098 and parameters: {'bagging_fraction': 0.8713215859445506, 'bagging_freq': 3}. Best is trial 28 with value: 0.2071224300430098.\u001b[0m\n",
            "bagging, val_score: 0.205102:  20%|##        | 2/10 [00:01<00:04,  1.90it/s]"
          ],
          "name": "stderr"
        },
        {
          "output_type": "stream",
          "text": [
            "[100]\tvalid_0's binary_logloss: 0.0763175\tvalid_1's binary_logloss: 0.234512\n",
            "Early stopping, best iteration is:\n",
            "[17]\tvalid_0's binary_logloss: 0.153106\tvalid_1's binary_logloss: 0.207122\n",
            "Training until validation scores don't improve for 100 rounds.\n"
          ],
          "name": "stdout"
        },
        {
          "output_type": "stream",
          "text": [
            "/usr/local/lib/python3.7/dist-packages/lightgbm/basic.py:1209: UserWarning:\n",
            "\n",
            "categorical_feature in Dataset is overridden.\n",
            "New categorical_feature is ['MOSHOOFD', 'MOSTYPE']\n",
            "\n",
            "/usr/local/lib/python3.7/dist-packages/lightgbm/basic.py:762: UserWarning:\n",
            "\n",
            "categorical_feature in param dict is overridden.\n",
            "\n",
            "bagging, val_score: 0.205102:  30%|###       | 3/10 [00:01<00:03,  1.90it/s]\u001b[32m[I 2021-08-25 14:17:00,555]\u001b[0m Trial 29 finished with value: 0.20777991464461013 and parameters: {'bagging_fraction': 0.8451327957345586, 'bagging_freq': 5}. Best is trial 28 with value: 0.2071224300430098.\u001b[0m\n",
            "bagging, val_score: 0.205102:  30%|###       | 3/10 [00:01<00:03,  1.90it/s]"
          ],
          "name": "stderr"
        },
        {
          "output_type": "stream",
          "text": [
            "[100]\tvalid_0's binary_logloss: 0.0778273\tvalid_1's binary_logloss: 0.23436\n",
            "Early stopping, best iteration is:\n",
            "[13]\tvalid_0's binary_logloss: 0.164688\tvalid_1's binary_logloss: 0.20778\n",
            "Training until validation scores don't improve for 100 rounds.\n"
          ],
          "name": "stdout"
        },
        {
          "output_type": "stream",
          "text": [
            "/usr/local/lib/python3.7/dist-packages/lightgbm/basic.py:1209: UserWarning:\n",
            "\n",
            "categorical_feature in Dataset is overridden.\n",
            "New categorical_feature is ['MOSHOOFD', 'MOSTYPE']\n",
            "\n",
            "/usr/local/lib/python3.7/dist-packages/lightgbm/basic.py:762: UserWarning:\n",
            "\n",
            "categorical_feature in param dict is overridden.\n",
            "\n",
            "bagging, val_score: 0.205102:  40%|####      | 4/10 [00:02<00:03,  1.87it/s]\u001b[32m[I 2021-08-25 14:17:01,101]\u001b[0m Trial 30 finished with value: 0.20736666378513105 and parameters: {'bagging_fraction': 0.9187922568857304, 'bagging_freq': 4}. Best is trial 28 with value: 0.2071224300430098.\u001b[0m\n",
            "bagging, val_score: 0.205102:  40%|####      | 4/10 [00:02<00:03,  1.87it/s]"
          ],
          "name": "stderr"
        },
        {
          "output_type": "stream",
          "text": [
            "[100]\tvalid_0's binary_logloss: 0.074157\tvalid_1's binary_logloss: 0.234845\n",
            "Early stopping, best iteration is:\n",
            "[16]\tvalid_0's binary_logloss: 0.155315\tvalid_1's binary_logloss: 0.207367\n",
            "Training until validation scores don't improve for 100 rounds.\n"
          ],
          "name": "stdout"
        },
        {
          "output_type": "stream",
          "text": [
            "/usr/local/lib/python3.7/dist-packages/lightgbm/basic.py:1209: UserWarning:\n",
            "\n",
            "categorical_feature in Dataset is overridden.\n",
            "New categorical_feature is ['MOSHOOFD', 'MOSTYPE']\n",
            "\n",
            "/usr/local/lib/python3.7/dist-packages/lightgbm/basic.py:762: UserWarning:\n",
            "\n",
            "categorical_feature in param dict is overridden.\n",
            "\n",
            "bagging, val_score: 0.205102:  50%|#####     | 5/10 [00:02<00:02,  1.83it/s]\u001b[32m[I 2021-08-25 14:17:01,672]\u001b[0m Trial 31 finished with value: 0.2069708439539312 and parameters: {'bagging_fraction': 0.9440334304839167, 'bagging_freq': 3}. Best is trial 31 with value: 0.2069708439539312.\u001b[0m\n",
            "bagging, val_score: 0.205102:  50%|#####     | 5/10 [00:02<00:02,  1.83it/s]"
          ],
          "name": "stderr"
        },
        {
          "output_type": "stream",
          "text": [
            "[100]\tvalid_0's binary_logloss: 0.0749922\tvalid_1's binary_logloss: 0.234833\n",
            "Early stopping, best iteration is:\n",
            "[16]\tvalid_0's binary_logloss: 0.154968\tvalid_1's binary_logloss: 0.206971\n",
            "Training until validation scores don't improve for 100 rounds.\n"
          ],
          "name": "stdout"
        },
        {
          "output_type": "stream",
          "text": [
            "/usr/local/lib/python3.7/dist-packages/lightgbm/basic.py:1209: UserWarning:\n",
            "\n",
            "categorical_feature in Dataset is overridden.\n",
            "New categorical_feature is ['MOSHOOFD', 'MOSTYPE']\n",
            "\n",
            "/usr/local/lib/python3.7/dist-packages/lightgbm/basic.py:762: UserWarning:\n",
            "\n",
            "categorical_feature in param dict is overridden.\n",
            "\n",
            "bagging, val_score: 0.205102:  60%|######    | 6/10 [00:03<00:02,  1.90it/s]\u001b[32m[I 2021-08-25 14:17:02,158]\u001b[0m Trial 32 finished with value: 0.21034099269924764 and parameters: {'bagging_fraction': 0.482940399661306, 'bagging_freq': 1}. Best is trial 31 with value: 0.2069708439539312.\u001b[0m\n",
            "bagging, val_score: 0.205102:  60%|######    | 6/10 [00:03<00:02,  1.90it/s]"
          ],
          "name": "stderr"
        },
        {
          "output_type": "stream",
          "text": [
            "[100]\tvalid_0's binary_logloss: 0.0863012\tvalid_1's binary_logloss: 0.241565\n",
            "Early stopping, best iteration is:\n",
            "[10]\tvalid_0's binary_logloss: 0.177491\tvalid_1's binary_logloss: 0.210341\n",
            "Training until validation scores don't improve for 100 rounds.\n"
          ],
          "name": "stdout"
        },
        {
          "output_type": "stream",
          "text": [
            "/usr/local/lib/python3.7/dist-packages/lightgbm/basic.py:1209: UserWarning:\n",
            "\n",
            "categorical_feature in Dataset is overridden.\n",
            "New categorical_feature is ['MOSHOOFD', 'MOSTYPE']\n",
            "\n",
            "/usr/local/lib/python3.7/dist-packages/lightgbm/basic.py:762: UserWarning:\n",
            "\n",
            "categorical_feature in param dict is overridden.\n",
            "\n",
            "bagging, val_score: 0.205102:  70%|#######   | 7/10 [00:03<00:01,  1.87it/s]\u001b[32m[I 2021-08-25 14:17:02,715]\u001b[0m Trial 33 finished with value: 0.20726391585624362 and parameters: {'bagging_fraction': 0.8188605920374014, 'bagging_freq': 3}. Best is trial 31 with value: 0.2069708439539312.\u001b[0m\n",
            "bagging, val_score: 0.205102:  70%|#######   | 7/10 [00:03<00:01,  1.87it/s]"
          ],
          "name": "stderr"
        },
        {
          "output_type": "stream",
          "text": [
            "[100]\tvalid_0's binary_logloss: 0.0775646\tvalid_1's binary_logloss: 0.234812\n",
            "Early stopping, best iteration is:\n",
            "[18]\tvalid_0's binary_logloss: 0.152201\tvalid_1's binary_logloss: 0.207264\n",
            "Training until validation scores don't improve for 100 rounds.\n"
          ],
          "name": "stdout"
        },
        {
          "output_type": "stream",
          "text": [
            "/usr/local/lib/python3.7/dist-packages/lightgbm/basic.py:1209: UserWarning:\n",
            "\n",
            "categorical_feature in Dataset is overridden.\n",
            "New categorical_feature is ['MOSHOOFD', 'MOSTYPE']\n",
            "\n",
            "/usr/local/lib/python3.7/dist-packages/lightgbm/basic.py:762: UserWarning:\n",
            "\n",
            "categorical_feature in param dict is overridden.\n",
            "\n",
            "bagging, val_score: 0.205102:  80%|########  | 8/10 [00:04<00:01,  1.96it/s]\u001b[32m[I 2021-08-25 14:17:03,177]\u001b[0m Trial 34 finished with value: 0.20817966550269115 and parameters: {'bagging_fraction': 0.4879299175025641, 'bagging_freq': 3}. Best is trial 31 with value: 0.2069708439539312.\u001b[0m\n",
            "bagging, val_score: 0.205102:  80%|########  | 8/10 [00:04<00:01,  1.96it/s]"
          ],
          "name": "stderr"
        },
        {
          "output_type": "stream",
          "text": [
            "[100]\tvalid_0's binary_logloss: 0.0861219\tvalid_1's binary_logloss: 0.243072\n",
            "Early stopping, best iteration is:\n",
            "[12]\tvalid_0's binary_logloss: 0.170872\tvalid_1's binary_logloss: 0.20818\n",
            "Training until validation scores don't improve for 100 rounds.\n"
          ],
          "name": "stdout"
        },
        {
          "output_type": "stream",
          "text": [
            "/usr/local/lib/python3.7/dist-packages/lightgbm/basic.py:1209: UserWarning:\n",
            "\n",
            "categorical_feature in Dataset is overridden.\n",
            "New categorical_feature is ['MOSHOOFD', 'MOSTYPE']\n",
            "\n",
            "/usr/local/lib/python3.7/dist-packages/lightgbm/basic.py:762: UserWarning:\n",
            "\n",
            "categorical_feature in param dict is overridden.\n",
            "\n",
            "bagging, val_score: 0.205102:  90%|######### | 9/10 [00:04<00:00,  1.97it/s]\u001b[32m[I 2021-08-25 14:17:03,678]\u001b[0m Trial 35 finished with value: 0.20946162769465212 and parameters: {'bagging_fraction': 0.6344599650425222, 'bagging_freq': 7}. Best is trial 31 with value: 0.2069708439539312.\u001b[0m\n",
            "bagging, val_score: 0.205102:  90%|######### | 9/10 [00:04<00:00,  1.97it/s]"
          ],
          "name": "stderr"
        },
        {
          "output_type": "stream",
          "text": [
            "[100]\tvalid_0's binary_logloss: 0.0816166\tvalid_1's binary_logloss: 0.24025\n",
            "Early stopping, best iteration is:\n",
            "[16]\tvalid_0's binary_logloss: 0.161208\tvalid_1's binary_logloss: 0.209462\n",
            "Training until validation scores don't improve for 100 rounds.\n"
          ],
          "name": "stdout"
        },
        {
          "output_type": "stream",
          "text": [
            "/usr/local/lib/python3.7/dist-packages/lightgbm/basic.py:1209: UserWarning:\n",
            "\n",
            "categorical_feature in Dataset is overridden.\n",
            "New categorical_feature is ['MOSHOOFD', 'MOSTYPE']\n",
            "\n",
            "/usr/local/lib/python3.7/dist-packages/lightgbm/basic.py:762: UserWarning:\n",
            "\n",
            "categorical_feature in param dict is overridden.\n",
            "\n",
            "bagging, val_score: 0.205102: 100%|##########| 10/10 [00:05<00:00,  1.89it/s]\u001b[32m[I 2021-08-25 14:17:04,248]\u001b[0m Trial 36 finished with value: 0.20727555226998753 and parameters: {'bagging_fraction': 0.8953092688819542, 'bagging_freq': 2}. Best is trial 31 with value: 0.2069708439539312.\u001b[0m\n",
            "bagging, val_score: 0.205102: 100%|##########| 10/10 [00:05<00:00,  1.90it/s]\n"
          ],
          "name": "stderr"
        },
        {
          "output_type": "stream",
          "text": [
            "[100]\tvalid_0's binary_logloss: 0.0765579\tvalid_1's binary_logloss: 0.235473\n",
            "Early stopping, best iteration is:\n",
            "[16]\tvalid_0's binary_logloss: 0.154503\tvalid_1's binary_logloss: 0.207276\n"
          ],
          "name": "stdout"
        },
        {
          "output_type": "stream",
          "text": [
            "feature_fraction_stage2, val_score: 0.205102:   0%|          | 0/6 [00:00<?, ?it/s]"
          ],
          "name": "stderr"
        },
        {
          "output_type": "stream",
          "text": [
            "Training until validation scores don't improve for 100 rounds.\n"
          ],
          "name": "stdout"
        },
        {
          "output_type": "stream",
          "text": [
            "/usr/local/lib/python3.7/dist-packages/lightgbm/basic.py:1209: UserWarning:\n",
            "\n",
            "categorical_feature in Dataset is overridden.\n",
            "New categorical_feature is ['MOSHOOFD', 'MOSTYPE']\n",
            "\n",
            "/usr/local/lib/python3.7/dist-packages/lightgbm/basic.py:762: UserWarning:\n",
            "\n",
            "categorical_feature in param dict is overridden.\n",
            "\n",
            "feature_fraction_stage2, val_score: 0.205102:  17%|#6        | 1/6 [00:00<00:02,  1.87it/s]\u001b[32m[I 2021-08-25 14:17:04,797]\u001b[0m Trial 37 finished with value: 0.2065637634331991 and parameters: {'feature_fraction': 0.616}. Best is trial 37 with value: 0.2065637634331991.\u001b[0m\n",
            "feature_fraction_stage2, val_score: 0.205102:  17%|#6        | 1/6 [00:00<00:02,  1.87it/s]"
          ],
          "name": "stderr"
        },
        {
          "output_type": "stream",
          "text": [
            "[100]\tvalid_0's binary_logloss: 0.0749776\tvalid_1's binary_logloss: 0.23215\n",
            "Early stopping, best iteration is:\n",
            "[20]\tvalid_0's binary_logloss: 0.146761\tvalid_1's binary_logloss: 0.206564\n",
            "Training until validation scores don't improve for 100 rounds.\n"
          ],
          "name": "stdout"
        },
        {
          "output_type": "stream",
          "text": [
            "/usr/local/lib/python3.7/dist-packages/lightgbm/basic.py:1209: UserWarning:\n",
            "\n",
            "categorical_feature in Dataset is overridden.\n",
            "New categorical_feature is ['MOSHOOFD', 'MOSTYPE']\n",
            "\n",
            "/usr/local/lib/python3.7/dist-packages/lightgbm/basic.py:762: UserWarning:\n",
            "\n",
            "categorical_feature in param dict is overridden.\n",
            "\n",
            "feature_fraction_stage2, val_score: 0.205102:  33%|###3      | 2/6 [00:01<00:01,  2.02it/s]\u001b[32m[I 2021-08-25 14:17:05,265]\u001b[0m Trial 38 finished with value: 0.20713065947257964 and parameters: {'feature_fraction': 0.52}. Best is trial 37 with value: 0.2065637634331991.\u001b[0m\n",
            "feature_fraction_stage2, val_score: 0.205102:  33%|###3      | 2/6 [00:01<00:01,  2.02it/s]"
          ],
          "name": "stderr"
        },
        {
          "output_type": "stream",
          "text": [
            "[100]\tvalid_0's binary_logloss: 0.0780427\tvalid_1's binary_logloss: 0.235087\n",
            "Early stopping, best iteration is:\n",
            "[17]\tvalid_0's binary_logloss: 0.154281\tvalid_1's binary_logloss: 0.207131\n",
            "Training until validation scores don't improve for 100 rounds.\n"
          ],
          "name": "stdout"
        },
        {
          "output_type": "stream",
          "text": [
            "/usr/local/lib/python3.7/dist-packages/lightgbm/basic.py:1209: UserWarning:\n",
            "\n",
            "categorical_feature in Dataset is overridden.\n",
            "New categorical_feature is ['MOSHOOFD', 'MOSTYPE']\n",
            "\n",
            "/usr/local/lib/python3.7/dist-packages/lightgbm/basic.py:762: UserWarning:\n",
            "\n",
            "categorical_feature in param dict is overridden.\n",
            "\n",
            "feature_fraction_stage2, val_score: 0.205102:  50%|#####     | 3/6 [00:01<00:01,  1.97it/s]\u001b[32m[I 2021-08-25 14:17:05,788]\u001b[0m Trial 39 finished with value: 0.2077384262376686 and parameters: {'feature_fraction': 0.6799999999999999}. Best is trial 37 with value: 0.2065637634331991.\u001b[0m\n",
            "feature_fraction_stage2, val_score: 0.205102:  50%|#####     | 3/6 [00:01<00:01,  1.97it/s]"
          ],
          "name": "stderr"
        },
        {
          "output_type": "stream",
          "text": [
            "[100]\tvalid_0's binary_logloss: 0.0735268\tvalid_1's binary_logloss: 0.235223\n",
            "Early stopping, best iteration is:\n",
            "[19]\tvalid_0's binary_logloss: 0.147384\tvalid_1's binary_logloss: 0.207738\n",
            "Training until validation scores don't improve for 100 rounds.\n"
          ],
          "name": "stdout"
        },
        {
          "output_type": "stream",
          "text": [
            "/usr/local/lib/python3.7/dist-packages/lightgbm/basic.py:1209: UserWarning:\n",
            "\n",
            "categorical_feature in Dataset is overridden.\n",
            "New categorical_feature is ['MOSHOOFD', 'MOSTYPE']\n",
            "\n",
            "/usr/local/lib/python3.7/dist-packages/lightgbm/basic.py:762: UserWarning:\n",
            "\n",
            "categorical_feature in param dict is overridden.\n",
            "\n",
            "feature_fraction_stage2, val_score: 0.205102:  67%|######6   | 4/6 [00:01<00:00,  2.02it/s]\u001b[32m[I 2021-08-25 14:17:06,261]\u001b[0m Trial 40 finished with value: 0.20655837713656583 and parameters: {'feature_fraction': 0.552}. Best is trial 40 with value: 0.20655837713656583.\u001b[0m\n",
            "feature_fraction_stage2, val_score: 0.205102:  67%|######6   | 4/6 [00:02<00:00,  2.02it/s]"
          ],
          "name": "stderr"
        },
        {
          "output_type": "stream",
          "text": [
            "[100]\tvalid_0's binary_logloss: 0.0776345\tvalid_1's binary_logloss: 0.231236\n",
            "Early stopping, best iteration is:\n",
            "[18]\tvalid_0's binary_logloss: 0.152458\tvalid_1's binary_logloss: 0.206558\n",
            "Training until validation scores don't improve for 100 rounds.\n"
          ],
          "name": "stdout"
        },
        {
          "output_type": "stream",
          "text": [
            "/usr/local/lib/python3.7/dist-packages/lightgbm/basic.py:1209: UserWarning:\n",
            "\n",
            "categorical_feature in Dataset is overridden.\n",
            "New categorical_feature is ['MOSHOOFD', 'MOSTYPE']\n",
            "\n",
            "/usr/local/lib/python3.7/dist-packages/lightgbm/basic.py:762: UserWarning:\n",
            "\n",
            "categorical_feature in param dict is overridden.\n",
            "\n",
            "feature_fraction_stage2, val_score: 0.205102:  83%|########3 | 5/6 [00:02<00:00,  2.00it/s]\u001b[32m[I 2021-08-25 14:17:06,768]\u001b[0m Trial 41 finished with value: 0.207059478238699 and parameters: {'feature_fraction': 0.6479999999999999}. Best is trial 40 with value: 0.20655837713656583.\u001b[0m\n",
            "feature_fraction_stage2, val_score: 0.205102:  83%|########3 | 5/6 [00:02<00:00,  2.00it/s]"
          ],
          "name": "stderr"
        },
        {
          "output_type": "stream",
          "text": [
            "[100]\tvalid_0's binary_logloss: 0.0755215\tvalid_1's binary_logloss: 0.233245\n",
            "Early stopping, best iteration is:\n",
            "[16]\tvalid_0's binary_logloss: 0.154368\tvalid_1's binary_logloss: 0.207059\n",
            "Training until validation scores don't improve for 100 rounds.\n"
          ],
          "name": "stdout"
        },
        {
          "output_type": "stream",
          "text": [
            "/usr/local/lib/python3.7/dist-packages/lightgbm/basic.py:1209: UserWarning:\n",
            "\n",
            "categorical_feature in Dataset is overridden.\n",
            "New categorical_feature is ['MOSHOOFD', 'MOSTYPE']\n",
            "\n",
            "/usr/local/lib/python3.7/dist-packages/lightgbm/basic.py:762: UserWarning:\n",
            "\n",
            "categorical_feature in param dict is overridden.\n",
            "\n",
            "feature_fraction_stage2, val_score: 0.205102: 100%|##########| 6/6 [00:02<00:00,  2.02it/s]\u001b[32m[I 2021-08-25 14:17:07,258]\u001b[0m Trial 42 finished with value: 0.20619593386006366 and parameters: {'feature_fraction': 0.584}. Best is trial 42 with value: 0.20619593386006366.\u001b[0m\n",
            "feature_fraction_stage2, val_score: 0.205102: 100%|##########| 6/6 [00:03<00:00,  2.00it/s]\n"
          ],
          "name": "stderr"
        },
        {
          "output_type": "stream",
          "text": [
            "[100]\tvalid_0's binary_logloss: 0.0766742\tvalid_1's binary_logloss: 0.233192\n",
            "Early stopping, best iteration is:\n",
            "[18]\tvalid_0's binary_logloss: 0.15107\tvalid_1's binary_logloss: 0.206196\n"
          ],
          "name": "stdout"
        },
        {
          "output_type": "stream",
          "text": [
            "regularization_factors, val_score: 0.205102:   0%|          | 0/20 [00:00<?, ?it/s]"
          ],
          "name": "stderr"
        },
        {
          "output_type": "stream",
          "text": [
            "Training until validation scores don't improve for 100 rounds.\n"
          ],
          "name": "stdout"
        },
        {
          "output_type": "stream",
          "text": [
            "/usr/local/lib/python3.7/dist-packages/lightgbm/basic.py:1209: UserWarning:\n",
            "\n",
            "categorical_feature in Dataset is overridden.\n",
            "New categorical_feature is ['MOSHOOFD', 'MOSTYPE']\n",
            "\n",
            "/usr/local/lib/python3.7/dist-packages/lightgbm/basic.py:762: UserWarning:\n",
            "\n",
            "categorical_feature in param dict is overridden.\n",
            "\n",
            "regularization_factors, val_score: 0.205102:   5%|5         | 1/20 [00:00<00:08,  2.17it/s]\u001b[32m[I 2021-08-25 14:17:07,740]\u001b[0m Trial 43 finished with value: 0.20763853757628972 and parameters: {'lambda_l1': 3.299519065241686, 'lambda_l2': 1.6563746150501947e-05}. Best is trial 43 with value: 0.20763853757628972.\u001b[0m\n",
            "regularization_factors, val_score: 0.205102:   5%|5         | 1/20 [00:00<00:08,  2.17it/s]"
          ],
          "name": "stderr"
        },
        {
          "output_type": "stream",
          "text": [
            "[100]\tvalid_0's binary_logloss: 0.122519\tvalid_1's binary_logloss: 0.21542\n",
            "Early stopping, best iteration is:\n",
            "[19]\tvalid_0's binary_logloss: 0.172984\tvalid_1's binary_logloss: 0.207639\n",
            "Training until validation scores don't improve for 100 rounds.\n"
          ],
          "name": "stdout"
        },
        {
          "output_type": "stream",
          "text": [
            "/usr/local/lib/python3.7/dist-packages/lightgbm/basic.py:1209: UserWarning:\n",
            "\n",
            "categorical_feature in Dataset is overridden.\n",
            "New categorical_feature is ['MOSHOOFD', 'MOSTYPE']\n",
            "\n",
            "/usr/local/lib/python3.7/dist-packages/lightgbm/basic.py:762: UserWarning:\n",
            "\n",
            "categorical_feature in param dict is overridden.\n",
            "\n",
            "regularization_factors, val_score: 0.205102:  10%|#         | 2/20 [00:00<00:08,  2.09it/s]\u001b[32m[I 2021-08-25 14:17:08,226]\u001b[0m Trial 44 finished with value: 0.20510201542041365 and parameters: {'lambda_l1': 6.665691986511448e-05, 'lambda_l2': 1.5082423874555946e-06}. Best is trial 44 with value: 0.20510201542041365.\u001b[0m\n",
            "regularization_factors, val_score: 0.205102:  10%|#         | 2/20 [00:00<00:08,  2.09it/s]"
          ],
          "name": "stderr"
        },
        {
          "output_type": "stream",
          "text": [
            "[100]\tvalid_0's binary_logloss: 0.0748924\tvalid_1's binary_logloss: 0.230767\n",
            "Early stopping, best iteration is:\n",
            "[17]\tvalid_0's binary_logloss: 0.152176\tvalid_1's binary_logloss: 0.205102\n",
            "Training until validation scores don't improve for 100 rounds.\n"
          ],
          "name": "stdout"
        },
        {
          "output_type": "stream",
          "text": [
            "/usr/local/lib/python3.7/dist-packages/lightgbm/basic.py:1209: UserWarning:\n",
            "\n",
            "categorical_feature in Dataset is overridden.\n",
            "New categorical_feature is ['MOSHOOFD', 'MOSTYPE']\n",
            "\n",
            "/usr/local/lib/python3.7/dist-packages/lightgbm/basic.py:762: UserWarning:\n",
            "\n",
            "categorical_feature in param dict is overridden.\n",
            "\n",
            "regularization_factors, val_score: 0.205102:  15%|#5        | 3/20 [00:01<00:08,  2.07it/s]\u001b[32m[I 2021-08-25 14:17:08,714]\u001b[0m Trial 45 finished with value: 0.20590465422146992 and parameters: {'lambda_l1': 0.008462730104994655, 'lambda_l2': 1.193129013411339e-07}. Best is trial 44 with value: 0.20510201542041365.\u001b[0m\n",
            "regularization_factors, val_score: 0.205102:  15%|#5        | 3/20 [00:01<00:08,  2.07it/s]"
          ],
          "name": "stderr"
        },
        {
          "output_type": "stream",
          "text": [
            "[100]\tvalid_0's binary_logloss: 0.0757238\tvalid_1's binary_logloss: 0.234093\n",
            "Early stopping, best iteration is:\n",
            "[15]\tvalid_0's binary_logloss: 0.157115\tvalid_1's binary_logloss: 0.205905\n",
            "Training until validation scores don't improve for 100 rounds.\n"
          ],
          "name": "stdout"
        },
        {
          "output_type": "stream",
          "text": [
            "/usr/local/lib/python3.7/dist-packages/lightgbm/basic.py:1209: UserWarning:\n",
            "\n",
            "categorical_feature in Dataset is overridden.\n",
            "New categorical_feature is ['MOSHOOFD', 'MOSTYPE']\n",
            "\n",
            "/usr/local/lib/python3.7/dist-packages/lightgbm/basic.py:762: UserWarning:\n",
            "\n",
            "categorical_feature in param dict is overridden.\n",
            "\n",
            "regularization_factors, val_score: 0.205102:  20%|##        | 4/20 [00:01<00:07,  2.04it/s]\u001b[32m[I 2021-08-25 14:17:09,214]\u001b[0m Trial 46 finished with value: 0.2074519713273176 and parameters: {'lambda_l1': 0.001984582644605006, 'lambda_l2': 0.39959108687146033}. Best is trial 44 with value: 0.20510201542041365.\u001b[0m\n",
            "regularization_factors, val_score: 0.205102:  20%|##        | 4/20 [00:01<00:07,  2.04it/s]"
          ],
          "name": "stderr"
        },
        {
          "output_type": "stream",
          "text": [
            "[100]\tvalid_0's binary_logloss: 0.0810633\tvalid_1's binary_logloss: 0.227978\n",
            "Early stopping, best iteration is:\n",
            "[22]\tvalid_0's binary_logloss: 0.147339\tvalid_1's binary_logloss: 0.207452\n",
            "Training until validation scores don't improve for 100 rounds.\n"
          ],
          "name": "stdout"
        },
        {
          "output_type": "stream",
          "text": [
            "/usr/local/lib/python3.7/dist-packages/lightgbm/basic.py:1209: UserWarning:\n",
            "\n",
            "categorical_feature in Dataset is overridden.\n",
            "New categorical_feature is ['MOSHOOFD', 'MOSTYPE']\n",
            "\n",
            "/usr/local/lib/python3.7/dist-packages/lightgbm/basic.py:762: UserWarning:\n",
            "\n",
            "categorical_feature in param dict is overridden.\n",
            "\n",
            "regularization_factors, val_score: 0.205102:  25%|##5       | 5/20 [00:02<00:07,  2.02it/s]\u001b[32m[I 2021-08-25 14:17:09,717]\u001b[0m Trial 47 finished with value: 0.20510210841379806 and parameters: {'lambda_l1': 0.0018891333360535807, 'lambda_l2': 3.1560218738710664e-07}. Best is trial 44 with value: 0.20510201542041365.\u001b[0m\n",
            "regularization_factors, val_score: 0.205102:  25%|##5       | 5/20 [00:02<00:07,  2.02it/s]"
          ],
          "name": "stderr"
        },
        {
          "output_type": "stream",
          "text": [
            "[100]\tvalid_0's binary_logloss: 0.0742179\tvalid_1's binary_logloss: 0.230571\n",
            "Early stopping, best iteration is:\n",
            "[17]\tvalid_0's binary_logloss: 0.152187\tvalid_1's binary_logloss: 0.205102\n",
            "Training until validation scores don't improve for 100 rounds.\n"
          ],
          "name": "stdout"
        },
        {
          "output_type": "stream",
          "text": [
            "/usr/local/lib/python3.7/dist-packages/lightgbm/basic.py:1209: UserWarning:\n",
            "\n",
            "categorical_feature in Dataset is overridden.\n",
            "New categorical_feature is ['MOSHOOFD', 'MOSTYPE']\n",
            "\n",
            "/usr/local/lib/python3.7/dist-packages/lightgbm/basic.py:762: UserWarning:\n",
            "\n",
            "categorical_feature in param dict is overridden.\n",
            "\n",
            "regularization_factors, val_score: 0.205102:  30%|###       | 6/20 [00:02<00:06,  2.06it/s]\u001b[32m[I 2021-08-25 14:17:10,186]\u001b[0m Trial 48 finished with value: 0.2077116016066256 and parameters: {'lambda_l1': 0.13361031635845758, 'lambda_l2': 0.005053023540664575}. Best is trial 44 with value: 0.20510201542041365.\u001b[0m\n",
            "regularization_factors, val_score: 0.205102:  30%|###       | 6/20 [00:02<00:06,  2.06it/s]"
          ],
          "name": "stderr"
        },
        {
          "output_type": "stream",
          "text": [
            "[100]\tvalid_0's binary_logloss: 0.0761752\tvalid_1's binary_logloss: 0.23323\n",
            "Early stopping, best iteration is:\n",
            "[15]\tvalid_0's binary_logloss: 0.158247\tvalid_1's binary_logloss: 0.207712\n",
            "Training until validation scores don't improve for 100 rounds.\n"
          ],
          "name": "stdout"
        },
        {
          "output_type": "stream",
          "text": [
            "/usr/local/lib/python3.7/dist-packages/lightgbm/basic.py:1209: UserWarning:\n",
            "\n",
            "categorical_feature in Dataset is overridden.\n",
            "New categorical_feature is ['MOSHOOFD', 'MOSTYPE']\n",
            "\n",
            "/usr/local/lib/python3.7/dist-packages/lightgbm/basic.py:762: UserWarning:\n",
            "\n",
            "categorical_feature in param dict is overridden.\n",
            "\n",
            "regularization_factors, val_score: 0.205102:  35%|###5      | 7/20 [00:03<00:06,  2.02it/s]\u001b[32m[I 2021-08-25 14:17:10,700]\u001b[0m Trial 49 finished with value: 0.20664607820729802 and parameters: {'lambda_l1': 1.104508318358769e-07, 'lambda_l2': 0.8178231894810959}. Best is trial 44 with value: 0.20510201542041365.\u001b[0m\n",
            "regularization_factors, val_score: 0.205102:  35%|###5      | 7/20 [00:03<00:06,  2.02it/s]"
          ],
          "name": "stderr"
        },
        {
          "output_type": "stream",
          "text": [
            "[100]\tvalid_0's binary_logloss: 0.0863771\tvalid_1's binary_logloss: 0.227588\n",
            "Early stopping, best iteration is:\n",
            "[18]\tvalid_0's binary_logloss: 0.157991\tvalid_1's binary_logloss: 0.206646\n",
            "Training until validation scores don't improve for 100 rounds.\n"
          ],
          "name": "stdout"
        },
        {
          "output_type": "stream",
          "text": [
            "/usr/local/lib/python3.7/dist-packages/lightgbm/basic.py:1209: UserWarning:\n",
            "\n",
            "categorical_feature in Dataset is overridden.\n",
            "New categorical_feature is ['MOSHOOFD', 'MOSTYPE']\n",
            "\n",
            "/usr/local/lib/python3.7/dist-packages/lightgbm/basic.py:762: UserWarning:\n",
            "\n",
            "categorical_feature in param dict is overridden.\n",
            "\n",
            "regularization_factors, val_score: 0.205102:  40%|####      | 8/20 [00:03<00:05,  2.03it/s]\u001b[32m[I 2021-08-25 14:17:11,185]\u001b[0m Trial 50 finished with value: 0.20510195413609647 and parameters: {'lambda_l1': 0.00014038850838970403, 'lambda_l2': 7.1214633178926e-05}. Best is trial 50 with value: 0.20510195413609647.\u001b[0m\n",
            "regularization_factors, val_score: 0.205102:  40%|####      | 8/20 [00:03<00:05,  2.03it/s]"
          ],
          "name": "stderr"
        },
        {
          "output_type": "stream",
          "text": [
            "[100]\tvalid_0's binary_logloss: 0.0748956\tvalid_1's binary_logloss: 0.230762\n",
            "Early stopping, best iteration is:\n",
            "[17]\tvalid_0's binary_logloss: 0.152178\tvalid_1's binary_logloss: 0.205102\n",
            "Training until validation scores don't improve for 100 rounds.\n"
          ],
          "name": "stdout"
        },
        {
          "output_type": "stream",
          "text": [
            "/usr/local/lib/python3.7/dist-packages/lightgbm/basic.py:1209: UserWarning:\n",
            "\n",
            "categorical_feature in Dataset is overridden.\n",
            "New categorical_feature is ['MOSHOOFD', 'MOSTYPE']\n",
            "\n",
            "/usr/local/lib/python3.7/dist-packages/lightgbm/basic.py:762: UserWarning:\n",
            "\n",
            "categorical_feature in param dict is overridden.\n",
            "\n",
            "regularization_factors, val_score: 0.205102:  45%|####5     | 9/20 [00:04<00:05,  2.01it/s]\u001b[32m[I 2021-08-25 14:17:11,692]\u001b[0m Trial 51 finished with value: 0.20899055238313122 and parameters: {'lambda_l1': 4.4889720750098495e-06, 'lambda_l2': 1.0451398545749764}. Best is trial 50 with value: 0.20510195413609647.\u001b[0m\n",
            "regularization_factors, val_score: 0.205102:  45%|####5     | 9/20 [00:04<00:05,  2.01it/s]"
          ],
          "name": "stderr"
        },
        {
          "output_type": "stream",
          "text": [
            "[100]\tvalid_0's binary_logloss: 0.0860984\tvalid_1's binary_logloss: 0.227309\n",
            "Early stopping, best iteration is:\n",
            "[16]\tvalid_0's binary_logloss: 0.1624\tvalid_1's binary_logloss: 0.208991\n",
            "Training until validation scores don't improve for 100 rounds.\n"
          ],
          "name": "stdout"
        },
        {
          "output_type": "stream",
          "text": [
            "/usr/local/lib/python3.7/dist-packages/lightgbm/basic.py:1209: UserWarning:\n",
            "\n",
            "categorical_feature in Dataset is overridden.\n",
            "New categorical_feature is ['MOSHOOFD', 'MOSTYPE']\n",
            "\n",
            "/usr/local/lib/python3.7/dist-packages/lightgbm/basic.py:762: UserWarning:\n",
            "\n",
            "categorical_feature in param dict is overridden.\n",
            "\n",
            "regularization_factors, val_score: 0.205102:  50%|#####     | 10/20 [00:04<00:05,  2.00it/s]\u001b[32m[I 2021-08-25 14:17:12,206]\u001b[0m Trial 52 finished with value: 0.20732226080450744 and parameters: {'lambda_l1': 1.6106539225446026e-08, 'lambda_l2': 0.4455765631239754}. Best is trial 50 with value: 0.20510195413609647.\u001b[0m\n",
            "regularization_factors, val_score: 0.205102:  50%|#####     | 10/20 [00:04<00:05,  2.00it/s]"
          ],
          "name": "stderr"
        },
        {
          "output_type": "stream",
          "text": [
            "[100]\tvalid_0's binary_logloss: 0.081277\tvalid_1's binary_logloss: 0.227885\n",
            "Early stopping, best iteration is:\n",
            "[18]\tvalid_0's binary_logloss: 0.155841\tvalid_1's binary_logloss: 0.207322\n",
            "Training until validation scores don't improve for 100 rounds.\n"
          ],
          "name": "stdout"
        },
        {
          "output_type": "stream",
          "text": [
            "/usr/local/lib/python3.7/dist-packages/lightgbm/basic.py:1209: UserWarning:\n",
            "\n",
            "categorical_feature in Dataset is overridden.\n",
            "New categorical_feature is ['MOSHOOFD', 'MOSTYPE']\n",
            "\n",
            "/usr/local/lib/python3.7/dist-packages/lightgbm/basic.py:762: UserWarning:\n",
            "\n",
            "categorical_feature in param dict is overridden.\n",
            "\n",
            "regularization_factors, val_score: 0.205102:  55%|#####5    | 11/20 [00:05<00:04,  1.98it/s]\u001b[32m[I 2021-08-25 14:17:12,716]\u001b[0m Trial 53 finished with value: 0.20510172606653168 and parameters: {'lambda_l1': 7.878165914372312e-06, 'lambda_l2': 0.00030883930362022156}. Best is trial 53 with value: 0.20510172606653168.\u001b[0m\n",
            "regularization_factors, val_score: 0.205102:  55%|#####5    | 11/20 [00:05<00:04,  1.98it/s]"
          ],
          "name": "stderr"
        },
        {
          "output_type": "stream",
          "text": [
            "[100]\tvalid_0's binary_logloss: 0.0746953\tvalid_1's binary_logloss: 0.23154\n",
            "Early stopping, best iteration is:\n",
            "[17]\tvalid_0's binary_logloss: 0.152179\tvalid_1's binary_logloss: 0.205102\n",
            "Training until validation scores don't improve for 100 rounds.\n"
          ],
          "name": "stdout"
        },
        {
          "output_type": "stream",
          "text": [
            "/usr/local/lib/python3.7/dist-packages/lightgbm/basic.py:1209: UserWarning:\n",
            "\n",
            "categorical_feature in Dataset is overridden.\n",
            "New categorical_feature is ['MOSHOOFD', 'MOSTYPE']\n",
            "\n",
            "/usr/local/lib/python3.7/dist-packages/lightgbm/basic.py:762: UserWarning:\n",
            "\n",
            "categorical_feature in param dict is overridden.\n",
            "\n",
            "regularization_factors, val_score: 0.205102:  60%|######    | 12/20 [00:05<00:04,  1.98it/s]\u001b[32m[I 2021-08-25 14:17:13,223]\u001b[0m Trial 54 finished with value: 0.20510162252793 and parameters: {'lambda_l1': 9.02579851699732e-06, 'lambda_l2': 0.00042007191056998}. Best is trial 54 with value: 0.20510162252793.\u001b[0m\n",
            "regularization_factors, val_score: 0.205102:  60%|######    | 12/20 [00:05<00:04,  1.98it/s]"
          ],
          "name": "stderr"
        },
        {
          "output_type": "stream",
          "text": [
            "[100]\tvalid_0's binary_logloss: 0.074698\tvalid_1's binary_logloss: 0.231537\n",
            "Early stopping, best iteration is:\n",
            "[17]\tvalid_0's binary_logloss: 0.152181\tvalid_1's binary_logloss: 0.205102\n",
            "Training until validation scores don't improve for 100 rounds.\n"
          ],
          "name": "stdout"
        },
        {
          "output_type": "stream",
          "text": [
            "/usr/local/lib/python3.7/dist-packages/lightgbm/basic.py:1209: UserWarning:\n",
            "\n",
            "categorical_feature in Dataset is overridden.\n",
            "New categorical_feature is ['MOSHOOFD', 'MOSTYPE']\n",
            "\n",
            "/usr/local/lib/python3.7/dist-packages/lightgbm/basic.py:762: UserWarning:\n",
            "\n",
            "categorical_feature in param dict is overridden.\n",
            "\n",
            "regularization_factors, val_score: 0.205102:  65%|######5   | 13/20 [00:06<00:03,  1.98it/s]\u001b[32m[I 2021-08-25 14:17:13,727]\u001b[0m Trial 55 finished with value: 0.2069613700201457 and parameters: {'lambda_l1': 1.2351195380118133e-06, 'lambda_l2': 0.0029229556989429782}. Best is trial 54 with value: 0.20510162252793.\u001b[0m\n",
            "regularization_factors, val_score: 0.205102:  65%|######5   | 13/20 [00:06<00:03,  1.98it/s]"
          ],
          "name": "stderr"
        },
        {
          "output_type": "stream",
          "text": [
            "[100]\tvalid_0's binary_logloss: 0.0752245\tvalid_1's binary_logloss: 0.236783\n",
            "Early stopping, best iteration is:\n",
            "[14]\tvalid_0's binary_logloss: 0.159439\tvalid_1's binary_logloss: 0.206961\n",
            "Training until validation scores don't improve for 100 rounds.\n"
          ],
          "name": "stdout"
        },
        {
          "output_type": "stream",
          "text": [
            "/usr/local/lib/python3.7/dist-packages/lightgbm/basic.py:1209: UserWarning:\n",
            "\n",
            "categorical_feature in Dataset is overridden.\n",
            "New categorical_feature is ['MOSHOOFD', 'MOSTYPE']\n",
            "\n",
            "/usr/local/lib/python3.7/dist-packages/lightgbm/basic.py:762: UserWarning:\n",
            "\n",
            "categorical_feature in param dict is overridden.\n",
            "\n",
            "regularization_factors, val_score: 0.205100:  70%|#######   | 14/20 [00:06<00:02,  2.00it/s]\u001b[32m[I 2021-08-25 14:17:14,215]\u001b[0m Trial 56 finished with value: 0.20509985145042128 and parameters: {'lambda_l1': 1.3204464670634513e-05, 'lambda_l2': 0.0023271863128646584}. Best is trial 56 with value: 0.20509985145042128.\u001b[0m\n",
            "regularization_factors, val_score: 0.205100:  70%|#######   | 14/20 [00:06<00:02,  2.00it/s]"
          ],
          "name": "stderr"
        },
        {
          "output_type": "stream",
          "text": [
            "[100]\tvalid_0's binary_logloss: 0.0758165\tvalid_1's binary_logloss: 0.233173\n",
            "Early stopping, best iteration is:\n",
            "[17]\tvalid_0's binary_logloss: 0.152202\tvalid_1's binary_logloss: 0.2051\n",
            "Training until validation scores don't improve for 100 rounds.\n"
          ],
          "name": "stdout"
        },
        {
          "output_type": "stream",
          "text": [
            "/usr/local/lib/python3.7/dist-packages/lightgbm/basic.py:1209: UserWarning:\n",
            "\n",
            "categorical_feature in Dataset is overridden.\n",
            "New categorical_feature is ['MOSHOOFD', 'MOSTYPE']\n",
            "\n",
            "/usr/local/lib/python3.7/dist-packages/lightgbm/basic.py:762: UserWarning:\n",
            "\n",
            "categorical_feature in param dict is overridden.\n",
            "\n",
            "regularization_factors, val_score: 0.205100:  75%|#######5  | 15/20 [00:07<00:02,  2.02it/s]\u001b[32m[I 2021-08-25 14:17:14,692]\u001b[0m Trial 57 finished with value: 0.20589597916724364 and parameters: {'lambda_l1': 5.167682481928527e-07, 'lambda_l2': 0.01122087974057605}. Best is trial 56 with value: 0.20509985145042128.\u001b[0m\n",
            "regularization_factors, val_score: 0.205100:  75%|#######5  | 15/20 [00:07<00:02,  2.02it/s]"
          ],
          "name": "stderr"
        },
        {
          "output_type": "stream",
          "text": [
            "[100]\tvalid_0's binary_logloss: 0.074953\tvalid_1's binary_logloss: 0.231917\n",
            "Early stopping, best iteration is:\n",
            "[15]\tvalid_0's binary_logloss: 0.157193\tvalid_1's binary_logloss: 0.205896\n",
            "Training until validation scores don't improve for 100 rounds.\n"
          ],
          "name": "stdout"
        },
        {
          "output_type": "stream",
          "text": [
            "/usr/local/lib/python3.7/dist-packages/lightgbm/basic.py:1209: UserWarning:\n",
            "\n",
            "categorical_feature in Dataset is overridden.\n",
            "New categorical_feature is ['MOSHOOFD', 'MOSTYPE']\n",
            "\n",
            "/usr/local/lib/python3.7/dist-packages/lightgbm/basic.py:762: UserWarning:\n",
            "\n",
            "categorical_feature in param dict is overridden.\n",
            "\n",
            "regularization_factors, val_score: 0.205100:  80%|########  | 16/20 [00:07<00:01,  2.00it/s]\u001b[32m[I 2021-08-25 14:17:15,210]\u001b[0m Trial 58 finished with value: 0.20723216192750135 and parameters: {'lambda_l1': 3.315767372353183e-05, 'lambda_l2': 0.04022435085441772}. Best is trial 56 with value: 0.20509985145042128.\u001b[0m\n",
            "regularization_factors, val_score: 0.205100:  80%|########  | 16/20 [00:07<00:01,  2.00it/s]"
          ],
          "name": "stderr"
        },
        {
          "output_type": "stream",
          "text": [
            "[100]\tvalid_0's binary_logloss: 0.0765145\tvalid_1's binary_logloss: 0.232215\n",
            "Early stopping, best iteration is:\n",
            "[14]\tvalid_0's binary_logloss: 0.15978\tvalid_1's binary_logloss: 0.207232\n",
            "Training until validation scores don't improve for 100 rounds.\n"
          ],
          "name": "stdout"
        },
        {
          "output_type": "stream",
          "text": [
            "/usr/local/lib/python3.7/dist-packages/lightgbm/basic.py:1209: UserWarning:\n",
            "\n",
            "categorical_feature in Dataset is overridden.\n",
            "New categorical_feature is ['MOSHOOFD', 'MOSTYPE']\n",
            "\n",
            "/usr/local/lib/python3.7/dist-packages/lightgbm/basic.py:762: UserWarning:\n",
            "\n",
            "categorical_feature in param dict is overridden.\n",
            "\n",
            "regularization_factors, val_score: 0.205100:  85%|########5 | 17/20 [00:08<00:01,  2.02it/s]\u001b[32m[I 2021-08-25 14:17:15,691]\u001b[0m Trial 59 finished with value: 0.2051020044016145 and parameters: {'lambda_l1': 1.0706428837177841e-07, 'lambda_l2': 9.776072207094354e-06}. Best is trial 56 with value: 0.20509985145042128.\u001b[0m\n",
            "regularization_factors, val_score: 0.205100:  85%|########5 | 17/20 [00:08<00:01,  2.02it/s]"
          ],
          "name": "stderr"
        },
        {
          "output_type": "stream",
          "text": [
            "[100]\tvalid_0's binary_logloss: 0.0743939\tvalid_1's binary_logloss: 0.231639\n",
            "Early stopping, best iteration is:\n",
            "[17]\tvalid_0's binary_logloss: 0.152176\tvalid_1's binary_logloss: 0.205102\n",
            "Training until validation scores don't improve for 100 rounds.\n"
          ],
          "name": "stdout"
        },
        {
          "output_type": "stream",
          "text": [
            "/usr/local/lib/python3.7/dist-packages/lightgbm/basic.py:1209: UserWarning:\n",
            "\n",
            "categorical_feature in Dataset is overridden.\n",
            "New categorical_feature is ['MOSHOOFD', 'MOSTYPE']\n",
            "\n",
            "/usr/local/lib/python3.7/dist-packages/lightgbm/basic.py:762: UserWarning:\n",
            "\n",
            "categorical_feature in param dict is overridden.\n",
            "\n",
            "regularization_factors, val_score: 0.205100:  90%|######### | 18/20 [00:08<00:01,  1.99it/s]\u001b[32m[I 2021-08-25 14:17:16,207]\u001b[0m Trial 60 finished with value: 0.20510116025424815 and parameters: {'lambda_l1': 0.0007000625624471162, 'lambda_l2': 0.0009544432754766668}. Best is trial 56 with value: 0.20509985145042128.\u001b[0m\n",
            "regularization_factors, val_score: 0.205100:  90%|######### | 18/20 [00:08<00:01,  1.99it/s]"
          ],
          "name": "stderr"
        },
        {
          "output_type": "stream",
          "text": [
            "[100]\tvalid_0's binary_logloss: 0.0741756\tvalid_1's binary_logloss: 0.231621\n",
            "Early stopping, best iteration is:\n",
            "[17]\tvalid_0's binary_logloss: 0.152191\tvalid_1's binary_logloss: 0.205101\n",
            "Training until validation scores don't improve for 100 rounds.\n"
          ],
          "name": "stdout"
        },
        {
          "output_type": "stream",
          "text": [
            "/usr/local/lib/python3.7/dist-packages/lightgbm/basic.py:1209: UserWarning:\n",
            "\n",
            "categorical_feature in Dataset is overridden.\n",
            "New categorical_feature is ['MOSHOOFD', 'MOSTYPE']\n",
            "\n",
            "/usr/local/lib/python3.7/dist-packages/lightgbm/basic.py:762: UserWarning:\n",
            "\n",
            "categorical_feature in param dict is overridden.\n",
            "\n",
            "regularization_factors, val_score: 0.205100:  95%|#########5| 19/20 [00:09<00:00,  2.02it/s]\u001b[32m[I 2021-08-25 14:17:16,690]\u001b[0m Trial 61 finished with value: 0.20652544792387095 and parameters: {'lambda_l1': 0.013389111530521927, 'lambda_l2': 0.0006886525475573621}. Best is trial 56 with value: 0.20509985145042128.\u001b[0m\n",
            "regularization_factors, val_score: 0.205100:  95%|#########5| 19/20 [00:09<00:00,  2.02it/s]"
          ],
          "name": "stderr"
        },
        {
          "output_type": "stream",
          "text": [
            "[100]\tvalid_0's binary_logloss: 0.0768252\tvalid_1's binary_logloss: 0.235609\n",
            "Early stopping, best iteration is:\n",
            "[16]\tvalid_0's binary_logloss: 0.155756\tvalid_1's binary_logloss: 0.206525\n",
            "Training until validation scores don't improve for 100 rounds.\n"
          ],
          "name": "stdout"
        },
        {
          "output_type": "stream",
          "text": [
            "/usr/local/lib/python3.7/dist-packages/lightgbm/basic.py:1209: UserWarning:\n",
            "\n",
            "categorical_feature in Dataset is overridden.\n",
            "New categorical_feature is ['MOSHOOFD', 'MOSTYPE']\n",
            "\n",
            "/usr/local/lib/python3.7/dist-packages/lightgbm/basic.py:762: UserWarning:\n",
            "\n",
            "categorical_feature in param dict is overridden.\n",
            "\n",
            "regularization_factors, val_score: 0.205100: 100%|##########| 20/20 [00:09<00:00,  1.99it/s]\u001b[32m[I 2021-08-25 14:17:17,204]\u001b[0m Trial 62 finished with value: 0.20769303583569768 and parameters: {'lambda_l1': 0.000549512401687266, 'lambda_l2': 0.05079134989877451}. Best is trial 56 with value: 0.20509985145042128.\u001b[0m\n",
            "regularization_factors, val_score: 0.205100: 100%|##########| 20/20 [00:09<00:00,  2.01it/s]\n"
          ],
          "name": "stderr"
        },
        {
          "output_type": "stream",
          "text": [
            "[100]\tvalid_0's binary_logloss: 0.0760331\tvalid_1's binary_logloss: 0.233951\n",
            "Early stopping, best iteration is:\n",
            "[17]\tvalid_0's binary_logloss: 0.153268\tvalid_1's binary_logloss: 0.207693\n"
          ],
          "name": "stdout"
        },
        {
          "output_type": "stream",
          "text": [
            "min_data_in_leaf, val_score: 0.205100:   0%|          | 0/5 [00:00<?, ?it/s]"
          ],
          "name": "stderr"
        },
        {
          "output_type": "stream",
          "text": [
            "Training until validation scores don't improve for 100 rounds.\n"
          ],
          "name": "stdout"
        },
        {
          "output_type": "stream",
          "text": [
            "/usr/local/lib/python3.7/dist-packages/lightgbm/basic.py:1209: UserWarning:\n",
            "\n",
            "categorical_feature in Dataset is overridden.\n",
            "New categorical_feature is ['MOSHOOFD', 'MOSTYPE']\n",
            "\n",
            "/usr/local/lib/python3.7/dist-packages/lightgbm/basic.py:762: UserWarning:\n",
            "\n",
            "categorical_feature in param dict is overridden.\n",
            "\n",
            "min_data_in_leaf, val_score: 0.205100:  20%|##        | 1/5 [00:00<00:01,  2.07it/s]\u001b[32m[I 2021-08-25 14:17:17,714]\u001b[0m Trial 63 finished with value: 0.20681688600783513 and parameters: {'min_child_samples': 25}. Best is trial 63 with value: 0.20681688600783513.\u001b[0m\n",
            "min_data_in_leaf, val_score: 0.205100:  20%|##        | 1/5 [00:00<00:01,  2.07it/s]"
          ],
          "name": "stderr"
        },
        {
          "output_type": "stream",
          "text": [
            "[100]\tvalid_0's binary_logloss: 0.0780536\tvalid_1's binary_logloss: 0.234523\n",
            "Early stopping, best iteration is:\n",
            "[15]\tvalid_0's binary_logloss: 0.158206\tvalid_1's binary_logloss: 0.206817\n",
            "Training until validation scores don't improve for 100 rounds.\n"
          ],
          "name": "stdout"
        },
        {
          "output_type": "stream",
          "text": [
            "/usr/local/lib/python3.7/dist-packages/lightgbm/basic.py:1209: UserWarning:\n",
            "\n",
            "categorical_feature in Dataset is overridden.\n",
            "New categorical_feature is ['MOSHOOFD', 'MOSTYPE']\n",
            "\n",
            "/usr/local/lib/python3.7/dist-packages/lightgbm/basic.py:762: UserWarning:\n",
            "\n",
            "categorical_feature in param dict is overridden.\n",
            "\n",
            "min_data_in_leaf, val_score: 0.205100:  40%|####      | 2/5 [00:00<00:01,  1.99it/s]\u001b[32m[I 2021-08-25 14:17:18,226]\u001b[0m Trial 64 finished with value: 0.2053887441426683 and parameters: {'min_child_samples': 100}. Best is trial 64 with value: 0.2053887441426683.\u001b[0m\n",
            "min_data_in_leaf, val_score: 0.205100:  40%|####      | 2/5 [00:01<00:01,  1.99it/s]"
          ],
          "name": "stderr"
        },
        {
          "output_type": "stream",
          "text": [
            "[100]\tvalid_0's binary_logloss: 0.0936231\tvalid_1's binary_logloss: 0.228082\n",
            "Early stopping, best iteration is:\n",
            "[19]\tvalid_0's binary_logloss: 0.164826\tvalid_1's binary_logloss: 0.205389\n",
            "Training until validation scores don't improve for 100 rounds.\n"
          ],
          "name": "stdout"
        },
        {
          "output_type": "stream",
          "text": [
            "/usr/local/lib/python3.7/dist-packages/lightgbm/basic.py:1209: UserWarning:\n",
            "\n",
            "categorical_feature in Dataset is overridden.\n",
            "New categorical_feature is ['MOSHOOFD', 'MOSTYPE']\n",
            "\n",
            "/usr/local/lib/python3.7/dist-packages/lightgbm/basic.py:762: UserWarning:\n",
            "\n",
            "categorical_feature in param dict is overridden.\n",
            "\n",
            "min_data_in_leaf, val_score: 0.205100:  60%|######    | 3/5 [00:01<00:00,  2.02it/s]\u001b[32m[I 2021-08-25 14:17:18,713]\u001b[0m Trial 65 finished with value: 0.20758002526687544 and parameters: {'min_child_samples': 10}. Best is trial 64 with value: 0.2053887441426683.\u001b[0m\n",
            "min_data_in_leaf, val_score: 0.205100:  60%|######    | 3/5 [00:01<00:00,  2.02it/s]"
          ],
          "name": "stderr"
        },
        {
          "output_type": "stream",
          "text": [
            "[100]\tvalid_0's binary_logloss: 0.0745331\tvalid_1's binary_logloss: 0.235281\n",
            "Early stopping, best iteration is:\n",
            "[15]\tvalid_0's binary_logloss: 0.155423\tvalid_1's binary_logloss: 0.20758\n",
            "Training until validation scores don't improve for 100 rounds.\n"
          ],
          "name": "stdout"
        },
        {
          "output_type": "stream",
          "text": [
            "/usr/local/lib/python3.7/dist-packages/lightgbm/basic.py:1209: UserWarning:\n",
            "\n",
            "categorical_feature in Dataset is overridden.\n",
            "New categorical_feature is ['MOSHOOFD', 'MOSTYPE']\n",
            "\n",
            "/usr/local/lib/python3.7/dist-packages/lightgbm/basic.py:762: UserWarning:\n",
            "\n",
            "categorical_feature in param dict is overridden.\n",
            "\n",
            "min_data_in_leaf, val_score: 0.205100:  80%|########  | 4/5 [00:01<00:00,  2.03it/s]\u001b[32m[I 2021-08-25 14:17:19,201]\u001b[0m Trial 66 finished with value: 0.20733325148833795 and parameters: {'min_child_samples': 5}. Best is trial 64 with value: 0.2053887441426683.\u001b[0m\n",
            "min_data_in_leaf, val_score: 0.205100:  80%|########  | 4/5 [00:01<00:00,  2.03it/s]"
          ],
          "name": "stderr"
        },
        {
          "output_type": "stream",
          "text": [
            "[100]\tvalid_0's binary_logloss: 0.070474\tvalid_1's binary_logloss: 0.231008\n",
            "Early stopping, best iteration is:\n",
            "[18]\tvalid_0's binary_logloss: 0.143011\tvalid_1's binary_logloss: 0.207333\n",
            "Training until validation scores don't improve for 100 rounds.\n"
          ],
          "name": "stdout"
        },
        {
          "output_type": "stream",
          "text": [
            "/usr/local/lib/python3.7/dist-packages/lightgbm/basic.py:1209: UserWarning:\n",
            "\n",
            "categorical_feature in Dataset is overridden.\n",
            "New categorical_feature is ['MOSHOOFD', 'MOSTYPE']\n",
            "\n",
            "/usr/local/lib/python3.7/dist-packages/lightgbm/basic.py:762: UserWarning:\n",
            "\n",
            "categorical_feature in param dict is overridden.\n",
            "\n",
            "min_data_in_leaf, val_score: 0.205100: 100%|##########| 5/5 [00:02<00:00,  2.03it/s]\u001b[32m[I 2021-08-25 14:17:19,699]\u001b[0m Trial 67 finished with value: 0.2067199748422465 and parameters: {'min_child_samples': 50}. Best is trial 64 with value: 0.2053887441426683.\u001b[0m\n",
            "min_data_in_leaf, val_score: 0.205100: 100%|##########| 5/5 [00:02<00:00,  2.01it/s]"
          ],
          "name": "stderr"
        },
        {
          "output_type": "stream",
          "text": [
            "[100]\tvalid_0's binary_logloss: 0.0851461\tvalid_1's binary_logloss: 0.232157\n",
            "Early stopping, best iteration is:\n",
            "[18]\tvalid_0's binary_logloss: 0.159286\tvalid_1's binary_logloss: 0.20672\n"
          ],
          "name": "stdout"
        },
        {
          "output_type": "stream",
          "text": [
            "\n"
          ],
          "name": "stderr"
        }
      ]
    },
    {
      "cell_type": "code",
      "metadata": {
        "id": "67SdDfjwiWOe",
        "colab": {
          "base_uri": "https://localhost:8080/"
        },
        "outputId": "be18cbaa-343e-4724-8d38-a326db499c6e"
      },
      "source": [
        "model.predict(\n",
        "                X_test,    # Note that it is not lightgbm dataset\n",
        "                num_iteration = model.best_iteration\n",
        "             )"
      ],
      "execution_count": 342,
      "outputs": [
        {
          "output_type": "execute_result",
          "data": {
            "text/plain": [
              "array([0.02053433, 0.47839073, 0.11213303, ..., 0.06491371, 0.11203761,\n",
              "       0.05342784])"
            ]
          },
          "metadata": {},
          "execution_count": 342
        }
      ]
    },
    {
      "cell_type": "code",
      "metadata": {
        "id": "ix7y0vNwiY4u",
        "colab": {
          "base_uri": "https://localhost:8080/"
        },
        "outputId": "3431ba28-750b-47a4-df0c-94f8ef8eb4a1"
      },
      "source": [
        "prediction = np.rint(\n",
        "                     model.predict(\n",
        "                                    X_test,    # Note that it is not lightgbm dataset\n",
        "                                    num_iteration = model.best_iteration\n",
        "                                    )\n",
        "                    )\n",
        "\n",
        "# 4.0.1\n",
        "prediction"
      ],
      "execution_count": 343,
      "outputs": [
        {
          "output_type": "execute_result",
          "data": {
            "text/plain": [
              "array([0., 0., 0., ..., 0., 0., 0.])"
            ]
          },
          "metadata": {},
          "execution_count": 343
        }
      ]
    },
    {
      "cell_type": "code",
      "metadata": {
        "id": "-EfF8XCoie7e",
        "colab": {
          "base_uri": "https://localhost:8080/"
        },
        "outputId": "c3a0a55f-c79d-4879-e80d-b783f4a3f7df"
      },
      "source": [
        "from sklearn.metrics import accuracy_score\n",
        "accuracy = accuracy_score(y_test, prediction)\n",
        "\n",
        "# 4.2 Get best params\n",
        "best_params = model.params\n",
        "print(\"\\nbest_params: \" ,best_params) \n",
        "print(\"\\n===============\")\n",
        "print(\"\\nAccuracy: \", accuracy)\n",
        "print(\"\\n===============\")\n",
        "\n",
        "# 4.3\n",
        "for key, value in best_params.items():\n",
        "    print(\"\\n    {}: {}\".format(key, value))\n",
        "\n",
        "######################"
      ],
      "execution_count": 344,
      "outputs": [
        {
          "output_type": "stream",
          "text": [
            "\n",
            "best_params:  {'objective': 'binary', 'metric': 'binary_logloss', 'verbosity': -1, 'boosting_type': 'gbdt', 'feature_pre_filter': False, 'lambda_l1': 1.3204464670634513e-05, 'lambda_l2': 0.0023271863128646584, 'num_leaves': 31, 'feature_fraction': 0.6, 'bagging_fraction': 1.0, 'bagging_freq': 0, 'min_child_samples': 20}\n",
            "\n",
            "===============\n",
            "\n",
            "Accuracy:  0.94075\n",
            "\n",
            "===============\n",
            "\n",
            "    objective: binary\n",
            "\n",
            "    metric: binary_logloss\n",
            "\n",
            "    verbosity: -1\n",
            "\n",
            "    boosting_type: gbdt\n",
            "\n",
            "    feature_pre_filter: False\n",
            "\n",
            "    lambda_l1: 1.3204464670634513e-05\n",
            "\n",
            "    lambda_l2: 0.0023271863128646584\n",
            "\n",
            "    num_leaves: 31\n",
            "\n",
            "    feature_fraction: 0.6\n",
            "\n",
            "    bagging_fraction: 1.0\n",
            "\n",
            "    bagging_freq: 0\n",
            "\n",
            "    min_child_samples: 20\n"
          ],
          "name": "stdout"
        }
      ]
    },
    {
      "cell_type": "markdown",
      "metadata": {
        "id": "DeT-F1Es4WrP"
      },
      "source": [
        "## **Using Bayesian Optimization on LGBM Classifier**"
      ]
    },
    {
      "cell_type": "markdown",
      "metadata": {
        "id": "W7dpF6fEpJP3"
      },
      "source": [
        "**Model**"
      ]
    },
    {
      "cell_type": "code",
      "metadata": {
        "id": "uu301D0MQPwK"
      },
      "source": [
        "model_lgb = lgb.LGBMClassifier(               \n",
        "                                objective='binary',\n",
        "                                metric='auc',\n",
        "                                n_jobs=2,\n",
        "                                verbose=1,\n",
        "                              )"
      ],
      "execution_count": 345,
      "outputs": []
    },
    {
      "cell_type": "code",
      "metadata": {
        "id": "uFFIXDLxdIEh"
      },
      "source": [
        "ct = ColumnTransformer(\n",
        "                        [\n",
        "                          (\"ct\", OneHotEncoder(sparse = False), cat_col),\n",
        "                          (\"ss\", StandardScaler(), num_features)\n",
        "                        ],\n",
        "                       remainder = \"passthrough\"\n",
        "                      )\n"
      ],
      "execution_count": 346,
      "outputs": []
    },
    {
      "cell_type": "code",
      "metadata": {
        "id": "HJnEgpK-fQyQ",
        "colab": {
          "base_uri": "https://localhost:8080/"
        },
        "outputId": "e4280f57-c2cc-42fa-8191-8f39bd703d45"
      },
      "source": [
        "ct.fit_transform(X_train)"
      ],
      "execution_count": 347,
      "outputs": [
        {
          "output_type": "execute_result",
          "data": {
            "text/plain": [
              "array([[0., 0., 0., ..., 0., 0., 0.],\n",
              "       [0., 0., 0., ..., 0., 0., 0.],\n",
              "       [0., 0., 0., ..., 0., 0., 0.],\n",
              "       ...,\n",
              "       [0., 0., 0., ..., 0., 0., 0.],\n",
              "       [0., 0., 0., ..., 0., 0., 0.],\n",
              "       [0., 0., 0., ..., 0., 0., 0.]])"
            ]
          },
          "metadata": {},
          "execution_count": 347
        }
      ]
    },
    {
      "cell_type": "code",
      "metadata": {
        "id": "vSXaGzb_fcOO",
        "colab": {
          "base_uri": "https://localhost:8080/"
        },
        "outputId": "76100c18-ccfd-414a-8b01-81431706cb85"
      },
      "source": [
        "pipe = Pipeline(\n",
        "                  [\n",
        "                    (\"cx\", ct),\n",
        "                    (\"lgb\", model_lgb)\n",
        "                  ]\n",
        "                )\n",
        "\n",
        "# 5.1.1\n",
        "print(pipe.get_params())"
      ],
      "execution_count": 348,
      "outputs": [
        {
          "output_type": "stream",
          "text": [
            "{'memory': None, 'steps': [('cx', ColumnTransformer(n_jobs=None, remainder='passthrough', sparse_threshold=0.3,\n",
            "                  transformer_weights=None,\n",
            "                  transformers=[('ct',\n",
            "                                 OneHotEncoder(categories='auto', drop=None,\n",
            "                                               dtype=<class 'numpy.float64'>,\n",
            "                                               handle_unknown='error',\n",
            "                                               sparse=False),\n",
            "                                 ['MOSTYPE', 'MOSHOOFD']),\n",
            "                                ('ss',\n",
            "                                 StandardScaler(copy=True, with_mean=True,\n",
            "                                                with_std=True),\n",
            "                                 [2, 3, 4, 5, 6, 7, 8, 9, 10, 11, 12, 13, 14,\n",
            "                                  15, 16, 17, 18, 19, 20, 21, 22, 23, 24])],\n",
            "                  verbose=False)), ('lgb', LGBMClassifier(boosting_type='gbdt', class_weight=None, colsample_bytree=1.0,\n",
            "               importance_type='split', learning_rate=0.1, max_depth=-1,\n",
            "               metric='auc', min_child_samples=20, min_child_weight=0.001,\n",
            "               min_split_gain=0.0, n_estimators=100, n_jobs=2, num_leaves=31,\n",
            "               objective='binary', random_state=None, reg_alpha=0.0,\n",
            "               reg_lambda=0.0, silent=True, subsample=1.0,\n",
            "               subsample_for_bin=200000, subsample_freq=0, verbose=1))], 'verbose': False, 'cx': ColumnTransformer(n_jobs=None, remainder='passthrough', sparse_threshold=0.3,\n",
            "                  transformer_weights=None,\n",
            "                  transformers=[('ct',\n",
            "                                 OneHotEncoder(categories='auto', drop=None,\n",
            "                                               dtype=<class 'numpy.float64'>,\n",
            "                                               handle_unknown='error',\n",
            "                                               sparse=False),\n",
            "                                 ['MOSTYPE', 'MOSHOOFD']),\n",
            "                                ('ss',\n",
            "                                 StandardScaler(copy=True, with_mean=True,\n",
            "                                                with_std=True),\n",
            "                                 [2, 3, 4, 5, 6, 7, 8, 9, 10, 11, 12, 13, 14,\n",
            "                                  15, 16, 17, 18, 19, 20, 21, 22, 23, 24])],\n",
            "                  verbose=False), 'lgb': LGBMClassifier(boosting_type='gbdt', class_weight=None, colsample_bytree=1.0,\n",
            "               importance_type='split', learning_rate=0.1, max_depth=-1,\n",
            "               metric='auc', min_child_samples=20, min_child_weight=0.001,\n",
            "               min_split_gain=0.0, n_estimators=100, n_jobs=2, num_leaves=31,\n",
            "               objective='binary', random_state=None, reg_alpha=0.0,\n",
            "               reg_lambda=0.0, silent=True, subsample=1.0,\n",
            "               subsample_for_bin=200000, subsample_freq=0, verbose=1), 'cx__n_jobs': None, 'cx__remainder': 'passthrough', 'cx__sparse_threshold': 0.3, 'cx__transformer_weights': None, 'cx__transformers': [('ct', OneHotEncoder(categories='auto', drop=None, dtype=<class 'numpy.float64'>,\n",
            "              handle_unknown='error', sparse=False), ['MOSTYPE', 'MOSHOOFD']), ('ss', StandardScaler(copy=True, with_mean=True, with_std=True), [2, 3, 4, 5, 6, 7, 8, 9, 10, 11, 12, 13, 14, 15, 16, 17, 18, 19, 20, 21, 22, 23, 24])], 'cx__verbose': False, 'cx__ct': OneHotEncoder(categories='auto', drop=None, dtype=<class 'numpy.float64'>,\n",
            "              handle_unknown='error', sparse=False), 'cx__ss': StandardScaler(copy=True, with_mean=True, with_std=True), 'cx__ct__categories': 'auto', 'cx__ct__drop': None, 'cx__ct__dtype': <class 'numpy.float64'>, 'cx__ct__handle_unknown': 'error', 'cx__ct__sparse': False, 'cx__ss__copy': True, 'cx__ss__with_mean': True, 'cx__ss__with_std': True, 'lgb__boosting_type': 'gbdt', 'lgb__class_weight': None, 'lgb__colsample_bytree': 1.0, 'lgb__importance_type': 'split', 'lgb__learning_rate': 0.1, 'lgb__max_depth': -1, 'lgb__min_child_samples': 20, 'lgb__min_child_weight': 0.001, 'lgb__min_split_gain': 0.0, 'lgb__n_estimators': 100, 'lgb__n_jobs': 2, 'lgb__num_leaves': 31, 'lgb__objective': 'binary', 'lgb__random_state': None, 'lgb__reg_alpha': 0.0, 'lgb__reg_lambda': 0.0, 'lgb__silent': True, 'lgb__subsample': 1.0, 'lgb__subsample_for_bin': 200000, 'lgb__subsample_freq': 0, 'lgb__metric': 'auc', 'lgb__verbose': 1}\n"
          ],
          "name": "stdout"
        }
      ]
    },
    {
      "cell_type": "code",
      "metadata": {
        "id": "Pc-ljvv-YN5D",
        "colab": {
          "base_uri": "https://localhost:8080/"
        },
        "outputId": "db5b69a1-119e-4746-e19b-c25c97137188"
      },
      "source": [
        "pipe.fit(X_train,y_train)"
      ],
      "execution_count": 349,
      "outputs": [
        {
          "output_type": "execute_result",
          "data": {
            "text/plain": [
              "Pipeline(memory=None,\n",
              "         steps=[('cx',\n",
              "                 ColumnTransformer(n_jobs=None, remainder='passthrough',\n",
              "                                   sparse_threshold=0.3,\n",
              "                                   transformer_weights=None,\n",
              "                                   transformers=[('ct',\n",
              "                                                  OneHotEncoder(categories='auto',\n",
              "                                                                drop=None,\n",
              "                                                                dtype=<class 'numpy.float64'>,\n",
              "                                                                handle_unknown='error',\n",
              "                                                                sparse=False),\n",
              "                                                  ['MOSTYPE', 'MOSHOOFD']),\n",
              "                                                 ('ss',\n",
              "                                                  StandardScaler(copy=True,\n",
              "                                                                 with_mean=True,\n",
              "                                                                 with_std=True),\n",
              "                                                  [2,...\n",
              "                                colsample_bytree=1.0, importance_type='split',\n",
              "                                learning_rate=0.1, max_depth=-1, metric='auc',\n",
              "                                min_child_samples=20, min_child_weight=0.001,\n",
              "                                min_split_gain=0.0, n_estimators=100, n_jobs=2,\n",
              "                                num_leaves=31, objective='binary',\n",
              "                                random_state=None, reg_alpha=0.0,\n",
              "                                reg_lambda=0.0, silent=True, subsample=1.0,\n",
              "                                subsample_for_bin=200000, subsample_freq=0,\n",
              "                                verbose=1))],\n",
              "         verbose=False)"
            ]
          },
          "metadata": {},
          "execution_count": 349
        }
      ]
    },
    {
      "cell_type": "markdown",
      "metadata": {
        "id": "IoEuuckTooTG"
      },
      "source": [
        "**Defining Parameters**"
      ]
    },
    {
      "cell_type": "code",
      "metadata": {
        "id": "ha0DeIAa5I7w"
      },
      "source": [
        "params = {\n",
        "        # The 'boosting' option parameter give lots of errors. \n",
        "        # Do not use it. (Removed 'rf' from it. Avoids errors)\n",
        "        'lgb__boosting'    :   Categorical(['gbdt','dart']),                                                         \n",
        "        'lgb__n_estimators':   Integer(50, 100), # No of boosted trees or iterations to fit (default: 100).\n",
        "\n",
        "        'lgb__num_leaves'  :   Integer(5,45),   # Max tree leaves for base boosters\n",
        "                                           # Create a node only if no of leaves exceed this limit\n",
        "                                           #  and also following condition of 'min_child_samples' is met\n",
        "\n",
        "        'lgb__min_child_samples': Integer(1, 50),  # Create a node only if min data-points at this node\n",
        "                                              #  exceed this limit\n",
        "\n",
        "        'lgb__feature_fraction' : Real(0.1, 0.9),  # Randomly select part of features on each iteration\n",
        "                                              #  for every boosted tree\n",
        "\n",
        "        'lgb__bagging_fraction' : Real(0.8, 1),   # Randomly select part of data without resampling\n",
        "                                             #   for each boosted tree\n",
        "\n",
        "        'lgb__bagging_freq'     : Integer(1,10),  # k means perform bagging at every k iteration\n",
        "\n",
        "        'lgb__max_depth'        : Integer(1, 50), # Max tree depth for base learners, -1 means no limit.\n",
        "\n",
        "        'lgb__learning_rate': Real(0.01, 1.0, 'log-uniform'), # Prob of interval 1 to 10 is same as 10 to 100\n",
        "                                                         # Equal prob of selection from 0.01 to 0.1, 0.1\n",
        "                                                         # to 1\n",
        "                                                         # In a loguniform distributon, log-transformed\n",
        "                                                         # random variable is uniformly distributed\n",
        "\n",
        "        'lgb__reg_lambda': Real(1e-9, 1000, 'log-uniform'),  # L2 regularization term on weights.\n",
        "        'lgb__reg_alpha':  Real(1e-9, 1.0, 'log-uniform'),   #  L1 regularization\n",
        "\n",
        "        'lgb__scale_pos_weight': Real(1, 10),    # default: 1\n",
        "                                            # used only in binary application\n",
        "                                            # How much more importance should be given to binary\n",
        "                                            # weight of labels with positive class\n",
        "\n",
        "        #-----***** Not understood **** -----\n",
        "\n",
        "        'lgb__max_bin': Integer(100, 1000),      # max number of bins that feature\n",
        "                                            #  values will be bucketed in\n",
        "                                            # small number of bins may reduce\n",
        "                                            # training accuracy but may increase\n",
        "                                            # general power (deal with over-fitting)\n",
        "\n",
        "        'lgb__min_child_weight':  Real(1, 10),   # Deals with overfitting\n",
        "\n",
        "        'lgb__subsample_for_bin': Integer(100000, 500000)  #  Number of samples for constructing bins(default: 200000)\n",
        "                                               # setting this to larger value will give better training\n",
        "                                               #  result, but will increase data loading time\n",
        "           }\n"
      ],
      "execution_count": 350,
      "outputs": []
    },
    {
      "cell_type": "markdown",
      "metadata": {
        "id": "-snSRedrpStq"
      },
      "source": [
        "**Cross Validation**"
      ]
    },
    {
      "cell_type": "code",
      "metadata": {
        "id": "HBEvvcPe6nU9"
      },
      "source": [
        "cvStrategy = StratifiedKFold(\n",
        "                             n_splits=3,\n",
        "                             shuffle=True,\n",
        "                             random_state=42\n",
        "                            )"
      ],
      "execution_count": 351,
      "outputs": []
    },
    {
      "cell_type": "markdown",
      "metadata": {
        "id": "oQSmlqo-pVRb"
      },
      "source": [
        "**Bayes Tuner Object**"
      ]
    },
    {
      "cell_type": "code",
      "metadata": {
        "colab": {
          "base_uri": "https://localhost:8080/"
        },
        "id": "EOqzRGJb5I-K",
        "outputId": "5b50faae-0b51-47a9-d54d-ae114d5460c3"
      },
      "source": [
        "import os, time\n",
        "start = time.time()\n",
        "bayes_cv_tuner = BayesSearchCV(\n",
        "                              estimator = pipe,    # rf, lgb, xgb, nn , pipeline etc--Black box\n",
        "                              search_spaces = params,  # Specify params as required by the estimator\n",
        "                              scoring = 'roc_auc',  # Input to Bayes function\n",
        "                                                    # modeler should return this\n",
        "                                                    # peformence metric\n",
        "                              cv = cvStrategy,      # Optional. Determines the cross-validation splitting strategy.\n",
        "                                                    #           Can be cross-validation generator or an iterable,\n",
        "                                                    #           Possible inputs for cv are: - None, to use the default 3-fold cv,\n",
        "                                                    #           - integer, to specify the number of folds in a (Stratified)KFold,\n",
        "                                                    #           - An object to be used as a cross-validation generator.\n",
        "                              n_jobs = 2,           # Start two parallel threads for processing\n",
        "                              n_iter = 10,        # How many times to look for parameter sets\n",
        "                              verbose = 1,\n",
        "                              refit = True,       #  Refit the best estimator with the entire dataset\n",
        "                              random_state = 42\n",
        "                               )\n",
        "end = time.time()\n",
        "(end-start)/60"
      ],
      "execution_count": 352,
      "outputs": [
        {
          "output_type": "execute_result",
          "data": {
            "text/plain": [
              "3.0835469563802084e-06"
            ]
          },
          "metadata": {},
          "execution_count": 352
        }
      ]
    },
    {
      "cell_type": "markdown",
      "metadata": {
        "id": "Ggh8sUcLpcrk"
      },
      "source": [
        "## **Tuning of HyperParameters**"
      ]
    },
    {
      "cell_type": "code",
      "metadata": {
        "colab": {
          "base_uri": "https://localhost:8080/"
        },
        "id": "zwQg6Ruh5JAl",
        "outputId": "77ed83fb-78c5-4176-cb22-ec8f0a372fb7"
      },
      "source": [
        "start = time.time()\n",
        "result = bayes_cv_tuner.fit(\n",
        "                            X_train,y_train\n",
        "                           )\n",
        "\n",
        "end = time.time()\n",
        "(end - start)/60"
      ],
      "execution_count": 353,
      "outputs": [
        {
          "output_type": "stream",
          "text": [
            "Fitting 3 folds for each of 1 candidates, totalling 3 fits\n"
          ],
          "name": "stdout"
        },
        {
          "output_type": "stream",
          "text": [
            "[Parallel(n_jobs=2)]: Using backend LokyBackend with 2 concurrent workers.\n",
            "[Parallel(n_jobs=2)]: Done   3 out of   3 | elapsed:   12.3s finished\n",
            "[Parallel(n_jobs=2)]: Using backend LokyBackend with 2 concurrent workers.\n"
          ],
          "name": "stderr"
        },
        {
          "output_type": "stream",
          "text": [
            "Fitting 3 folds for each of 1 candidates, totalling 3 fits\n"
          ],
          "name": "stdout"
        },
        {
          "output_type": "stream",
          "text": [
            "[Parallel(n_jobs=2)]: Done   3 out of   3 | elapsed:   15.4s finished\n",
            "[Parallel(n_jobs=2)]: Using backend LokyBackend with 2 concurrent workers.\n"
          ],
          "name": "stderr"
        },
        {
          "output_type": "stream",
          "text": [
            "Fitting 3 folds for each of 1 candidates, totalling 3 fits\n"
          ],
          "name": "stdout"
        },
        {
          "output_type": "stream",
          "text": [
            "[Parallel(n_jobs=2)]: Done   3 out of   3 | elapsed:    9.7s finished\n",
            "[Parallel(n_jobs=2)]: Using backend LokyBackend with 2 concurrent workers.\n"
          ],
          "name": "stderr"
        },
        {
          "output_type": "stream",
          "text": [
            "Fitting 3 folds for each of 1 candidates, totalling 3 fits\n"
          ],
          "name": "stdout"
        },
        {
          "output_type": "stream",
          "text": [
            "[Parallel(n_jobs=2)]: Done   3 out of   3 | elapsed:    9.4s finished\n",
            "[Parallel(n_jobs=2)]: Using backend LokyBackend with 2 concurrent workers.\n"
          ],
          "name": "stderr"
        },
        {
          "output_type": "stream",
          "text": [
            "Fitting 3 folds for each of 1 candidates, totalling 3 fits\n"
          ],
          "name": "stdout"
        },
        {
          "output_type": "stream",
          "text": [
            "[Parallel(n_jobs=2)]: Done   3 out of   3 | elapsed:    1.2s finished\n",
            "[Parallel(n_jobs=2)]: Using backend LokyBackend with 2 concurrent workers.\n"
          ],
          "name": "stderr"
        },
        {
          "output_type": "stream",
          "text": [
            "Fitting 3 folds for each of 1 candidates, totalling 3 fits\n"
          ],
          "name": "stdout"
        },
        {
          "output_type": "stream",
          "text": [
            "[Parallel(n_jobs=2)]: Done   3 out of   3 | elapsed:   13.5s finished\n",
            "[Parallel(n_jobs=2)]: Using backend LokyBackend with 2 concurrent workers.\n"
          ],
          "name": "stderr"
        },
        {
          "output_type": "stream",
          "text": [
            "Fitting 3 folds for each of 1 candidates, totalling 3 fits\n"
          ],
          "name": "stdout"
        },
        {
          "output_type": "stream",
          "text": [
            "[Parallel(n_jobs=2)]: Done   3 out of   3 | elapsed:   11.4s finished\n",
            "[Parallel(n_jobs=2)]: Using backend LokyBackend with 2 concurrent workers.\n"
          ],
          "name": "stderr"
        },
        {
          "output_type": "stream",
          "text": [
            "Fitting 3 folds for each of 1 candidates, totalling 3 fits\n"
          ],
          "name": "stdout"
        },
        {
          "output_type": "stream",
          "text": [
            "[Parallel(n_jobs=2)]: Done   3 out of   3 | elapsed:    1.5s finished\n",
            "[Parallel(n_jobs=2)]: Using backend LokyBackend with 2 concurrent workers.\n"
          ],
          "name": "stderr"
        },
        {
          "output_type": "stream",
          "text": [
            "Fitting 3 folds for each of 1 candidates, totalling 3 fits\n"
          ],
          "name": "stdout"
        },
        {
          "output_type": "stream",
          "text": [
            "[Parallel(n_jobs=2)]: Done   3 out of   3 | elapsed:    0.5s finished\n"
          ],
          "name": "stderr"
        },
        {
          "output_type": "stream",
          "text": [
            "Fitting 3 folds for each of 1 candidates, totalling 3 fits\n"
          ],
          "name": "stdout"
        },
        {
          "output_type": "stream",
          "text": [
            "[Parallel(n_jobs=2)]: Using backend LokyBackend with 2 concurrent workers.\n",
            "[Parallel(n_jobs=2)]: Done   3 out of   3 | elapsed:    2.6s finished\n"
          ],
          "name": "stderr"
        },
        {
          "output_type": "execute_result",
          "data": {
            "text/plain": [
              "1.3412177522977193"
            ]
          },
          "metadata": {},
          "execution_count": 353
        }
      ]
    },
    {
      "cell_type": "markdown",
      "metadata": {
        "id": "OSv86MnIplQJ"
      },
      "source": [
        "## **Results**"
      ]
    },
    {
      "cell_type": "code",
      "metadata": {
        "colab": {
          "base_uri": "https://localhost:8080/"
        },
        "id": "MImKQHvr5JDF",
        "outputId": "c2f1a8e4-2b38-4385-ff28-97adde8ade67"
      },
      "source": [
        "best_params = pd.Series(bayes_cv_tuner.best_params_)\n",
        "print(best_params)\n",
        "\n",
        "# 6.1 Best auc score for the above estimator\n",
        "\n",
        "print(\"\\n\\nBest score: \", np.round(bayes_cv_tuner.best_score_, 4))"
      ],
      "execution_count": 354,
      "outputs": [
        {
          "output_type": "stream",
          "text": [
            "lgb__bagging_fraction        0.991096\n",
            "lgb__bagging_freq                   7\n",
            "lgb__boosting                    gbdt\n",
            "lgb__feature_fraction        0.432657\n",
            "lgb__learning_rate          0.0578268\n",
            "lgb__max_bin                      290\n",
            "lgb__max_depth                      1\n",
            "lgb__min_child_samples             19\n",
            "lgb__min_child_weight         6.34941\n",
            "lgb__n_estimators                  59\n",
            "lgb__num_leaves                    36\n",
            "lgb__reg_alpha            9.99117e-06\n",
            "lgb__reg_lambda           3.13312e-08\n",
            "lgb__scale_pos_weight         2.66614\n",
            "lgb__subsample_for_bin         247054\n",
            "dtype: object\n",
            "\n",
            "\n",
            "Best score:  0.7563\n"
          ],
          "name": "stdout"
        }
      ]
    },
    {
      "cell_type": "code",
      "metadata": {
        "id": "10Nsg0hW5JFh"
      },
      "source": [
        "mod = lgb.LGBMClassifier(               \n",
        "                                objective=None,\n",
        "                                n_jobs=2,\n",
        "                                verbose=1,\n",
        "                                bagging_fraction=0.991096,bagging_freq=7,boosting='gbdt',feature_fraction=0.432657,learning_rate=0.0578268,max_bin=290,\n",
        "max_depth=1,\n",
        "min_child_samples=19,\n",
        "min_child_weight=6.34941,\n",
        "n_estimators=59,\n",
        "num_leaves=36,\n",
        "reg_alpha=9.99117e-06,\n",
        "reg_lambda=3.13312e-08,\n",
        "scale_pos_weight=2.66614,\n",
        "subsample_for_bin=247054,\n",
        "                              )"
      ],
      "execution_count": 355,
      "outputs": []
    },
    {
      "cell_type": "code",
      "metadata": {
        "colab": {
          "base_uri": "https://localhost:8080/"
        },
        "id": "ICSDKOfw5JHw",
        "outputId": "f8acb36b-37c1-4aa6-f29e-17d1f91ea127"
      },
      "source": [
        "mod.fit(X_train,y_train)"
      ],
      "execution_count": 356,
      "outputs": [
        {
          "output_type": "execute_result",
          "data": {
            "text/plain": [
              "LGBMClassifier(bagging_fraction=0.991096, bagging_freq=7, boosting='gbdt',\n",
              "               boosting_type='gbdt', class_weight=None, colsample_bytree=1.0,\n",
              "               feature_fraction=0.432657, importance_type='split',\n",
              "               learning_rate=0.0578268, max_bin=290, max_depth=1,\n",
              "               min_child_samples=19, min_child_weight=6.34941,\n",
              "               min_split_gain=0.0, n_estimators=59, n_jobs=2, num_leaves=36,\n",
              "               objective=None, random_state=None, reg_alpha=9.99117e-06,\n",
              "               reg_lambda=3.13312e-08, scale_pos_weight=2.66614, silent=True,\n",
              "               subsample=1.0, subsample_for_bin=247054, subsample_freq=0,\n",
              "               verbose=1)"
            ]
          },
          "metadata": {},
          "execution_count": 356
        }
      ]
    },
    {
      "cell_type": "markdown",
      "metadata": {
        "id": "YtqXg5cFprkX"
      },
      "source": [
        "## **Checking Accuracy**"
      ]
    },
    {
      "cell_type": "code",
      "metadata": {
        "id": "RRbK-feI5JLI"
      },
      "source": [
        "y_pred=mod.predict(X_test)"
      ],
      "execution_count": 357,
      "outputs": []
    },
    {
      "cell_type": "code",
      "metadata": {
        "colab": {
          "base_uri": "https://localhost:8080/"
        },
        "id": "QMju9TG6Rr_i",
        "outputId": "511a62d4-d800-466c-a59c-8985f9d7a063"
      },
      "source": [
        "from sklearn.metrics import accuracy_score\n",
        "accuracy=accuracy_score(y_pred, y_test)\n",
        "print('LightGBM Model accuracy score: {0:0.4f}'.format(accuracy_score(y_test, y_pred)))"
      ],
      "execution_count": 358,
      "outputs": [
        {
          "output_type": "stream",
          "text": [
            "LightGBM Model accuracy score: 0.9407\n"
          ],
          "name": "stdout"
        }
      ]
    },
    {
      "cell_type": "code",
      "metadata": {
        "colab": {
          "base_uri": "https://localhost:8080/",
          "height": 295
        },
        "id": "f1ejcox8Rwom",
        "outputId": "936b0b83-7ea1-4aa5-9e04-630b35d0157f"
      },
      "source": [
        "from sklearn.metrics import roc_curve, auc\n",
        "lgbm_pred_prob = mod.predict_proba(X_test)[:, 1]\n",
        "fpr, tpr, thresholds = roc_curve(y_test, lgbm_pred_prob)\n",
        "roc_auc = auc(fpr, tpr)\n",
        "lw = 2\n",
        "plt.plot(fpr, tpr,label='ROC curve  Random Forest (AUC = %0.2f)' % roc_auc)\n",
        "plt.xlim([0.0, 1])\n",
        "plt.ylim([0.0, 1])\n",
        "plt.title('ROC curve for  LightGBM model')\n",
        "plt.xlabel('(1 - Specificity)')\n",
        "plt.ylabel('(Sensitivity)')\n",
        "plt.grid(True)\n",
        "plt.legend(loc=\"lower right\")\n",
        "plt.show()"
      ],
      "execution_count": 359,
      "outputs": [
        {
          "output_type": "display_data",
          "data": {
            "image/png": "[encoded data removed]",
            "text/plain": [
              "<Figure size 432x288 with 1 Axes>"
            ]
          },
          "metadata": {
            "needs_background": "light"
          }
        }
      ]
    },
    {
      "cell_type": "markdown",
      "metadata": {
        "id": "hEixc6okkOum"
      },
      "source": [
        "## **Final Potential Customers Based on Test Data**"
      ]
    },
    {
      "cell_type": "code",
      "metadata": {
        "id": "siChQnktS-eG"
      },
      "source": [
        "test_target = y_test.copy()\n",
        "test_target.reset_index(drop=True, inplace=True)\n",
        "test_target=test_target.replace({\n",
        "    1:'Yes',\n",
        "    0:'No'\n",
        "})\n",
        "predicted_target=mod.predict(X_test)\n",
        "predicted_target=pd.Series(predicted_target).replace({\n",
        "    1:'Yes',\n",
        "    0:'No'\n",
        "})"
      ],
      "execution_count": 360,
      "outputs": []
    },
    {
      "cell_type": "code",
      "metadata": {
        "colab": {
          "base_uri": "https://localhost:8080/",
          "height": 203
        },
        "id": "lBjwc8z5UrlP",
        "outputId": "e5b470d2-4fb3-4f58-e0c1-45165ec1604f"
      },
      "source": [
        "ranks=pd.DataFrame(data={\n",
        "    'rank':lgbm_pred_prob\n",
        "})\n",
        "ranks.sort_values(by=['rank'],ascending=False,inplace=True)\n",
        "ranks.head()"
      ],
      "execution_count": 361,
      "outputs": [
        {
          "output_type": "execute_result",
          "data": {
            "text/html": [
              "<div>\n",
              "<style scoped>\n",
              "    .dataframe tbody tr th:only-of-type {\n",
              "        vertical-align: middle;\n",
              "    }\n",
              "\n",
              "    .dataframe tbody tr th {\n",
              "        vertical-align: top;\n",
              "    }\n",
              "\n",
              "    .dataframe thead th {\n",
              "        text-align: right;\n",
              "    }\n",
              "</style>\n",
              "<table border=\"1\" class=\"dataframe\">\n",
              "  <thead>\n",
              "    <tr style=\"text-align: right;\">\n",
              "      <th></th>\n",
              "      <th>rank</th>\n",
              "    </tr>\n",
              "  </thead>\n",
              "  <tbody>\n",
              "    <tr>\n",
              "      <th>2621</th>\n",
              "      <td>0.546682</td>\n",
              "    </tr>\n",
              "    <tr>\n",
              "      <th>575</th>\n",
              "      <td>0.537651</td>\n",
              "    </tr>\n",
              "    <tr>\n",
              "      <th>1995</th>\n",
              "      <td>0.531016</td>\n",
              "    </tr>\n",
              "    <tr>\n",
              "      <th>291</th>\n",
              "      <td>0.391406</td>\n",
              "    </tr>\n",
              "    <tr>\n",
              "      <th>3499</th>\n",
              "      <td>0.390049</td>\n",
              "    </tr>\n",
              "  </tbody>\n",
              "</table>\n",
              "</div>"
            ],
            "text/plain": [
              "          rank\n",
              "2621  0.546682\n",
              "575   0.537651\n",
              "1995  0.531016\n",
              "291   0.391406\n",
              "3499  0.390049"
            ]
          },
          "metadata": {},
          "execution_count": 361
        }
      ]
    },
    {
      "cell_type": "code",
      "metadata": {
        "colab": {
          "base_uri": "https://localhost:8080/",
          "height": 142
        },
        "id": "Ug-D6ECnVMpT",
        "outputId": "7c146b9d-477b-4ea3-d36e-440dfd4e96cd"
      },
      "source": [
        "top = ranks.where(ranks['rank']>0.5,).dropna()\n",
        "top.head()"
      ],
      "execution_count": 362,
      "outputs": [
        {
          "output_type": "execute_result",
          "data": {
            "text/html": [
              "<div>\n",
              "<style scoped>\n",
              "    .dataframe tbody tr th:only-of-type {\n",
              "        vertical-align: middle;\n",
              "    }\n",
              "\n",
              "    .dataframe tbody tr th {\n",
              "        vertical-align: top;\n",
              "    }\n",
              "\n",
              "    .dataframe thead th {\n",
              "        text-align: right;\n",
              "    }\n",
              "</style>\n",
              "<table border=\"1\" class=\"dataframe\">\n",
              "  <thead>\n",
              "    <tr style=\"text-align: right;\">\n",
              "      <th></th>\n",
              "      <th>rank</th>\n",
              "    </tr>\n",
              "  </thead>\n",
              "  <tbody>\n",
              "    <tr>\n",
              "      <th>2621</th>\n",
              "      <td>0.546682</td>\n",
              "    </tr>\n",
              "    <tr>\n",
              "      <th>575</th>\n",
              "      <td>0.537651</td>\n",
              "    </tr>\n",
              "    <tr>\n",
              "      <th>1995</th>\n",
              "      <td>0.531016</td>\n",
              "    </tr>\n",
              "  </tbody>\n",
              "</table>\n",
              "</div>"
            ],
            "text/plain": [
              "          rank\n",
              "2621  0.546682\n",
              "575   0.537651\n",
              "1995  0.531016"
            ]
          },
          "metadata": {},
          "execution_count": 362
        }
      ]
    },
    {
      "cell_type": "code",
      "metadata": {
        "colab": {
          "base_uri": "https://localhost:8080/"
        },
        "id": "rwRQhujPVacX",
        "outputId": "de0ba4da-7769-401f-f870-10564d5ea6df"
      },
      "source": [
        "top.shape"
      ],
      "execution_count": 363,
      "outputs": [
        {
          "output_type": "execute_result",
          "data": {
            "text/plain": [
              "(3, 1)"
            ]
          },
          "metadata": {},
          "execution_count": 363
        }
      ]
    },
    {
      "cell_type": "markdown",
      "metadata": {
        "id": "U2vdhzXYkX0L"
      },
      "source": [
        "## **We can conclude that the LightGBM model along with Optuna tuning is not the right way to go for this model as the final outputs are only 3 that can be seen. A better classifier model can be used to finalize on the potential customers for the Caravan Insurance Challenge**"
      ]
    }
  ]
}